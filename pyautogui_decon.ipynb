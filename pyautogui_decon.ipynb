{
 "cells": [
  {
   "cell_type": "code",
   "execution_count": null,
   "id": "74ee6a37-0c70-42f0-a003-624f829ec34f",
   "metadata": {},
   "outputs": [],
   "source": []
  },
  {
   "cell_type": "code",
   "execution_count": 2,
   "id": "2eaaf629-32ab-4cde-82de-74345d04425f",
   "metadata": {},
   "outputs": [],
   "source": [
    "import pyautogui"
   ]
  },
  {
   "cell_type": "code",
   "execution_count": 10,
   "id": "325fe66e-5ddc-4d53-a8a2-155458be7c7c",
   "metadata": {},
   "outputs": [
    {
     "data": {
      "text/html": [
       "<pre style=\"white-space:pre;overflow-x:auto;line-height:normal;font-family:Menlo,'DejaVu Sans Mono',consolas,'Courier New',monospace\"><span style=\"color: #800080; text-decoration-color: #800080; font-weight: bold\">Size</span><span style=\"font-weight: bold\">(</span><span style=\"color: #808000; text-decoration-color: #808000\">width</span>=<span style=\"color: #008080; text-decoration-color: #008080; font-weight: bold\">2736</span>, <span style=\"color: #808000; text-decoration-color: #808000\">height</span>=<span style=\"color: #008080; text-decoration-color: #008080; font-weight: bold\">1824</span><span style=\"font-weight: bold\">)</span>\n",
       "</pre>\n"
      ],
      "text/plain": [
       "\u001b[1;35mSize\u001b[0m\u001b[1m(\u001b[0m\u001b[33mwidth\u001b[0m=\u001b[1;36m2736\u001b[0m, \u001b[33mheight\u001b[0m=\u001b[1;36m1824\u001b[0m\u001b[1m)\u001b[0m\n"
      ]
     },
     "metadata": {},
     "output_type": "display_data"
    }
   ],
   "source": [
    "size = pyautogui.size()\n",
    "print(size)"
   ]
  },
  {
   "cell_type": "code",
   "execution_count": 13,
   "id": "2c2b76f6-1505-4f71-9ae1-b76d0d15bc49",
   "metadata": {},
   "outputs": [
    {
     "data": {
      "text/html": [
       "<pre style=\"white-space:pre;overflow-x:auto;line-height:normal;font-family:Menlo,'DejaVu Sans Mono',consolas,'Courier New',monospace\"><span style=\"color: #800080; text-decoration-color: #800080; font-weight: bold\">Point</span><span style=\"font-weight: bold\">(</span><span style=\"color: #808000; text-decoration-color: #808000\">x</span>=<span style=\"color: #008080; text-decoration-color: #008080; font-weight: bold\">1009</span>, <span style=\"color: #808000; text-decoration-color: #808000\">y</span>=<span style=\"color: #008080; text-decoration-color: #008080; font-weight: bold\">377</span><span style=\"font-weight: bold\">)</span>\n",
       "</pre>\n"
      ],
      "text/plain": [
       "\u001b[1;35mPoint\u001b[0m\u001b[1m(\u001b[0m\u001b[33mx\u001b[0m=\u001b[1;36m1009\u001b[0m, \u001b[33my\u001b[0m=\u001b[1;36m377\u001b[0m\u001b[1m)\u001b[0m\n"
      ]
     },
     "metadata": {},
     "output_type": "display_data"
    }
   ],
   "source": [
    "print(pyautogui.position())"
   ]
  },
  {
   "cell_type": "code",
   "execution_count": 198,
   "id": "daff6211-4fb0-411b-a34b-4c5fd2c8f667",
   "metadata": {},
   "outputs": [],
   "source": [
    "import time\n",
    "def change_column_width(width: float):\n",
    "    pyautogui.moveTo(550, 510)\n",
    "    pyautogui.click()\n",
    "    pyautogui.press('backspace', interval = 0.25)\n",
    "    pyautogui.click()\n",
    "    for char in str(width):\n",
    "        pyautogui.press(char)\n",
    "    else:\n",
    "        pyautogui.press('tab')\n",
    "        \n",
    "def change_column_thickness(thickness: float):\n",
    "    pyautogui.moveTo(550, 460)\n",
    "    pyautogui.click()\n",
    "    pyautogui.press('backspace', interval = 0.25)\n",
    "    # pyautogui.click()\n",
    "    for char in str(thickness):\n",
    "        pyautogui.press(char)\n",
    "    else:\n",
    "        pyautogui.press('tab')\n",
    "        \n",
    "def press_calculate(interval: float = None):\n",
    "    pyautogui.moveTo(75, 175)\n",
    "    pyautogui.click()\n",
    "\n",
    "def new_project():\n",
    "    pyautogui.moveTo(80, 20)\n",
    "    pyautogui.click()\n",
    "    \n",
    "def click_yes():\n",
    "    pyautogui.moveTo(1300, 950)\n",
    "    pyautogui.click()\n",
    "    pyautogui.click()\n",
    "    \n",
    "def project_name_and_save(name = \"name\"):\n",
    "    name = name + \".jdac\"\n",
    "    pyautogui.moveTo(800, 670)\n",
    "    pyautogui.click()\n",
    "    pyautogui.click()\n",
    "    pyautogui.write(name)\n",
    "    pyautogui.moveTo(900, 825)\n",
    "    pyautogui.click()"
   ]
  },
  {
   "cell_type": "code",
   "execution_count": 200,
   "id": "ba653440-76d5-4476-bbbf-41407e0fc0c1",
   "metadata": {},
   "outputs": [],
   "source": [
    "col_sizes = {\n",
    "    \"col_24x24\": (24, 24),\n",
    "    \"col_24x36\": (24, 36),\n",
    "    \"col_36x36\": (36, 36)\n",
    "}\n",
    "\n",
    "for label, size in col_sizes.items():\n",
    "    thickness, width = size\n",
    "    change_column_thickness(thickness)\n",
    "    change_column_width(width)\n",
    "    press_calculate()\n",
    "    time.sleep(2)\n",
    "    new_project()\n",
    "    click_yes()\n",
    "    project_name_and_save(label)\n",
    "    time.sleep(2)"
   ]
  },
  {
   "cell_type": "code",
   "execution_count": 193,
   "id": "8e974321-c00a-4c91-a6ff-4e89bf8bbe01",
   "metadata": {},
   "outputs": [],
   "source": [
    "project_name_and_save()"
   ]
  },
  {
   "cell_type": "code",
   "execution_count": 167,
   "id": "e46a9943-5138-482f-bb0c-cfa5f6aead08",
   "metadata": {},
   "outputs": [],
   "source": [
    "click_yes()"
   ]
  },
  {
   "cell_type": "code",
   "execution_count": 153,
   "id": "fd81f6a8-3013-41af-90c3-4b469c3522a5",
   "metadata": {},
   "outputs": [],
   "source": [
    "new_project()"
   ]
  },
  {
   "cell_type": "code",
   "execution_count": 119,
   "id": "abd43740-e5ea-425f-9c6d-5bb3ea0c5be5",
   "metadata": {},
   "outputs": [],
   "source": [
    "change_column_thickness(7.0)\n",
    "change_column_width(14.5)\n"
   ]
  },
  {
   "cell_type": "code",
   "execution_count": 7,
   "id": "d26ea560-6aac-4a77-a892-d2759153b964",
   "metadata": {},
   "outputs": [],
   "source": [
    "pyautogui.click()\n",
    "pyautogui.doubleClick()"
   ]
  },
  {
   "cell_type": "code",
   "execution_count": 15,
   "id": "db0ff3a2-30cb-4810-aa7f-2eef92732bca",
   "metadata": {},
   "outputs": [],
   "source": [
    "pyautogui.write('Hello world!', interval=0.25)"
   ]
  },
  {
   "cell_type": "raw",
   "id": "2faa815e-d519-4ec4-841a-8ab6524d2414",
   "metadata": {},
   "source": [
    "pyautogui.press("
   ]
  },
  {
   "cell_type": "code",
   "execution_count": null,
   "id": "ae8795f0-1291-4d83-b530-5298ef96f643",
   "metadata": {},
   "outputs": [],
   "source": []
  }
 ],
 "metadata": {
  "kernelspec": {
   "display_name": "Python 3 (ipykernel)",
   "language": "python",
   "name": "python3"
  },
  "language_info": {
   "codemirror_mode": {
    "name": "ipython",
    "version": 3
   },
   "file_extension": ".py",
   "mimetype": "text/x-python",
   "name": "python",
   "nbconvert_exporter": "python",
   "pygments_lexer": "ipython3",
   "version": "3.9.7"
  }
 },
 "nbformat": 4,
 "nbformat_minor": 5
}
