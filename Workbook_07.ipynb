{
  "cells": [
    {
      "cell_type": "code",
      "source": [
        "import pathlib\n",
        "from dataclasses import dataclass\n",
        "from typing import NamedTuple\n",
        "import math"
      ],
      "outputs": [],
      "execution_count": 2,
      "metadata": {},
      "id": "6579beb6-0906-4175-bc92-f36d401f4692"
    },
    {
      "cell_type": "markdown",
      "source": [
        "# Workbook 07\n",
        "\n",
        "Using the data files provided, create an analysis program using the template provided as a general guide. THere are three data sets to choose from:\n",
        "\n",
        "1. Zurich dogs\n",
        "2. UFO Sightings\n",
        "3. NASA Asteriods\n",
        "\n",
        "Take a look at a data set(s) that interest you and think of a research question that might interest you, e.g. \"Do certain countries tend to see different shapes of UFOs?\"\n",
        "\n",
        "Once you have your research question, proceed with designing the program so that you may answer your research question"
      ],
      "metadata": {},
      "id": "f95ffee6-d6ff-4b7e-a810-7dd1523fdde0"
    },
    {
      "cell_type": "code",
      "source": [
        "data_dir = pathlib.Path.cwd() / \"Data\""
      ],
      "outputs": [],
      "execution_count": null,
      "metadata": {},
      "id": "62f67d5c-89ce-4360-a410-bd6ddb008267"
    }
  ],
  "metadata": {
    "kernelspec": {
      "display_name": "Python 3",
      "language": "python",
      "name": "python3"
    },
    "language_info": {
      "codemirror_mode": {
        "name": "ipython",
        "version": 3
      },
      "file_extension": ".py",
      "mimetype": "text/x-python",
      "name": "python",
      "nbconvert_exporter": "python",
      "pygments_lexer": "ipython3",
      "version": "3.8.8"
    },
    "nteract": {
      "version": "0.28.0"
    }
  },
  "nbformat": 4,
  "nbformat_minor": 5
}