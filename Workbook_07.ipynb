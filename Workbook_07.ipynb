{
 "cells": [
  {
   "cell_type": "code",
   "execution_count": 1,
   "metadata": {},
   "outputs": [],
   "source": [
    "import handcalcs.render\n",
    "import forallpeople\n",
    "forallpeople.environment('structural', top_level=True)"
   ]
  },
  {
   "cell_type": "markdown",
   "metadata": {},
   "source": [
    "# Workbook 07: Designing your own calculation tools👩‍🎤👨‍🎨\n",
    "\n"
   ]
  },
  {
   "attachments": {
    "b890dd3b-2d4a-437e-81da-e94a794f6b29.png": {
     "image/png": "[encoded data removed]"
    }
   },
   "cell_type": "markdown",
   "metadata": {},
   "source": [
    "# Task A\n",
    "\n",
    "1. Create a new `.py` file called `calcs.py`. This will be your module.\n",
    "\n",
    "2. In the file, design a function called `title_block`. The function will take at least three parameters: `project_name`, `project_id`, `designer` (it can also take more values, if you like). Using `IPython.display` write a function that will display a title block that you can use for your calculations. \n",
    "\n",
    "The implementation of your title_block can be similar to the ones I showed in the lesson and the examples but it cannot be _the exact same_. Add a slightly different style to it. Try using other markdown tags. \n",
    "\n",
    "For quick help on Markdown, use the `Help` menu bar:\n",
    "\n",
    "![image.png](attachment:b890dd3b-2d4a-437e-81da-e94a794f6b29.png)\n",
    "\n",
    "3. Import your title block function in the cell below and call your title block function to see it work. You will want to do `from calcs import title_block`."
   ]
  },
  {
   "cell_type": "markdown",
   "metadata": {},
   "source": [
    "## Task A Response"
   ]
  },
  {
   "cell_type": "code",
   "execution_count": null,
   "metadata": {},
   "outputs": [],
   "source": []
  },
  {
   "cell_type": "markdown",
   "metadata": {},
   "source": [
    "# Task B\n",
    "\n",
    "In the same `calcs.py` file, design three functions with the following names: `LC1`, `LC2`, `LC3`. These functions will accept values for `DL`, `LL`, and `SL` (as required) and will return a value reflecting the factored load as per the following load cases:\n",
    "\n",
    "* LC1 = 1.4 * DL\n",
    "* LC2 = 1.25 * DL + 1.5 * LL + 1.0 * SL\n",
    "* LC3 = 1.25 * DL + 1.5 * SL + 1.0 * LL\n",
    "\n",
    "Each function will be decorated with the `@handcalc(jupyter_display=True)` decorator (be sure to import it into your module, first).\n",
    "\n",
    "Design a fourth function in your module, `NBCC2015_max`, that will accept three arguments: `DL`, `LL`, and `SL`. \n",
    "\n",
    "This module will run the other three functions and do two things:\n",
    "\n",
    "1. It will return the value of the maximum of the three load cases\n",
    "2. It will display, in markdown, the name of the maximum load case (either \"LC1\" or \"LC2\" or \"LC3\")\n",
    "\n",
    "**Last,** call your `NBCC2015_max` function in the cell below and visually validate whether or it is giving the correct output for your inputs of `DL`, `LL`, `SL`.\n",
    "\n",
    "Hint: Dictionaries may be useful for this task\n",
    "\n",
    "**Bonus** Now, instead of passing in just floats, try adding units to your DL, LL, SL by multiplying your values by some units, e.g. `DL = 3.2 * kPa` or `LL = 24 * psf` and see what the results are."
   ]
  },
  {
   "cell_type": "markdown",
   "metadata": {},
   "source": [
    "## Task B Response"
   ]
  },
  {
   "cell_type": "code",
   "execution_count": null,
   "metadata": {},
   "outputs": [],
   "source": []
  },
  {
   "cell_type": "markdown",
   "metadata": {},
   "source": [
    "## Task C\n",
    "\n",
    "Create a new notebook called `Steel Plate - Flexural Design` and create a calculation script for calculating the resistance of a steel plate in bending about the strong axis. Treat this notebook as though you would actually use it in production so be sure to include all of the calculation steps you would need (e.g. class checks, etc.)\n",
    "\n",
    "Be sure to import your new `calcs` module so you can use your new `title_block` function and , if you want, your `NBCC2015_max` function.\n",
    "\n",
    "Your notebook will have to perform all of the appropriate imports for all of the modules you want to use and you __must__ include several markdown cells to walk the reader through your calculation.\n",
    "\n",
    "I _recommend_ having all of your inputs in a separate cell near the top that does not get rendered but you can do things however you like. "
   ]
  },
  {
   "cell_type": "markdown",
   "metadata": {},
   "source": [
    "### Task C Response will be in your new notebook."
   ]
  },
  {
   "cell_type": "markdown",
   "metadata": {},
   "source": [
    "# Submit Workbook 07 🚁\n",
    "\n",
    "When you submit your Workbook 07, include the following files:\n",
    "1. This notebook\n",
    "2. Your `calcs.py` module\n",
    "3. Your new notebook\n",
    "\n",
    "Send it in an email with the subject line `Workbook_07 Submission` to `cferster@rjc.ca`"
   ]
  },
  {
   "cell_type": "code",
   "execution_count": null,
   "metadata": {},
   "outputs": [],
   "source": []
  }
 ],
 "metadata": {
  "kernelspec": {
   "display_name": "Python 3 (ipykernel)",
   "language": "python",
   "name": "python3"
  },
  "language_info": {
   "codemirror_mode": {
    "name": "ipython",
    "version": 3
   },
   "file_extension": ".py",
   "mimetype": "text/x-python",
   "name": "python",
   "nbconvert_exporter": "python",
   "pygments_lexer": "ipython3",
   "version": "3.9.7"
  }
 },
 "nbformat": 4,
 "nbformat_minor": 4
}
