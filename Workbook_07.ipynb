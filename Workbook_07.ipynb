{
 "cells": [
  {
   "cell_type": "code",
   "execution_count": null,
   "metadata": {},
   "outputs": [],
   "source": [
    "from dataclasses import dataclass\n",
    "from typing import Optional\n",
    "import ipytest\n",
    "ipytest.autoconfig()"
   ]
  },
  {
   "cell_type": "code",
   "execution_count": null,
   "metadata": {},
   "outputs": [],
   "source": [
    "from matplotlib import pyplot"
   ]
  },
  {
   "cell_type": "markdown",
   "metadata": {},
   "source": [
    "# Workbook 7 - Designing Data; Part 2\n"
   ]
  },
  {
   "cell_type": "markdown",
   "metadata": {},
   "source": [
    "# Task A\n",
    "\n",
    "Design a datatype to describe the shape of a rectangle. It should have the following attributes:\n",
    "\n",
    "* `origin` - a tuple to represent an x, y coordinate\n",
    "* `width`\n",
    "* `height`\n",
    "* `color` - Optional. A string representing one of the [matplotlib colors](matplotlib_colors.ipynb)\n",
    "\n",
    "Create two rectangles of any size and color and assign them each to a variable.\n",
    "\n",
    "Print your two rectangles to the notebook."
   ]
  },
  {
   "cell_type": "markdown",
   "metadata": {},
   "source": [
    "## Task A response"
   ]
  },
  {
   "cell_type": "code",
   "execution_count": null,
   "metadata": {
    "tags": []
   },
   "outputs": [],
   "source": []
  },
  {
   "cell_type": "markdown",
   "metadata": {},
   "source": [
    "### Reviewer Comments"
   ]
  },
  {
   "cell_type": "code",
   "execution_count": null,
   "metadata": {},
   "outputs": [],
   "source": []
  },
  {
   "cell_type": "markdown",
   "metadata": {},
   "source": [
    "# Task B\n",
    "\n",
    "Copy and paste your `Rectangle` data definition into the cell below.\n",
    "\n",
    "Create two \"methods\" (functions) under the class definition with the following names:\n",
    "1. `x`\n",
    "2. `y`\n",
    "\n",
    "Each method will only take one parameter called `self` (e.g. `def x(self):`). The parameter `self` means your data type will have access to the data contained within itself (i.e. `self.origin`, `self.width`, `self.height`, and `self.color`).\n",
    "\n",
    "The functions should each return a list of numbers representing, in either clockwise or anti-clockwise order (you choose), the coordinates of your rectangle based on the data in the data definition used to describe it. The function `x` will return the list of x-ordinates. The function `y` will return the list of y-ordinates.\n",
    "\n",
    "Note, the lists returned by each function should be exactly _five_ elements long (four coordinates in order + back to the original coordinate).\n",
    "    \n",
    "As usual for writing a function, be sure to write a complete function signature (with output types), docstring, and tests.\n",
    "\n",
    "Copy and paste your two example rectangles from **Task A** and run them at the bottom of your \"response\" cell.\n",
    "\n",
    "Try calling the methods on each of them to see what the results look like. "
   ]
  },
  {
   "cell_type": "markdown",
   "metadata": {},
   "source": [
    "## Task B response"
   ]
  },
  {
   "cell_type": "code",
   "execution_count": null,
   "metadata": {},
   "outputs": [],
   "source": []
  },
  {
   "cell_type": "markdown",
   "metadata": {},
   "source": [
    "## Task B tests"
   ]
  },
  {
   "cell_type": "code",
   "execution_count": null,
   "metadata": {},
   "outputs": [],
   "source": []
  },
  {
   "cell_type": "markdown",
   "metadata": {},
   "source": [
    "### Reviewer comments"
   ]
  },
  {
   "cell_type": "code",
   "execution_count": null,
   "metadata": {},
   "outputs": [],
   "source": []
  },
  {
   "cell_type": "markdown",
   "metadata": {},
   "source": [
    "# Task C\n",
    "\n",
    "Copy and paste your data definition (and methods) from **Task B** into the cell below.\n",
    "\n",
    "Add another `Rectangle` data definition called `show`. This method also only takes `self` as a parameter.\n",
    "\n",
    "The method `show` should plot your rectangle using `matplotlib.pyplot` as shown in the Lesson 06 reference. You can use a keyword argument in `pyplot.plot()` to set the color with the color in your rectangle. Remember, you can use `pyplot.axis('equal')` to make the axes, well, equal!\n",
    "\n",
    "Because this method only returns `None`, you do not need to write a test for it."
   ]
  },
  {
   "cell_type": "markdown",
   "metadata": {},
   "source": [
    "## Task C response"
   ]
  },
  {
   "cell_type": "code",
   "execution_count": null,
   "metadata": {},
   "outputs": [],
   "source": []
  },
  {
   "cell_type": "markdown",
   "metadata": {},
   "source": [
    "### Reviewer comments"
   ]
  },
  {
   "cell_type": "code",
   "execution_count": null,
   "metadata": {},
   "outputs": [],
   "source": []
  },
  {
   "cell_type": "markdown",
   "metadata": {},
   "source": [
    "# Task D"
   ]
  },
  {
   "cell_type": "markdown",
   "metadata": {},
   "source": [
    "Copy and paste your data definition (and methods) from **Task C** into the cell below.\n",
    "\n",
    "Add one last method to your `Rectangle` data definition called `show_two`. _This_ method takes two parameters: the first is `self`, the second is a `Rectangle` type that you could call `other`.\n",
    "\n",
    "The method plots the original rectangle and then the other rectangle on the same plot. Because the method returns `None`, there is no need to write tests for this method.\n",
    "\n",
    "Try creating two `Rectangle` objects and using `.show_two` like this: `rect_1.show_two(rect_2)`."
   ]
  },
  {
   "cell_type": "markdown",
   "metadata": {},
   "source": [
    "## Task D response"
   ]
  },
  {
   "cell_type": "code",
   "execution_count": null,
   "metadata": {},
   "outputs": [],
   "source": []
  },
  {
   "cell_type": "markdown",
   "metadata": {},
   "source": [
    "### Reviewer Comments"
   ]
  },
  {
   "cell_type": "code",
   "execution_count": null,
   "metadata": {},
   "outputs": [],
   "source": []
  },
  {
   "cell_type": "markdown",
   "metadata": {},
   "source": [
    "# Task E\n",
    "\n",
    "For your last task, design a standalone function called `check_overlap` that takes two `Rectangle` objects as parameters. \n",
    "\n",
    "Lets define \"overlap\" as being any time two rectangles are touching in any way, whether the two are touching at just one point, on an edge, or one is fully contained in the other.\n",
    "\n",
    "The function should return `True` if the two rectangles overlap and `False` otherwise."
   ]
  },
  {
   "cell_type": "markdown",
   "metadata": {},
   "source": [
    "## Task E response"
   ]
  },
  {
   "cell_type": "code",
   "execution_count": null,
   "metadata": {},
   "outputs": [],
   "source": []
  },
  {
   "cell_type": "markdown",
   "metadata": {},
   "source": [
    "## Task E tests"
   ]
  },
  {
   "cell_type": "code",
   "execution_count": null,
   "metadata": {},
   "outputs": [],
   "source": []
  },
  {
   "cell_type": "markdown",
   "metadata": {},
   "source": [
    "# Submit Workbook 07\n",
    "\n",
    "In this workbook, you started by defining a `Rectangle` data type with only three attributes: `origin`, `width`, `height`. You only explicitly defined one coordinate.\n",
    "\n",
    "1. By creating the _methods_ `x`, `y`, it became easy to design other methods (like `show` and `show_two`) without having to do very much work\n",
    "2. By creating the method `show_two` it allowed us to more easily write the `check_overlap` function because you could _see_ if two shapes overlap and should return either `True` or `False`\n",
    "3. You have gotten a taste of a different kind of approach to creating programs. In **Workbook 05** you created a series of functions that kind of worked like a pipeline to process data from a file into a desired output. In this workbook, you got a taste of \"object oriented programming\" where you:\n",
    "    1. Created the `Rectangle` _class_ of objects and then used the class to create rectangles with different data in them.\n",
    "    2. Designed a method called `show_two` which _composed_ objects together to create a useful output\n",
    "    3. Designed a function that operates on your objects which was probably easier than writing a function that operated on lists of numbers that representing rectangles.\n",
    "\n",
    "Next week, you are going to design an interactive web interface in Jupyter (complete with text entry boxes, sliders, dropdowns, etc.) which you can use to interact with either sympy `Beam` objects or your `Rectangles`.\n",
    "\n",
    "For now, email your completed workbook to me at `cferster@rjc.ca` with the subject line `Workbook 06 Submission`\n"
   ]
  },
  {
   "cell_type": "markdown",
   "metadata": {},
   "source": [
    "---"
   ]
  },
  {
   "cell_type": "markdown",
   "metadata": {},
   "source": [
    "# Task F (Bonus - not required)\n",
    "\n",
    "Design a function called `check_strict_overlap` that is similar to `check_overlap` except it returns `False` if the rectangles are touching at a single point, touching on an edge, or are completely disjoint. Returns `True` otherwise.\n",
    "\n",
    "There are a lot of test cases to check with this one so, if you want to do the bonus, I have included a test suite you can run to check if your `check_strict_overlap` can pass all of the tests."
   ]
  },
  {
   "cell_type": "code",
   "execution_count": null,
   "metadata": {},
   "outputs": [],
   "source": []
  },
  {
   "cell_type": "markdown",
   "metadata": {},
   "source": [
    "## Bonus test suite"
   ]
  },
  {
   "cell_type": "code",
   "execution_count": null,
   "metadata": {},
   "outputs": [],
   "source": [
    "def test_strict_overlap():\n",
    "    # N touch\n",
    "    rect_1 = Rectangle((0, 0), 15.3, 20, \"red\")\n",
    "    rect_2 = Rectangle((0, 20), 20, 20, 'teal')\n",
    "    assert check_strict_overlap(rect_1, rect_2) == False\n",
    "\n",
    "    # NE corner touch\n",
    "    rect_1 = Rectangle((0, 0), 15.3, 20, \"red\")\n",
    "    rect_2 = Rectangle((15.3, 20), 20, 20, 'teal')\n",
    "    assert check_strict_overlap(rect_1, rect_2) == False\n",
    "\n",
    "    # E touch\n",
    "    rect_1 = Rectangle((0, 0), 15.3, 20, \"red\")\n",
    "    rect_2 = Rectangle((15.3, 0), 20, 20, 'teal')\n",
    "    assert check_strict_overlap(rect_1, rect_2) == False\n",
    "\n",
    "    # SE corner touch\n",
    "    rect_1 = Rectangle((0, 0), 15.3, 20, \"red\")\n",
    "    rect_2 = Rectangle((15.3, -20), 20, 20, 'teal')\n",
    "    assert check_strict_overlap(rect_1, rect_2) == False\n",
    "\n",
    "    # S touch\n",
    "    rect_1 = Rectangle((0, 0), 15.3, 20, \"red\")\n",
    "    rect_2 = Rectangle((0, -20), 20, 20, 'teal')\n",
    "    assert check_strict_overlap(rect_1, rect_2) == False\n",
    "\n",
    "    # SW touch\n",
    "    rect_1 = Rectangle((0, 0), 15.3, 20, \"red\")\n",
    "    rect_2 = Rectangle((-20, -20), 20, 20, 'teal')\n",
    "    assert check_strict_overlap(rect_1, rect_2) == False\n",
    "\n",
    "    # W touch\n",
    "    rect_1 = Rectangle((0, 0), 15.3, 20, \"red\")\n",
    "    rect_2 = Rectangle((-20, 0), 20, 20, 'teal')\n",
    "    assert check_strict_overlap(rect_1, rect_2) == False\n",
    "\n",
    "    # NW touch\n",
    "    rect_1 = Rectangle((0, 0), 15.3, 20, \"red\")\n",
    "    rect_2 = Rectangle((-20, 20), 20, 20, 'teal')\n",
    "    assert check_strict_overlap(rect_1, rect_2) == False\n",
    "\n",
    "    # 2 contains 1\n",
    "    rect_1 = Rectangle((-19, 1), 14, 18, \"red\")\n",
    "    rect_2 = Rectangle((-20, 0), 20, 20, 'teal')\n",
    "    assert check_strict_overlap(rect_1, rect_2) == True\n",
    "    \n",
    "    # 1 contains 2\n",
    "    rect_1 = Rectangle((-19, 1), 14, 18, \"red\")\n",
    "    rect_2 = Rectangle((-20, 0), 20, 20, 'teal')\n",
    "    assert check_strict_overlap(rect_1, rect_2) == True\n",
    "\n",
    "    # Disjoint\n",
    "    rect_1 = Rectangle((200, 200), 14, 18, \"red\")\n",
    "    rect_2 = Rectangle((-20, 0), 20, 20, 'teal')\n",
    "    assert check_strict_overlap(rect_1, rect_2) == False\n",
    "    \n",
    "    # Typical\n",
    "    rect_1 = Rectangle((-10, -5), 14, 18, \"red\")\n",
    "    rect_2 = Rectangle((-20, 0), 20, 20, 'teal')\n",
    "    assert check_overlap(rect_1, rect_2) == True\n",
    "    \n",
    "#  ipytest.run() # Uncomment to run this test"
   ]
  },
  {
   "cell_type": "code",
   "execution_count": null,
   "metadata": {},
   "outputs": [],
   "source": []
  }
 ],
 "metadata": {
  "kernelspec": {
   "display_name": "Python 3 (ipykernel)",
   "language": "python",
   "name": "python3"
  },
  "language_info": {
   "codemirror_mode": {
    "name": "ipython",
    "version": 3
   },
   "file_extension": ".py",
   "mimetype": "text/x-python",
   "name": "python",
   "nbconvert_exporter": "python",
   "pygments_lexer": "ipython3",
   "version": "3.9.7"
  }
 },
 "nbformat": 4,
 "nbformat_minor": 4
}
