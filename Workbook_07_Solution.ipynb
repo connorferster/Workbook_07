{
 "cells": [
  {
   "cell_type": "markdown",
   "id": "5d220820-10c7-466f-a1a5-c6c17f891c48",
   "metadata": {},
   "source": [
    "# Workbook 07 Solution: UFOs by country and shape"
   ]
  },
  {
   "cell_type": "code",
   "execution_count": 3,
   "id": "fa1aadad-f356-4f29-a1c0-8fc096407469",
   "metadata": {},
   "outputs": [],
   "source": [
    "from typing import List\n",
    "import pathlib\n",
    "import csv\n",
    "# import plotly.express as px\n",
    "from cs103 import *"
   ]
  },
  {
   "cell_type": "markdown",
   "id": "72690cfd-048c-40b0-a1e6-0411a4ed2339",
   "metadata": {},
   "source": [
    "## Question\n",
    "\n",
    "Do different countries show different trends for UFO sightings of different shapes? It would be interesting to compare histograms of sightings filtered by country and shape."
   ]
  },
  {
   "cell_type": "markdown",
   "id": "d2ee3a88-8786-44bc-ae7f-6924f4500253",
   "metadata": {},
   "source": [
    "# Functions"
   ]
  },
  {
   "cell_type": "code",
   "execution_count": 6,
   "id": "61d04395-3b92-4cc1-a313-377c19130b4a",
   "metadata": {},
   "outputs": [
    {
     "name": "stdout",
     "output_type": "stream",
     "text": [
      "\u001b[92m2 of 2 tests passed\u001b[0m\n"
     ]
    }
   ],
   "source": [
    "def read_data(csv_file_path: pathlib.Path) -> List[List[str]]:\n",
    "    \"\"\"\n",
    "    Returns a list of lists, representing each line in the file, at 'csv_file_path'.\n",
    "    \"\"\"\n",
    "    with open(csv_file_path, encoding=\"utf-8\") as file:\n",
    "        csv_data = list(csv.reader(file, delimiter=\",\"))\n",
    "    csv_data_without_header_row = csv_data[1:]\n",
    "    return csv_data_without_header_row\n",
    "\n",
    "record_00 =['10/10/1949 20:30','san marcos','tx','us','cylinder','2700','This event took place in early fall around 1949-50. It occurred after a Boy Scout meeting in the Baptist Church. The Baptist Church sit','4/27/2004','29.8830556','-97.9411111']\n",
    "record_500 = ['10/1/1966 23:00','corvallis','or','us','disk','120','Saucer with no sound flew 100 feet above ground&#44 changed direction then left atmosphere in a split second.','12/16/1999','44.5647222','-123.2608333']\n",
    "\n",
    "ufo_data = pathlib.Path.cwd() / \"Data\" / \"ufos.csv\"\n",
    "\n",
    "start_testing()\n",
    "expect(read_data(ufo_data)[0], record_00)\n",
    "expect(read_data(ufo_data)[500], record_500)\n",
    "summary()"
   ]
  },
  {
   "cell_type": "code",
   "execution_count": 7,
   "id": "6f948376-5c79-45e8-810e-dc7b9a55a082",
   "metadata": {},
   "outputs": [],
   "source": [
    "from typing import NamedTuple, Optional\n",
    "\n",
    "class UFOSighting(NamedTuple):\n",
    "    year: int\n",
    "    country: Optional[str] # sometimes this field is empty\n",
    "    shape: str\n",
    "\n",
    "\n",
    "# Interp. A single UFO sighting\n",
    "# year: The year of the sighting\n",
    "# country: The country where the observer saw the UFO as a two-character string, e.g. 'us', 'ca', 'jp', 'mx'\n",
    "# shape: The perceived shape of the object\n",
    "\n",
    "# Examples\n",
    "UFOS1 = UFOSighting(1949, \"us\", \"cylinder\")\n",
    "UFOS2 = UFOSighting(1966, \"us\", \"disk\")"
   ]
  },
  {
   "cell_type": "code",
   "execution_count": 8,
   "id": "7a3ef7f5-7256-401b-b045-16b27e1ace72",
   "metadata": {},
   "outputs": [
    {
     "name": "stdout",
     "output_type": "stream",
     "text": [
      "\u001b[92m4 of 4 tests passed\u001b[0m\n"
     ]
    }
   ],
   "source": [
    "def csv_record_to_ufo_sighting(record: List[float]) -> UFOSighting:\n",
    "    \"\"\"\n",
    "    Returns a UFOSighting object representing the data in 'record'.\n",
    "    \"\"\"\n",
    "    year = convert_datetime_to_year(record[0]) # I have not written this function yet; I will just assume it\n",
    "    country = record[3]\n",
    "    shape = record[4]\n",
    "    return UFOSighting(year, country, shape)\n",
    "\n",
    "\n",
    "# Here is where I now write my helper function\n",
    "def convert_datetime_to_year(date_string: str) -> int:\n",
    "    \"\"\"\n",
    "    Returns an int representing the year in YYYY format that may be contained\n",
    "    within 'date_string'.\n",
    "    Assumes that 'date_string' is in the format \"DD/MM/YYYY HH:MM\".\n",
    "    Raise ValueError if the last four characters in the date cannot be\n",
    "    converted to an int.\n",
    "    \"\"\"\n",
    "    date, time = date_string.split(\" \")\n",
    "    year = date[-4:] # Get the last four characters\n",
    "    return int(year)\n",
    "\n",
    "## Testing section\n",
    "\n",
    "# From looking at the data a little bit, I saw that there were these date formats possible...\n",
    "date_0 = \"04/5/1975 10:00\"\n",
    "date_1 = \"04/05/2015 13:00\"\n",
    "\n",
    "start_testing()\n",
    "# Test convert_date_field...\n",
    "expect(convert_datetime_to_year(date_0), 1975)\n",
    "expect(convert_datetime_to_year(date_1), 2015)\n",
    "\n",
    "# Test csv_record_to_artwork...\n",
    "expect(csv_record_to_ufo_sighting(record_00), UFOS1)\n",
    "expect(csv_record_to_ufo_sighting(record_500), UFOS2)\n",
    "summary()"
   ]
  },
  {
   "cell_type": "code",
   "execution_count": 9,
   "id": "563f0291-0e67-4f44-a7f8-3019325a504a",
   "metadata": {},
   "outputs": [
    {
     "name": "stdout",
     "output_type": "stream",
     "text": [
      "\u001b[92m3 of 3 tests passed\u001b[0m\n"
     ]
    }
   ],
   "source": [
    "def csv_data_to_ufo_sightings(csv_data: List[List[str]]) -> List[UFOSighting]:\n",
    "    \"\"\"\n",
    "    Returns a list of UFOSighting objects representing the cleaned data from each \n",
    "    record contained within 'csv_data'.\n",
    "    \"\"\"\n",
    "    acc = []\n",
    "    for record in csv_data:\n",
    "        acc.append(csv_record_to_ufo_sighting(record))\n",
    "    return acc\n",
    "\n",
    "# Using the data from my previous tests, above, I will write a quick test for this function\n",
    "\n",
    "LOR0 = []\n",
    "LOR1 = [record_00]\n",
    "LOR2 = [record_00, record_500]\n",
    "\n",
    "\n",
    "LOUS0 = []\n",
    "LOUS1 = [UFOS1]\n",
    "LOUS2 = [UFOS1, UFOS2]\n",
    "LOUS3 = [UFOS1, UFOS2, UFOS1]\n",
    "\n",
    "start_testing()\n",
    "expect(csv_data_to_ufo_sightings(LOR0), LOUS0)\n",
    "expect(csv_data_to_ufo_sightings(LOR1), LOUS1)\n",
    "expect(csv_data_to_ufo_sightings(LOR2), LOUS2)\n",
    "summary()"
   ]
  },
  {
   "cell_type": "code",
   "execution_count": 12,
   "id": "50db8ef8-1b67-4a90-94d6-c9a63e01256f",
   "metadata": {},
   "outputs": [
    {
     "name": "stdout",
     "output_type": "stream",
     "text": [
      "\u001b[92m3 of 3 tests passed\u001b[0m\n"
     ]
    }
   ],
   "source": [
    "def filter_ufo_sightings_by_country(lous: List[UFOSighting], country: str) -> List[UFOSighting]:\n",
    "    \"\"\"\n",
    "    Returns a list of UFOSighting filtered by 'country'.\n",
    "    The 'country' is a two character string representing the country, \n",
    "    e.g. 'us', 'ca', 'jp', etc.\n",
    "    Returns an empty list if no matching values are found.\n",
    "    \"\"\"\n",
    "    acc = []\n",
    "    for us in lous:\n",
    "        if us.country == country.lower():\n",
    "            acc.append(us)\n",
    "    return acc\n",
    "\n",
    "# Tests\n",
    "\n",
    "start_testing()\n",
    "expect(filter_ufo_sightings_by_country(LOUS0, []), [])\n",
    "expect(filter_ufo_sightings_by_country(LOUS1, \"us\"), LOUS1)\n",
    "expect(filter_ufo_sightings_by_country(LOUS1, \"jp\"), []) # Test the \"unhappy path\"\n",
    "summary()"
   ]
  },
  {
   "cell_type": "code",
   "execution_count": 11,
   "id": "0b1e6900-9b50-4fc8-8fc2-24414b7048b6",
   "metadata": {},
   "outputs": [
    {
     "ename": "ModuleNotFoundError",
     "evalue": "No module named 'plotly'",
     "output_type": "error",
     "traceback": [
      "\u001b[1;31m---------------------------------------------------------------------------\u001b[0m",
      "\u001b[1;31mModuleNotFoundError\u001b[0m                       Traceback (most recent call last)",
      "\u001b[1;32m<ipython-input-11-88641e9c82cf>\u001b[0m in \u001b[0;36m<module>\u001b[1;34m\u001b[0m\n\u001b[1;32m----> 1\u001b[1;33m \u001b[1;32mimport\u001b[0m \u001b[0mplotly\u001b[0m\u001b[1;33m.\u001b[0m\u001b[0mexpress\u001b[0m \u001b[1;32mas\u001b[0m \u001b[0mpx\u001b[0m\u001b[1;33m\u001b[0m\u001b[1;33m\u001b[0m\u001b[0m\n\u001b[0m\u001b[0;32m      2\u001b[0m \u001b[1;33m\u001b[0m\u001b[0m\n\u001b[0;32m      3\u001b[0m \u001b[1;32mdef\u001b[0m \u001b[0mplot_ufo_sightings\u001b[0m\u001b[1;33m(\u001b[0m\u001b[0mlous\u001b[0m\u001b[1;33m:\u001b[0m \u001b[0mList\u001b[0m\u001b[1;33m[\u001b[0m\u001b[0mUFOSighting\u001b[0m\u001b[1;33m]\u001b[0m\u001b[1;33m)\u001b[0m \u001b[1;33m->\u001b[0m \u001b[1;32mNone\u001b[0m\u001b[1;33m:\u001b[0m\u001b[1;33m\u001b[0m\u001b[1;33m\u001b[0m\u001b[0m\n\u001b[0;32m      4\u001b[0m     \"\"\"\n\u001b[0;32m      5\u001b[0m     \u001b[0mReturns\u001b[0m \u001b[1;32mNone\u001b[0m\u001b[1;33m.\u001b[0m \u001b[0mPlots\u001b[0m \u001b[0mthe\u001b[0m \u001b[0mlist\u001b[0m \u001b[0mof\u001b[0m \u001b[0mArtWorks\u001b[0m \u001b[1;32mwith\u001b[0m \u001b[0mthe\u001b[0m \u001b[0mfollowing\u001b[0m \u001b[0maxes\u001b[0m\u001b[1;33m:\u001b[0m\u001b[1;33m\u001b[0m\u001b[1;33m\u001b[0m\u001b[0m\n",
      "\u001b[1;31mModuleNotFoundError\u001b[0m: No module named 'plotly'"
     ]
    }
   ],
   "source": [
    "import plotly.express as px\n",
    "\n",
    "def plot_ufo_sightings(lous: List[UFOSighting]) -> None:\n",
    "    \"\"\"\n",
    "    Returns None. Plots the list of ArtWorks with the following axes:\n",
    "    x = UFOSighting.year\n",
    "    y = A count of the number of UFOSighting\n",
    "    colour of marker = UFOSighting.shape\n",
    "    \"\"\"\n",
    "    x_data = [us.year for us in lous]\n",
    "    country = set([us.country for us in lous])\n",
    "    shape = set([us.shape for us in lous])\n",
    "        \n",
    "    # px.histogram automatically counts the frequency of years\n",
    "    # This save us from having to create separate y-axis data\n",
    "    # by manually counting up the number of occurrences of the years in the list\n",
    "    plot = px.histogram(\n",
    "        x=x_data, \n",
    "        title = f\"Sightings by year of {shape} shapes seen in the country {country}\"\n",
    "    )\n",
    "    \n",
    "    # display() is a special function that only works in Jupyter\n",
    "    # It's just like print() except it allows for rendering of rich media\n",
    "    display(plot) "
   ]
  },
  {
   "cell_type": "markdown",
   "id": "1459d375-8bb2-433a-ae03-4058d65a0100",
   "metadata": {},
   "source": [
    "# Analyze Data"
   ]
  },
  {
   "cell_type": "code",
   "execution_count": 13,
   "id": "2fa10a4f-1476-4561-b5f9-e0870dcf7162",
   "metadata": {},
   "outputs": [],
   "source": [
    "ufo_data = pathlib.Path.cwd() / \"Data\" / \"ufos.csv\"\n",
    "\n",
    "analyze_sightings(ufo_data, \"us\", \"disk\")\n",
    "analyze_sightings(ufo_data, \"us\", \"cylinder\")\n",
    "analyze_sightings(ufo_data, \"jp\", \"disk\")\n",
    "analyze_sightings(ufo_data, \"jp\", \"cylinder\")"
   ]
  }
 ],
 "metadata": {
  "kernelspec": {
   "display_name": "Python 3",
   "language": "python",
   "name": "python3"
  },
  "language_info": {
   "codemirror_mode": {
    "name": "ipython",
    "version": 3
   },
   "file_extension": ".py",
   "mimetype": "text/x-python",
   "name": "python",
   "nbconvert_exporter": "python",
   "pygments_lexer": "ipython3",
   "version": "3.8.8"
  }
 },
 "nbformat": 4,
 "nbformat_minor": 5
}
