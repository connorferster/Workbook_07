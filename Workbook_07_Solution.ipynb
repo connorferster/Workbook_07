{
 "cells": [
  {
   "cell_type": "markdown",
   "id": "5d220820-10c7-466f-a1a5-c6c17f891c48",
   "metadata": {},
   "source": [
    "# Workbook 07 Solution: UFOs by country and shape"
   ]
  },
  {
   "cell_type": "code",
   "execution_count": 1,
   "id": "fa1aadad-f356-4f29-a1c0-8fc096407469",
   "metadata": {},
   "outputs": [],
   "source": [
    "from typing import List\n",
    "import pathlib\n",
    "import csv\n",
    "import plotly.express as px\n",
    "from cs103 import *"
   ]
  },
  {
   "cell_type": "markdown",
   "id": "72690cfd-048c-40b0-a1e6-0411a4ed2339",
   "metadata": {},
   "source": [
    "## Question\n",
    "\n",
    "Do different countries show different trends for UFO sightings of different shapes? It would be interesting to compare histograms of sightings filtered by country and shape."
   ]
  },
  {
   "cell_type": "markdown",
   "id": "d2ee3a88-8786-44bc-ae7f-6924f4500253",
   "metadata": {},
   "source": [
    "# Functions"
   ]
  },
  {
   "cell_type": "code",
   "execution_count": 2,
   "id": "61d04395-3b92-4cc1-a313-377c19130b4a",
   "metadata": {},
   "outputs": [
    {
     "name": "stdout",
     "output_type": "stream",
     "text": [
      "\u001b[92m2 of 2 tests passed\u001b[0m\n"
     ]
    }
   ],
   "source": [
    "def read_data(csv_file_path: pathlib.Path) -> List[List[str]]:\n",
    "    \"\"\"\n",
    "    Returns a list of lists, representing each line in the file, at 'csv_file_path'.\n",
    "    \"\"\"\n",
    "    with open(csv_file_path, encoding=\"utf-8\") as file:\n",
    "        csv_data = list(csv.reader(file, delimiter=\",\"))\n",
    "    csv_data_without_header_row = csv_data[1:]\n",
    "    return csv_data_without_header_row\n",
    "\n",
    "record_00 =['10/10/1949 20:30','san marcos','tx','us','cylinder','2700','This event took place in early fall around 1949-50. It occurred after a Boy Scout meeting in the Baptist Church. The Baptist Church sit','4/27/2004','29.8830556','-97.9411111']\n",
    "record_500 = ['10/1/1966 23:00','corvallis','or','us','disk','120','Saucer with no sound flew 100 feet above ground&#44 changed direction then left atmosphere in a split second.','12/16/1999','44.5647222','-123.2608333']\n",
    "\n",
    "ufo_data = pathlib.Path.cwd() / \"Data\" / \"ufos.csv\"\n",
    "\n",
    "start_testing()\n",
    "expect(read_data(ufo_data)[0], record_00)\n",
    "expect(read_data(ufo_data)[500], record_500)\n",
    "summary()"
   ]
  },
  {
   "cell_type": "code",
   "execution_count": 3,
   "id": "6f948376-5c79-45e8-810e-dc7b9a55a082",
   "metadata": {},
   "outputs": [],
   "source": [
    "from typing import NamedTuple, Optional\n",
    "\n",
    "class UFOSighting(NamedTuple):\n",
    "    year: int\n",
    "    country: Optional[str] # sometimes this field is empty\n",
    "    shape: str\n",
    "\n",
    "\n",
    "# Interp. A single UFO sighting\n",
    "# year: The year of the sighting\n",
    "# country: The country where the observer saw the UFO as a two-character string, e.g. 'us', 'ca', 'jp', 'mx'\n",
    "# shape: The perceived shape of the object\n",
    "\n",
    "# Examples\n",
    "UFOS1 = UFOSighting(1949, \"us\", \"cylinder\")\n",
    "UFOS2 = UFOSighting(1966, \"us\", \"disk\")"
   ]
  },
  {
   "cell_type": "code",
   "execution_count": 4,
   "id": "7a3ef7f5-7256-401b-b045-16b27e1ace72",
   "metadata": {},
   "outputs": [
    {
     "name": "stdout",
     "output_type": "stream",
     "text": [
      "\u001b[92m4 of 4 tests passed\u001b[0m\n"
     ]
    }
   ],
   "source": [
    "def csv_record_to_ufo_sighting(record: List[float]) -> UFOSighting:\n",
    "    \"\"\"\n",
    "    Returns a UFOSighting object representing the data in 'record'.\n",
    "    \"\"\"\n",
    "    year = convert_datetime_to_year(record[0]) # I have not written this function yet; I will just assume it\n",
    "    country = record[3]\n",
    "    shape = record[4]\n",
    "    return UFOSighting(year, country, shape)\n",
    "\n",
    "\n",
    "# Here is where I now write my helper function\n",
    "def convert_datetime_to_year(date_string: str) -> int:\n",
    "    \"\"\"\n",
    "    Returns an int representing the year in YYYY format that may be contained\n",
    "    within 'date_string'.\n",
    "    Assumes that 'date_string' is in the format \"DD/MM/YYYY HH:MM\".\n",
    "    Raise ValueError if the last four characters in the date cannot be\n",
    "    converted to an int.\n",
    "    \"\"\"\n",
    "    date, time = date_string.split(\" \")\n",
    "    year = date[-4:] # Get the last four characters\n",
    "    return int(year)\n",
    "\n",
    "## Testing section\n",
    "\n",
    "# From looking at the data a little bit, I saw that there were these date formats possible...\n",
    "date_0 = \"04/5/1975 10:00\"\n",
    "date_1 = \"04/05/2015 13:00\"\n",
    "\n",
    "start_testing()\n",
    "# Test convert_date_field...\n",
    "expect(convert_datetime_to_year(date_0), 1975)\n",
    "expect(convert_datetime_to_year(date_1), 2015)\n",
    "\n",
    "# Test csv_record_to_artwork...\n",
    "expect(csv_record_to_ufo_sighting(record_00), UFOS1)\n",
    "expect(csv_record_to_ufo_sighting(record_500), UFOS2)\n",
    "summary()"
   ]
  },
  {
   "cell_type": "code",
   "execution_count": 5,
   "id": "563f0291-0e67-4f44-a7f8-3019325a504a",
   "metadata": {},
   "outputs": [
    {
     "name": "stdout",
     "output_type": "stream",
     "text": [
      "\u001b[92m3 of 3 tests passed\u001b[0m\n"
     ]
    }
   ],
   "source": [
    "def csv_data_to_ufo_sightings(csv_data: List[List[str]]) -> List[UFOSighting]:\n",
    "    \"\"\"\n",
    "    Returns a list of UFOSighting objects representing the cleaned data from each \n",
    "    record contained within 'csv_data'.\n",
    "    \"\"\"\n",
    "    acc = []\n",
    "    for record in csv_data:\n",
    "        acc.append(csv_record_to_ufo_sighting(record))\n",
    "    return acc\n",
    "\n",
    "# Using the data from my previous tests, above, I will write a quick test for this function\n",
    "\n",
    "LOR0 = []\n",
    "LOR1 = [record_00]\n",
    "LOR2 = [record_00, record_500]\n",
    "\n",
    "\n",
    "LOUS0 = []\n",
    "LOUS1 = [UFOS1]\n",
    "LOUS2 = [UFOS1, UFOS2]\n",
    "LOUS3 = [UFOS1, UFOS2, UFOS1]\n",
    "\n",
    "start_testing()\n",
    "expect(csv_data_to_ufo_sightings(LOR0), LOUS0)\n",
    "expect(csv_data_to_ufo_sightings(LOR1), LOUS1)\n",
    "expect(csv_data_to_ufo_sightings(LOR2), LOUS2)\n",
    "summary()"
   ]
  },
  {
   "cell_type": "code",
   "execution_count": 6,
   "id": "50db8ef8-1b67-4a90-94d6-c9a63e01256f",
   "metadata": {},
   "outputs": [
    {
     "name": "stdout",
     "output_type": "stream",
     "text": [
      "\u001b[92m3 of 3 tests passed\u001b[0m\n",
      "\u001b[92m4 of 4 tests passed\u001b[0m\n"
     ]
    }
   ],
   "source": [
    "def filter_ufo_sightings_by_country(lous: List[UFOSighting], country: str) -> List[UFOSighting]:\n",
    "    \"\"\"\n",
    "    Returns a list of UFOSighting filtered by 'country'.\n",
    "    The 'country' is a two character string representing the country, \n",
    "    e.g. 'us', 'ca', 'jp', etc.\n",
    "    Returns an empty list if no matching values are found.\n",
    "    \"\"\"\n",
    "    acc = []\n",
    "    for us in lous:\n",
    "        if us.country == country.lower():\n",
    "            acc.append(us)\n",
    "    return acc\n",
    "\n",
    "# Tests\n",
    "\n",
    "start_testing()\n",
    "expect(filter_ufo_sightings_by_country(LOUS0, []), [])\n",
    "expect(filter_ufo_sightings_by_country(LOUS1, \"us\"), LOUS1)\n",
    "expect(filter_ufo_sightings_by_country(LOUS1, \"jp\"), []) # Test the \"unhappy path\"\n",
    "summary()\n",
    "\n",
    "def filter_ufo_sightings_by_shape(lous: List[UFOSighting], shape: str) -> List[UFOSighting]:\n",
    "    \"\"\"\n",
    "    Returns a list of UFOSighting filtered by .year_created. If the .year_created attribute\n",
    "    matches 'year', then those UFOSighting objects will be returned in the list.\n",
    "    \"\"\"\n",
    "    acc = []\n",
    "    for us in lous:\n",
    "        if us.shape == shape:\n",
    "            acc.append(us)\n",
    "    return acc\n",
    "\n",
    "start_testing()\n",
    "expect(filter_ufo_sightings_by_shape(LOUS0, \"cylinder\"), [])\n",
    "expect(filter_ufo_sightings_by_shape(LOUS1, \"cylinder\"), [UFOS1])\n",
    "expect(filter_ufo_sightings_by_shape(LOUS2, \"disk\"), [UFOS2])\n",
    "expect(filter_ufo_sightings_by_shape(LOUS2, \"triangle\"), [])\n",
    "summary()"
   ]
  },
  {
   "cell_type": "code",
   "execution_count": 13,
   "id": "0b1e6900-9b50-4fc8-8fc2-24414b7048b6",
   "metadata": {},
   "outputs": [],
   "source": [
    "def plot_ufo_sightings(lous: List[UFOSighting]) -> None:\n",
    "    \"\"\"\n",
    "    Returns None. Plots the list of ArtWorks with the following axes:\n",
    "    x = UFOSighting.year\n",
    "    y = A count of the number of UFOSighting\n",
    "    colour of marker = UFOSighting.shape\n",
    "    \"\"\"\n",
    "    x_data = [us.year for us in lous]\n",
    "    country = list(set([us.country for us in lous]))[0]\n",
    "    shape = list(set([us.shape for us in lous]))[0]\n",
    "    title = f\"Sightings by year of {shape} shapes seen in the country {country}\"\n",
    "        \n",
    "    # px.histogram automatically counts the frequency of years\n",
    "    # This save us from having to create separate y-axis data\n",
    "    # by manually counting up the number of occurrences of the years in the list\n",
    "    plot = px.histogram(\n",
    "        x=x_data, \n",
    "        title = f\"Sightings by year of {shape} shapes seen in the country {country}\"\n",
    "    )\n",
    "    \n",
    "    # display() is a special function that only works in Jupyter\n",
    "    # It's just like print() except it allows for rendering of rich media\n",
    "    display(plot) "
   ]
  },
  {
   "cell_type": "code",
   "execution_count": 26,
   "id": "e8ab5f64-c8ab-4bc7-a8d0-520c7938a41f",
   "metadata": {},
   "outputs": [],
   "source": [
    "def analyze_sightings(ufo_csv_file: pathlib.Path, country: str, shape: str) -> None:\n",
    "    \"\"\"\n",
    "    Plots the data in 'ufo_csv_file' as a histogram by 'country' and by 'shape'.\n",
    "    'country' - A two digit country code, e.g. \"us\", \"au\", \"gb\", \"ca\", \"de\"\n",
    "    'shape' - A shape e.g. \"disk\", \"cylinder\", \"triangle\"\n",
    "    \"\"\"\n",
    "    ufo_records = read_data(ufo_csv_file)\n",
    "    ufo_sightings = csv_data_to_ufo_sightings(ufo_records)\n",
    "    sightings_by_country = filter_ufo_sightings_by_country(ufo_sightings, country)\n",
    "    sightings_by_shape = filter_ufo_sightings_by_shape(sightings_by_country, shape)\n",
    "    plot_ufo_sightings(sightings_by_shape)"
   ]
  },
  {
   "cell_type": "markdown",
   "id": "1459d375-8bb2-433a-ae03-4058d65a0100",
   "metadata": {},
   "source": [
    "# Analyze Data"
   ]
  },
  {
   "cell_type": "code",
   "execution_count": 29,
   "id": "2fa10a4f-1476-4561-b5f9-e0870dcf7162",
   "metadata": {
    "scrolled": false
   },
   "outputs": [
    {
     "data": {
      "application/vnd.plotly.v1+json": {
       "config": {
        "plotlyServerURL": "https://plot.ly"
       },
       "data": [
        {
         "alignmentgroup": "True",
         "bingroup": "x",
         "hovertemplate": "x=%{x}<br>count=%{y}<extra></extra>",
         "legendgroup": "",
         "marker": {
          "color": "#636efa"
         },
         "name": "",
         "offsetgroup": "",
         "orientation": "v",
         "showlegend": false,
         "type": "histogram",
         "x": [
          1965,
          1966,
          1966,
          1970,
          1972,
          1973,
          1989,
          2005,
          2006,
          2008,
          2008,
          2009,
          2010,
          2011,
          2012,
          1999,
          2003,
          2006,
          2007,
          2008,
          2009,
          1950,
          1952,
          1957,
          1961,
          1961,
          1965,
          1966,
          1967,
          1970,
          1970,
          1971,
          1972,
          1973,
          1973,
          1973,
          1976,
          1976,
          1976,
          1978,
          1979,
          1979,
          1979,
          1983,
          1989,
          1989,
          1991,
          1994,
          1994,
          1995,
          1998,
          1998,
          2000,
          2005,
          2008,
          2009,
          2009,
          2010,
          1965,
          1973,
          1976,
          1985,
          1994,
          1997,
          2000,
          2000,
          2001,
          2001,
          2002,
          2002,
          2008,
          2010,
          2011,
          2013,
          1966,
          1971,
          1999,
          2002,
          2003,
          2003,
          2004,
          2005,
          2006,
          1978,
          2002,
          2002,
          2008,
          2013,
          1953,
          1966,
          1966,
          1967,
          1969,
          1969,
          1971,
          1971,
          1973,
          1973,
          1973,
          1975,
          1975,
          1975,
          1975,
          1975,
          1975,
          1976,
          1977,
          1978,
          1980,
          1981,
          1982,
          1982,
          1982,
          1983,
          1984,
          1984,
          1985,
          1985,
          1986,
          1986,
          1986,
          1986,
          1987,
          1989,
          1991,
          1993,
          1994,
          1994,
          1994,
          1998,
          1998,
          1999,
          2000,
          2001,
          2003,
          2003,
          2003,
          2003,
          2003,
          2004,
          2007,
          2008,
          2008,
          2010,
          2011,
          2012,
          2013,
          2013,
          1977,
          1992,
          1999,
          2000,
          2007,
          2011,
          1965,
          1965,
          1993,
          2005,
          2008,
          2010,
          2011,
          2012,
          2012,
          2013,
          1981,
          1989,
          1990,
          2002,
          2003,
          2003,
          2011,
          2011,
          2011,
          1992,
          1998,
          2002,
          2008,
          2011,
          2013,
          2013,
          1967,
          1968,
          1980,
          1994,
          2000,
          2000,
          2003,
          2004,
          2004,
          2005,
          2005,
          2007,
          2007,
          2010,
          2011,
          2011,
          1966,
          1973,
          1973,
          1973,
          1995,
          1995,
          2006,
          2008,
          2010,
          2010,
          2012,
          1965,
          2009,
          2013,
          2013,
          1968,
          1997,
          2002,
          2003,
          2003,
          2003,
          2004,
          2004,
          2005,
          2006,
          2006,
          2012,
          2013,
          1992,
          1998,
          1999,
          2011,
          2011,
          2013,
          2013,
          1979,
          1994,
          2003,
          2004,
          2012,
          2012,
          2013,
          1968,
          1972,
          1978,
          1983,
          1998,
          1999,
          2002,
          2003,
          2004,
          2012,
          2012,
          2013,
          2013,
          2013,
          2001,
          2006,
          2008,
          2012,
          2013,
          2001,
          2001,
          2002,
          2005,
          2007,
          2008,
          2010,
          2001,
          2001,
          2002,
          2003,
          2004,
          2005,
          2007,
          2008,
          2013,
          2013,
          1990,
          2000,
          2001,
          2004,
          2004,
          2005,
          2006,
          2006,
          2010,
          2011,
          1973,
          1973,
          1976,
          1976,
          1996,
          1997,
          1999,
          2002,
          2003,
          2004,
          2007,
          2008,
          2013,
          1981,
          1985,
          1988,
          1990,
          2000,
          2000,
          2001,
          2001,
          2003,
          2004,
          2005,
          2007,
          2008,
          2010,
          1986,
          2000,
          2002,
          2002,
          2003,
          2003,
          2005,
          2006,
          2008,
          1963,
          1963,
          1981,
          2000,
          2006,
          2007,
          2012,
          1967,
          1968,
          1968,
          2003,
          2010,
          2010,
          2011,
          2012,
          2013,
          1967,
          1999,
          2000,
          2002,
          2004,
          2004,
          2004,
          2004,
          2006,
          2006,
          2009,
          2010,
          2011,
          2012,
          1965,
          1999,
          2000,
          2002,
          2003,
          2007,
          2012,
          2013,
          1973,
          2000,
          2003,
          2004,
          2006,
          2008,
          2009,
          2010,
          2010,
          2011,
          2011,
          1980,
          1998,
          1998,
          1999,
          2001,
          2003,
          2003,
          2005,
          2008,
          2009,
          2010,
          2011,
          2011,
          2012,
          1959,
          1980,
          1999,
          2000,
          2001,
          2003,
          2005,
          2007,
          2007,
          2009,
          1973,
          1986,
          1995,
          1998,
          2003,
          2003,
          2003,
          2005,
          2007,
          2008,
          2010,
          2010,
          1966,
          1973,
          2000,
          2001,
          2002,
          2003,
          2005,
          2010,
          2011,
          2012,
          2013,
          1976,
          1978,
          1983,
          1984,
          1991,
          1994,
          1998,
          1999,
          2000,
          2001,
          2002,
          2004,
          2005,
          2006,
          2007,
          2007,
          2007,
          2007,
          2007,
          2007,
          2008,
          2009,
          2011,
          2011,
          2012,
          2012,
          2012,
          1964,
          1967,
          1976,
          1994,
          1998,
          2001,
          2002,
          2003,
          2007,
          2008,
          2009,
          2010,
          2010,
          1974,
          2007,
          2008,
          2011,
          2013,
          2013,
          1954,
          1997,
          1998,
          2008,
          2012,
          1958,
          1965,
          1970,
          1973,
          1973,
          1973,
          1974,
          1975,
          1975,
          1976,
          1977,
          1977,
          1988,
          1988,
          1988,
          1989,
          1989,
          1991,
          1994,
          1998,
          2003,
          2004,
          2005,
          2005,
          2006,
          2007,
          2008,
          2008,
          2009,
          1999,
          1999,
          2004,
          2005,
          2005,
          2006,
          2008,
          2010,
          1971,
          1998,
          2008,
          2009,
          2010,
          2010,
          2011,
          2011,
          2012,
          2012,
          1998,
          1999,
          2000,
          2001,
          2001,
          2004,
          2005,
          2005,
          2008,
          2008,
          2012,
          2012,
          2013,
          1910,
          1988,
          2000,
          2002,
          2006,
          2006,
          1956,
          1966,
          1970,
          1975,
          1975,
          1977,
          1978,
          1979,
          1979,
          1981,
          1998,
          2003,
          2003,
          2004,
          2005,
          2007,
          2007,
          2007,
          2007,
          2008,
          2008,
          2010,
          2012,
          2013,
          2013,
          1999,
          1999,
          2010,
          2013,
          1953,
          2000,
          2005,
          2010,
          1960,
          1968,
          1978,
          1978,
          1999,
          2000,
          2000,
          2000,
          2000,
          2002,
          2005,
          2005,
          2006,
          2007,
          2007,
          2010,
          2010,
          2010,
          2011,
          2013,
          2014,
          2014,
          1979,
          1980,
          1998,
          2003,
          2005,
          2006,
          2010,
          2010,
          2012,
          1999,
          1999,
          2005,
          2006,
          2008,
          2012,
          1995,
          2001,
          2003,
          2004,
          2006,
          2008,
          2012,
          2013,
          2013,
          1958,
          2003,
          2004,
          2005,
          2010,
          2012,
          1985,
          1996,
          2004,
          2007,
          2011,
          2012,
          2013,
          2013,
          1992,
          1999,
          2000,
          2001,
          2004,
          2006,
          2006,
          2011,
          2011,
          2000,
          2001,
          2002,
          2003,
          2004,
          2005,
          2005,
          2008,
          2011,
          2013,
          1999,
          2001,
          2002,
          2003,
          2004,
          2006,
          2007,
          2012,
          2013,
          1978,
          1990,
          1996,
          1999,
          2003,
          2003,
          2011,
          2013,
          2001,
          2005,
          2009,
          2009,
          2010,
          2011,
          2012,
          2012,
          2012,
          1974,
          1977,
          1991,
          1994,
          1999,
          2000,
          2000,
          2001,
          2002,
          2002,
          2003,
          2006,
          2008,
          2008,
          2008,
          2009,
          2011,
          2012,
          1960,
          1969,
          1974,
          1980,
          1990,
          1990,
          1997,
          1997,
          1999,
          1999,
          1999,
          2001,
          2002,
          2003,
          2003,
          2003,
          2004,
          2004,
          2004,
          2005,
          2005,
          2006,
          2006,
          2008,
          2008,
          2009,
          2009,
          2010,
          2010,
          2012,
          2012,
          2013,
          2014,
          2014,
          1992,
          1999,
          1999,
          1999,
          1999,
          2001,
          2002,
          2003,
          2005,
          2006,
          2006,
          2006,
          2007,
          2007,
          2007,
          2007,
          2008,
          2009,
          2009,
          2011,
          2012,
          2013,
          2013,
          1999,
          2000,
          2004,
          2004,
          2005,
          2007,
          2007,
          2007,
          2007,
          2008,
          2009,
          2011,
          2011,
          2003,
          2004,
          2004,
          2006,
          2006,
          2008,
          2009,
          2009,
          2009,
          2010,
          2010,
          2011,
          2012,
          2012,
          2013,
          1975,
          1989,
          1994,
          1996,
          1999,
          2001,
          2004,
          2004,
          2005,
          2005,
          2008,
          2008,
          2009,
          2009,
          2010,
          2012,
          2013,
          2014,
          1963,
          1969,
          2000,
          2005,
          2007,
          2008,
          2009,
          2010,
          2010,
          1968,
          1978,
          1980,
          1994,
          2001,
          2004,
          2006,
          2009,
          2009,
          2010,
          2010,
          2010,
          2010,
          2010,
          2012,
          1998,
          2006,
          2007,
          2007,
          1970,
          1975,
          1980,
          1999,
          2001,
          2001,
          2002,
          2002,
          2004,
          2004,
          2004,
          2006,
          2006,
          2007,
          2009,
          2009,
          2011,
          2012,
          2014,
          2000,
          2005,
          2006,
          2011,
          1989,
          2004,
          2004,
          2005,
          2006,
          2008,
          2009,
          2012,
          2012,
          1988,
          1998,
          1998,
          2004,
          2006,
          2008,
          2011,
          2012,
          1977,
          1982,
          1986,
          1992,
          1992,
          1993,
          1997,
          1997,
          1997,
          1998,
          2000,
          2000,
          2000,
          2000,
          2002,
          2007,
          1998,
          2001,
          2003,
          2005,
          2006,
          2009,
          2010,
          2013,
          2010,
          2013,
          2013,
          1975,
          1998,
          2003,
          2004,
          2005,
          2009,
          2010,
          2010,
          2012,
          1999,
          2010,
          2000,
          2003,
          2007,
          2007,
          2009,
          2011,
          1959,
          1978,
          1978,
          1991,
          2002,
          2003,
          2003,
          2003,
          2004,
          2007,
          2009,
          2010,
          2012,
          1998,
          1998,
          1999,
          2005,
          2013,
          1997,
          1998,
          2003,
          2003,
          2006,
          2007,
          2008,
          2008,
          2008,
          2009,
          2010,
          2010,
          2011,
          2013,
          1999,
          2002,
          1978,
          2002,
          2005,
          2007,
          2007,
          2007,
          2007,
          2010,
          2012,
          1972,
          1981,
          1992,
          2001,
          2004,
          2005,
          2006,
          2013,
          1976,
          1997,
          2008,
          2012,
          2012,
          2003,
          2009,
          2012,
          2003,
          2007,
          2008,
          1925,
          1977,
          1999,
          2000,
          2000,
          2001,
          2009,
          2000,
          2000,
          2008,
          2009,
          1967,
          2002,
          2003,
          2007,
          2007,
          2008,
          2008,
          2008,
          1975,
          1978,
          1983,
          1996,
          1998,
          2000,
          2002,
          2003,
          2004,
          2008,
          2009,
          2009,
          2009,
          2011,
          2013,
          1976,
          1999,
          1999,
          2000,
          2000,
          2000,
          2001,
          2001,
          2001,
          2004,
          2008,
          2008,
          2008,
          2011,
          2014,
          1974,
          1974,
          1994,
          2000,
          2001,
          2002,
          2004,
          2005,
          2006,
          2006,
          2008,
          2008,
          2009,
          2012,
          2013,
          2014,
          1992,
          1999,
          2001,
          2003,
          2004,
          2006,
          2006,
          2006,
          2008,
          2008,
          2011,
          2013,
          2013,
          1998,
          2000,
          2001,
          2002,
          2002,
          2003,
          2006,
          2006,
          2007,
          2007,
          2008,
          2009,
          2009,
          2012,
          2013,
          2014,
          1998,
          2003,
          2006,
          2007,
          2008,
          2009,
          2011,
          2011,
          2012,
          2012,
          2012,
          2013,
          1973,
          2002,
          2002,
          2003,
          2006,
          2006,
          2009,
          2009,
          2012,
          2013,
          1980,
          1987,
          1997,
          1998,
          1999,
          1999,
          2003,
          2003,
          2004,
          2005,
          2006,
          2007,
          2007,
          2011,
          2014,
          2014,
          2014,
          1968,
          2007,
          2009,
          2009,
          2012,
          2013,
          2014,
          1998,
          1998,
          2008,
          2013,
          2002,
          2007,
          2007,
          2011,
          2011,
          2012,
          2012,
          2013,
          2013,
          1975,
          1997,
          2004,
          2004,
          2007,
          2008,
          2011,
          2011,
          2013,
          1995,
          1995,
          1999,
          2002,
          2002,
          2003,
          2004,
          2010,
          1990,
          2002,
          2004,
          2006,
          2010,
          2011,
          2012,
          2012,
          2014,
          2014,
          2014,
          2003,
          2005,
          2008,
          1946,
          1968,
          1997,
          1997,
          2009,
          2013,
          1979,
          2008,
          2012,
          2013,
          2013,
          1952,
          1966,
          1970,
          1979,
          2001,
          2002,
          2002,
          2004,
          2007,
          2009,
          2002,
          2004,
          1999,
          2001,
          2003,
          2003,
          2004,
          2013,
          2001,
          2002,
          2007,
          2008,
          2009,
          1966,
          2005,
          2009,
          1976,
          2002,
          2002,
          2004,
          2006,
          2007,
          2008,
          2008,
          2009,
          2014,
          1951,
          1954,
          1970,
          1983,
          1986,
          1991,
          2000,
          2003,
          2003,
          2005,
          2007,
          2012,
          2008,
          2008,
          2011,
          2000,
          2002,
          2002,
          2004,
          2006,
          2006,
          2009,
          2009,
          2011,
          2001,
          2002,
          2014,
          2014,
          1974,
          1999,
          2008,
          2009,
          2012,
          2013,
          1947,
          1998,
          2002,
          2003,
          2004,
          2006,
          2008,
          2009,
          2009,
          2011,
          2014,
          2000,
          2001,
          2001,
          2008,
          2010,
          2011,
          2012,
          2012,
          1961,
          2003,
          2007,
          2012,
          2003,
          2003,
          2006,
          2008,
          2008,
          2010,
          1999,
          2001,
          2001,
          2005,
          2008,
          2012,
          2000,
          2006,
          2007,
          2013,
          2004,
          2004,
          2005,
          2009,
          2011,
          1998,
          2004,
          2005,
          2012,
          2013,
          2001,
          2002,
          2004,
          2004,
          2005,
          2008,
          2008,
          1990,
          2005,
          2007,
          2007,
          2008,
          2011,
          2014,
          2004,
          1951,
          1997,
          2003,
          2003,
          2004,
          2007,
          2011,
          2014,
          2001,
          2005,
          2007,
          2009,
          2010,
          2010,
          2012,
          1988,
          2004,
          2005,
          2011,
          2014,
          2001,
          2006,
          2007,
          2007,
          2007,
          2014,
          2005,
          2007,
          2008,
          2014,
          2000,
          2002,
          2003,
          2004,
          2005,
          2006,
          2009,
          2010,
          1996,
          1999,
          2002,
          2004,
          2005,
          2005,
          2005,
          2008,
          2008,
          1970,
          1978,
          1979,
          1979,
          1991,
          1994,
          2003,
          2004,
          2004,
          2005,
          2010,
          2011,
          2012,
          2012,
          2013,
          1999,
          2001,
          2003,
          2005,
          2005,
          2008,
          2008,
          2011,
          2014,
          1968,
          1969,
          1975,
          1983,
          1983,
          1999,
          2000,
          2001,
          2002,
          2008,
          2011,
          2012,
          2014,
          2004,
          2005,
          2005,
          2011,
          2001,
          2004,
          2008,
          2001,
          2002,
          2004,
          2007,
          2008,
          2009,
          2009,
          2012,
          2012,
          1946,
          1957,
          1965,
          1974,
          1976,
          1980,
          1981,
          1986,
          1988,
          1990,
          1992,
          1994,
          1996,
          1997,
          1998,
          1998,
          2000,
          2000,
          2002,
          2003,
          2006,
          2010,
          2011,
          1966,
          2000,
          2005,
          2011,
          2011,
          1977,
          2001,
          2008,
          2009,
          2009,
          2010,
          2004,
          2006,
          2011,
          2012,
          2014,
          2002,
          2004,
          2005,
          2005,
          2010,
          2012,
          2012,
          1956,
          1975,
          1976,
          1980,
          1980,
          1996,
          1999,
          1999,
          2002,
          2003,
          2008,
          2010,
          2012,
          2013,
          1966,
          1974,
          1978,
          1999,
          2006,
          2012,
          2012,
          2004,
          2006,
          2008,
          2008,
          2009,
          2014,
          1998,
          2008,
          2009,
          2010,
          2013,
          2014,
          2014,
          1995,
          2001,
          2006,
          2009,
          2011,
          2014,
          1976,
          1980,
          1994,
          1999,
          1999,
          2000,
          2008,
          2008,
          2011,
          2011,
          2014,
          2014,
          1978,
          1999,
          2001,
          2006,
          2011,
          2001,
          2004,
          2008,
          2011,
          1977,
          1997,
          1998,
          2001,
          2003,
          2004,
          2004,
          2009,
          2014,
          1995,
          1997,
          1998,
          2004,
          2004,
          2005,
          2010,
          2011,
          2013,
          2014,
          1979,
          2008,
          2008,
          2008,
          1999,
          2001,
          2003,
          2007,
          2008,
          2011,
          2012,
          2014,
          1980,
          1999,
          2000,
          2002,
          2005,
          2005,
          2006,
          2007,
          2007,
          2011,
          2014,
          2014,
          1962,
          2001,
          2006,
          2007,
          2011,
          1972,
          1999,
          1999,
          2007,
          2006,
          2007,
          2007,
          2010,
          2014,
          2014,
          1975,
          2000,
          2001,
          2001,
          2003,
          2004,
          2005,
          2008,
          2008,
          2008,
          2010,
          2014,
          1997,
          1998,
          2001,
          2004,
          2009,
          2011,
          2011,
          2012,
          2012,
          2000,
          2001,
          2003,
          2003,
          2003,
          2005,
          2007,
          2007,
          2008,
          2008,
          2009,
          2014,
          2000,
          2005,
          2006,
          2008,
          2011,
          2013,
          1949,
          1975,
          1986,
          1997,
          2003,
          2004,
          2008,
          2010,
          2014,
          1967,
          1977,
          1994,
          2001,
          2005,
          2008,
          2009,
          2014,
          1965,
          1966,
          1967,
          1972,
          1972,
          1973,
          1979,
          1986,
          1991,
          1994,
          1996,
          2000,
          2004,
          2005,
          2008,
          2011,
          2012,
          1968,
          1988,
          2003,
          2003,
          2004,
          2007,
          2014,
          1993,
          1999,
          2007,
          2008,
          2014,
          1966,
          1981,
          2000,
          2001,
          2005,
          2011,
          1952,
          1959,
          1964,
          1966,
          1971,
          1974,
          1975,
          1976,
          1978,
          1984,
          1985,
          1986,
          1988,
          1988,
          1992,
          1998,
          1998,
          1999,
          2000,
          2000,
          2003,
          2004,
          2009,
          2010,
          2013,
          1977,
          1992,
          1993,
          2000,
          2001,
          2001,
          2002,
          2002,
          2003,
          2004,
          2005,
          2006,
          2007,
          2008,
          2008,
          2010,
          2011,
          2012,
          1977,
          1992,
          1995,
          2002,
          2002,
          2004,
          2004,
          2007,
          2008,
          2010,
          2012,
          2012,
          1975,
          2001,
          2002,
          2003,
          2005,
          2008,
          2008,
          2014,
          2014,
          1978,
          1994,
          1999,
          2005,
          2006,
          2006,
          2008,
          2009,
          2014,
          2014,
          1965,
          1970,
          1974,
          1979,
          2003,
          2008,
          2009,
          2011,
          2011,
          2013,
          1984,
          2000,
          2004,
          2007,
          2012,
          1944,
          1974,
          1979,
          2004,
          2004,
          2007,
          2007,
          2014,
          2014,
          2001,
          2006,
          2006,
          2007,
          2008,
          2013,
          2014,
          2014,
          1975,
          2000,
          2003,
          2004,
          2005,
          2008,
          2009,
          2014,
          1992,
          1999,
          2010,
          2012,
          1974,
          1975,
          1999,
          2003,
          2004,
          2005,
          2006,
          2010,
          2011,
          2011,
          2014,
          1996,
          1998,
          2003,
          2003,
          2005,
          2007,
          2007,
          2008,
          2012,
          1990,
          2004,
          2008,
          2013,
          2000,
          2003,
          2004,
          2004,
          2010,
          2000,
          2001,
          2004,
          2004,
          2005,
          2006,
          2007,
          2012,
          2014,
          1997,
          2000,
          2000,
          2007,
          2008,
          2008,
          2004,
          2007,
          2007,
          2009,
          2012,
          2013,
          2014,
          2014,
          1985,
          1999,
          2001,
          2003,
          2007,
          2012,
          2012,
          2013,
          2014,
          1968,
          1971,
          1971,
          1973,
          1983,
          1995,
          1996,
          1996,
          2000,
          2001,
          2003,
          2006,
          2006,
          2006,
          2006,
          2006,
          2009,
          2010,
          2014,
          2014,
          1971,
          2009,
          1963,
          1967,
          2001,
          2003,
          2006,
          2006,
          2007,
          2010,
          2012,
          2014,
          1992,
          2004,
          2004,
          2004,
          2004,
          2005,
          2006,
          2006,
          2009,
          2010,
          2012,
          2012,
          2004,
          2004,
          2005,
          2007,
          2010,
          2012,
          2014,
          1976,
          1976,
          1991,
          1992,
          1999,
          2003,
          2003,
          2004,
          2013,
          2013,
          2013,
          1982,
          1998,
          2003,
          2006,
          2006,
          2007,
          1967,
          1969,
          1969,
          1970,
          1970,
          1973,
          1973,
          1975,
          1977,
          1978,
          1980,
          1982,
          1988,
          1991,
          1996,
          1996,
          1997,
          2001,
          2005,
          2007,
          2008,
          2009,
          2010,
          2010,
          2012,
          1968,
          1980,
          1985,
          1994,
          1996,
          1998,
          2000,
          2001,
          2004,
          2005,
          2005,
          2006,
          2012,
          1983,
          2002,
          2007,
          2008,
          1973,
          1974,
          1984,
          2000,
          2001,
          2002,
          2004,
          2004,
          2009,
          2012,
          1952,
          1962,
          1964,
          1964,
          1965,
          1965,
          1966,
          1967,
          1974,
          1974,
          1974,
          1974,
          1975,
          1975,
          1975,
          1977,
          1983,
          1984,
          1997,
          1999,
          1999,
          2000,
          2000,
          2004,
          2004,
          2004,
          2005,
          2005,
          2006,
          2006,
          2007,
          2008,
          2001,
          2003,
          2004,
          2004,
          2010,
          2003,
          2004,
          2009,
          1999,
          2002,
          2003,
          2004,
          2004,
          2008,
          2010,
          2011,
          2012,
          1973,
          2004,
          2007,
          2008,
          2010,
          2012,
          1974,
          1981,
          1996,
          2004,
          2007,
          2008,
          2009,
          1971,
          1987,
          1998,
          2002,
          2007,
          2009,
          2011,
          2002,
          2004,
          2010,
          1993,
          1994,
          1997,
          2001,
          2002,
          2002,
          2003,
          2008,
          2009,
          2011,
          2012,
          2013,
          1975,
          1994,
          2003,
          2004,
          2006,
          2007,
          2010,
          2012,
          1999,
          2005,
          2005,
          2005,
          2009,
          1991,
          1997,
          2000,
          2000,
          2005,
          2006,
          2009,
          2009,
          2009,
          2013,
          1954,
          1997,
          2000,
          2001,
          2001,
          2002,
          2005,
          2006,
          2007,
          2008,
          2008,
          2010,
          2011,
          2013,
          2013,
          1997,
          2000,
          2003,
          2005,
          2007,
          2010,
          2012,
          2013,
          1977,
          1977,
          2002,
          2002,
          2005,
          2008,
          2011,
          2011,
          1998,
          2000,
          2002,
          2009,
          2009,
          2009,
          2013,
          1959,
          1962,
          2001,
          2003,
          2004,
          2005,
          2006,
          2007,
          2008,
          2008,
          2008,
          2009,
          2011,
          1965,
          1983,
          1991,
          1998,
          2004,
          2007,
          2007,
          2009,
          2013,
          2001,
          2004,
          2005,
          2007,
          2010,
          1990,
          1998,
          1999,
          2002,
          2008,
          2009,
          1972,
          1980,
          1984,
          1987,
          2001,
          2002,
          2002,
          2012,
          2014,
          1979,
          1987,
          1997,
          1999,
          2000,
          2002,
          2012,
          2012,
          2013,
          1963,
          1997,
          2000,
          2005,
          2006,
          2008,
          2009,
          2013,
          2014,
          2000,
          2004,
          2007,
          2008,
          2008,
          2010,
          2012,
          1982,
          1999,
          2000,
          2004,
          2008,
          2010,
          2011,
          1949,
          1950,
          1966,
          1966,
          1968,
          1968,
          1969,
          1971,
          1971,
          1972,
          1974,
          1977,
          1977,
          1984,
          1987,
          1988,
          1997,
          1999,
          2001,
          2001,
          2013,
          1966,
          1987,
          1996,
          1998,
          2001,
          2003,
          2005,
          2010,
          2012,
          2012,
          1931,
          1941,
          1944,
          1950,
          1954,
          1954,
          1954,
          1954,
          1955,
          1957,
          1957,
          1960,
          1960,
          1960,
          1961,
          1962,
          1962,
          1963,
          1963,
          1963,
          1965,
          1965,
          1965,
          1965,
          1965,
          1966,
          1966,
          1966,
          1966,
          1966,
          1966,
          1966,
          1966,
          1966,
          1966,
          1967,
          1967,
          1967,
          1967,
          1967,
          1968,
          1968,
          1969,
          1969,
          1969,
          1970,
          1970,
          1970,
          1970,
          1970,
          1970,
          1971,
          1971,
          1971,
          1971,
          1971,
          1972,
          1973,
          1974,
          1974,
          1974,
          1975,
          1975,
          1975,
          1975,
          1975,
          1975,
          1975,
          1975,
          1976,
          1976,
          1976,
          1976,
          1976,
          1976,
          1977,
          1978,
          1978,
          1978,
          1978,
          1978,
          1979,
          1979,
          1979,
          1979,
          1980,
          1980,
          1980,
          1980,
          1980,
          1980,
          1981,
          1981,
          1982,
          1983,
          1983,
          1983,
          1983,
          1984,
          1985,
          1985,
          1987,
          1987,
          1988,
          1988,
          1989,
          1989,
          1989,
          1990,
          1990,
          1990,
          1990,
          1991,
          1991,
          1991,
          1991,
          1991,
          1992,
          1993,
          1993,
          1994,
          1994,
          1994,
          1996,
          1996,
          1999,
          1999,
          1999,
          1999,
          2000,
          2000,
          2002,
          2004,
          2008,
          2008,
          2009,
          1989,
          2000,
          2004,
          2006,
          2007,
          2009,
          2009,
          2012,
          1960,
          1995,
          1995,
          2003,
          2004,
          2008,
          2009,
          2009,
          2011,
          2013,
          1964,
          2002,
          2004,
          2005,
          2008,
          2012,
          2013,
          1947,
          1947,
          1948,
          1950,
          1951,
          1953,
          1954,
          1956,
          1957,
          1958,
          1959,
          1960,
          1962,
          1963,
          1964,
          1965,
          1965,
          1965,
          1966,
          1966,
          1966,
          1967,
          1967,
          1968,
          1968,
          1968,
          1968,
          1968,
          1968,
          1970,
          1970,
          1970,
          1971,
          1971,
          1972,
          1973,
          1973,
          1973,
          1974,
          1974,
          1975,
          1975,
          1975,
          1976,
          1976,
          1976,
          1976,
          1976,
          1976,
          1977,
          1977,
          1977,
          1977,
          1977,
          1978,
          1978,
          1978,
          1978,
          1978,
          1979,
          1979,
          1979,
          1979,
          1980,
          1980,
          1980,
          1980,
          1982,
          1982,
          1982,
          1982,
          1983,
          1983,
          1984,
          1984,
          1985,
          1985,
          1985,
          1985,
          1986,
          1989,
          1989,
          1991,
          1995,
          1995,
          1995,
          1996,
          1996,
          1997,
          1997,
          1997,
          1997,
          1998,
          1999,
          1999,
          1999,
          2000,
          2001,
          2001,
          2002,
          2003,
          2003,
          2004,
          2004,
          2005,
          2005,
          2006,
          2008,
          2011,
          2013,
          1956,
          1972,
          1977,
          2004,
          2004,
          2004,
          2005,
          2007,
          2008,
          2011,
          2011,
          2012,
          1961,
          1994,
          1999,
          2000,
          2001,
          2002,
          2003,
          2005,
          2005,
          2006,
          2006,
          2008,
          2008,
          2010,
          2011,
          2012,
          2013,
          2013,
          1966,
          1999,
          1999,
          2002,
          2004,
          2004,
          2004,
          2004,
          2005,
          2008,
          2008,
          2008,
          1982,
          1996,
          1997,
          2000,
          2003,
          2004,
          2005,
          2009,
          1950,
          1965,
          1966,
          1966,
          1972,
          1972,
          1974,
          1975,
          1978,
          1979,
          1999,
          2000,
          2001,
          2003,
          2007,
          2007,
          2007,
          2008,
          2009,
          2009,
          2011,
          2011,
          1957,
          1960,
          1997,
          1998,
          2004,
          2005,
          2008,
          2008,
          2009,
          2011,
          2013,
          2013,
          2001,
          2002,
          2003,
          2004,
          2006,
          2010,
          2012,
          1972,
          1973,
          2000,
          2001,
          2009,
          2013,
          1955,
          1994,
          1999,
          2001,
          2002,
          2006,
          2007,
          2007,
          2009,
          2012,
          2012,
          2001,
          2002,
          2007,
          2012,
          1965,
          1966,
          1970,
          1974,
          1976,
          1976,
          1991,
          1992,
          2003,
          2004,
          2005,
          2007,
          2007,
          2009,
          2010,
          2010,
          2012,
          1968,
          1976,
          1997,
          1999,
          2002,
          2002,
          2003,
          2003,
          2006,
          2006,
          2006,
          2007,
          2010,
          1998,
          2004,
          2006,
          2008,
          2012,
          1964,
          1965,
          1997,
          2002,
          2003,
          2003,
          2003,
          2003,
          2005,
          2005,
          2005,
          2007,
          2008,
          2011,
          2012,
          2012,
          1968,
          2004,
          2008,
          2008,
          2009,
          2011,
          2011,
          1950,
          1950,
          1951,
          1952,
          1952,
          1952,
          1955,
          1955,
          1956,
          1957,
          1958,
          1959,
          1961,
          1962,
          1963,
          1963,
          1963,
          1965,
          1966,
          1966,
          1966,
          1966,
          1966,
          1967,
          1968,
          1968,
          1968,
          1969,
          1969,
          1970,
          1971,
          1972,
          1972,
          1972,
          1972,
          1974,
          1974,
          1974,
          1975,
          1976,
          1976,
          1976,
          1976,
          1977,
          1978,
          1978,
          1978,
          1978,
          1978,
          1981,
          1982,
          1985,
          1985,
          1985,
          1986,
          1989,
          1991,
          1994,
          1995,
          1996,
          1996,
          1996,
          2001,
          2003,
          2005,
          2006,
          2007,
          2008,
          2009,
          2012,
          2012,
          2012,
          1960,
          1991,
          2001,
          2003,
          2005,
          2009,
          1969,
          2000,
          2000,
          2003,
          2006,
          2006,
          2010,
          2011,
          2013,
          1964,
          1969,
          1970,
          1976,
          1981,
          1997,
          1998,
          2001,
          2004,
          2005,
          2005,
          2006,
          2009,
          2012,
          2013,
          1952,
          1968,
          1968,
          1970,
          1975,
          1976,
          1977,
          1982,
          1990,
          2001,
          2001,
          2002,
          2005,
          2005,
          2006,
          2007,
          2008,
          1945,
          1973,
          1985,
          1986,
          2002,
          2002,
          2006,
          2006,
          2006,
          2008,
          2008,
          2012,
          2012,
          1950,
          1981,
          1997,
          2003,
          2003,
          2003,
          2003,
          2007,
          1999,
          2000,
          2005,
          2012,
          2013,
          1951,
          1963,
          1975,
          1976,
          1993,
          1997,
          1998,
          2001,
          2007,
          2007,
          2007,
          2009,
          2010,
          2010,
          2011,
          1994,
          2002,
          2003,
          2004,
          2008,
          2010,
          1947,
          1949,
          1951,
          1953,
          1955,
          1959,
          1962,
          1963,
          1964,
          1965,
          1966,
          1968,
          1968,
          1969,
          1969,
          1969,
          1969,
          1972,
          1973,
          1973,
          1976,
          1977,
          1977,
          1977,
          1978,
          1979,
          1979,
          1979,
          1979,
          1982,
          1983,
          1986,
          1986,
          1989,
          1991,
          1991,
          1993,
          1996,
          1997,
          1997,
          2000,
          2000,
          2001,
          2002,
          2003,
          2006,
          2006,
          2007,
          2012,
          1972,
          1977,
          1987,
          1995,
          1997,
          2000,
          2000,
          2003,
          2004,
          2004,
          2006,
          2007,
          2008,
          2010,
          2011,
          2012,
          1957,
          1974,
          1979,
          2000,
          2002,
          2008,
          2010,
          2011,
          1956,
          1978,
          1995,
          1999,
          2000,
          2004,
          2006,
          2008,
          2009,
          2010,
          2012,
          2012,
          1947,
          1947,
          1947,
          1952,
          1954,
          1954,
          1956,
          1956,
          1957,
          1957,
          1958,
          1962,
          1963,
          1963,
          1964,
          1965,
          1967,
          1967,
          1969,
          1969,
          1969,
          1969,
          1970,
          1974,
          1974,
          1975,
          1975,
          1975,
          1975,
          1975,
          1975,
          1976,
          1976,
          1976,
          1977,
          1977,
          1978,
          1978,
          1978,
          1978,
          1979,
          1980,
          1980,
          1983,
          1985,
          1985,
          1986,
          1987,
          1987,
          1990,
          1990,
          1991,
          1991,
          1995,
          1997,
          1998,
          1998,
          1999,
          1999,
          2000,
          2001,
          2002,
          2003,
          2003,
          2003,
          2003,
          2003,
          2004,
          2005,
          2005,
          2006,
          2006,
          2008,
          2010,
          2010,
          2011,
          1961,
          1967,
          1978,
          1980,
          2000,
          2004,
          2009,
          2009,
          2010,
          2010,
          2010,
          2012,
          1971,
          1973,
          1989,
          2000,
          2003,
          2003,
          2003,
          2007,
          2007,
          2008,
          2010,
          2011,
          2013,
          2013,
          1990,
          1992,
          1999,
          2000,
          2000,
          2003,
          2004,
          2006,
          2006,
          2008,
          2008,
          2009,
          2009,
          2010,
          2012,
          1959,
          1968,
          1985,
          1996,
          2002,
          2002,
          2006,
          2008,
          2010,
          2013,
          1950,
          1958,
          1962,
          1963,
          1965,
          1968,
          1970,
          1973,
          1974,
          1975,
          1988,
          1997,
          1998,
          1999,
          2000,
          2003,
          2006,
          2007,
          2007,
          2009,
          2009,
          2010,
          2012,
          1974,
          1976,
          2001,
          2001,
          2003,
          2004,
          2005,
          2006,
          2007,
          2011,
          1978,
          1999,
          2002,
          2004,
          2008,
          2011,
          2013,
          2013,
          1973,
          1974,
          1977,
          1998,
          2001,
          2007,
          2008,
          2009,
          2010,
          2011,
          1996,
          1999,
          1999,
          2002,
          2004,
          2005,
          2008,
          2008,
          1974,
          1974,
          1984,
          1999,
          2000,
          2001,
          2005,
          2005,
          2009,
          1977,
          1978,
          1999,
          2001,
          2001,
          2003,
          2005,
          2009,
          2009,
          2009,
          2010,
          2013,
          1999,
          2002,
          2006,
          2008,
          2009,
          2010,
          2012,
          1995,
          1999,
          2002,
          2003,
          2007,
          2008,
          2009,
          2010,
          2011,
          2013,
          2013,
          1982,
          1998,
          2002,
          2004,
          2005,
          2005,
          2007,
          2007,
          2007,
          2007,
          2009,
          2010,
          2010,
          1978,
          2001,
          2002,
          2003,
          2006,
          2007,
          2009,
          2011,
          2013,
          1981,
          1992,
          2000,
          2002,
          2005,
          2007,
          2013,
          1967,
          1973,
          1999,
          2002,
          2005,
          2007,
          2008,
          2012,
          2012,
          1968,
          1976,
          1982,
          1983,
          2000,
          2005,
          2007,
          2007,
          2008,
          2009,
          2011,
          2011,
          1966,
          1969,
          1977,
          1978,
          1978,
          1982,
          1991,
          1997,
          1997,
          2001,
          2003,
          2004,
          2004,
          2005,
          2005,
          2005,
          2006,
          2007,
          2008,
          2008,
          2009,
          2009,
          2010,
          2010,
          2010,
          2011,
          2011,
          2011,
          2011,
          2011,
          2011,
          2012,
          2012,
          2012,
          2012,
          2012,
          2012,
          2012,
          2013,
          2013,
          2013,
          1929,
          1947,
          1969,
          1972,
          1979,
          1990,
          2006,
          2007,
          2007,
          2008,
          2008,
          2009,
          2009,
          2010,
          2010,
          2010,
          2013,
          1980,
          2003,
          2003,
          2007,
          2013,
          1952,
          1968,
          1968,
          1973,
          1973,
          1973,
          1974,
          1993,
          2001,
          2007,
          2008,
          2013,
          2013,
          2013,
          1977,
          1994,
          2001,
          2002,
          2003,
          2003,
          2003,
          2003,
          2004,
          2005,
          2005,
          2007,
          2010,
          2011,
          2013,
          1947,
          1964,
          1998,
          2001,
          2005,
          2006,
          2008,
          2008,
          2010,
          2010,
          2010,
          2012,
          2012,
          1959,
          1971,
          1973,
          1977,
          1978,
          1981,
          1982,
          1982,
          1982,
          1982,
          1989,
          1994,
          2002,
          2002,
          2002,
          2004,
          2005,
          2005,
          2010,
          2011,
          2013,
          2013,
          1968,
          1998,
          2002,
          2002,
          2004,
          2010,
          2011,
          2013,
          1954,
          1957,
          1958,
          1959,
          1960,
          1960,
          1961,
          1962,
          1962,
          1963,
          1964,
          1965,
          1967,
          1969,
          1972,
          1974,
          1976,
          1976,
          1978,
          1980,
          1984,
          1988,
          1988,
          1989,
          1990,
          1996,
          1996,
          1997,
          1999,
          1999,
          1999,
          2002,
          2007,
          2008,
          2010,
          2010,
          1947,
          1963,
          1965,
          1973,
          1974,
          1977,
          1980,
          1985,
          1988,
          1992,
          1996,
          1998,
          1999,
          2000,
          2002,
          2002,
          2002,
          2003,
          2004,
          2004,
          2009,
          2011,
          2012,
          2012,
          1964,
          1998,
          2000,
          2002,
          2007,
          2007,
          2008,
          2011,
          2012,
          2013,
          2013,
          1957,
          1968,
          1979,
          1997,
          1999,
          2001,
          2004,
          2006,
          2006,
          2006,
          2007,
          2008,
          2009,
          2009,
          2010,
          2011,
          2011,
          2013,
          1950,
          1951,
          1952,
          1957,
          1961,
          1962,
          1962,
          1965,
          1965,
          1966,
          1966,
          1966,
          1967,
          1968,
          1968,
          1968,
          1969,
          1970,
          1973,
          1973,
          1973,
          1974,
          1974,
          1975,
          1975,
          1975,
          1975,
          1975,
          1976,
          1978,
          1978,
          1978,
          1980,
          1983,
          1983,
          1984,
          1986,
          1987,
          1987,
          1988,
          1991,
          1993,
          1994,
          1995,
          1996,
          1997,
          1997,
          1999,
          2000,
          2000,
          2001,
          2001,
          2002,
          2003,
          2004,
          2004,
          2004,
          2005,
          2005,
          2009,
          2013,
          2013,
          2013,
          1962,
          1974,
          1995,
          2004,
          2004,
          2006,
          2007,
          2007,
          2011,
          2012,
          2012,
          2013,
          1955,
          1966,
          1978,
          1987,
          1997,
          1997,
          1999,
          2003,
          2006,
          2007,
          2010,
          2011,
          1978,
          1987,
          1992,
          1994,
          1998,
          2000,
          2002,
          2002,
          2006,
          2006,
          2007,
          2008,
          2010,
          2013,
          1975,
          1975,
          1989,
          1996,
          2000,
          2003,
          2004,
          2007,
          2007,
          2009,
          2011,
          2011,
          2013,
          1974,
          1975,
          1976,
          1978,
          1978,
          1979,
          1986,
          1991,
          1993,
          1994,
          1995,
          1996,
          1998,
          1999,
          2000,
          2000,
          2001,
          2002,
          2004,
          2004,
          2005,
          2005,
          2005,
          2008,
          2011,
          2002,
          2003,
          2007,
          2008,
          2008,
          2008,
          2012,
          2012,
          1986,
          1997,
          1997,
          2002,
          2003,
          2003,
          2012,
          2012,
          2012,
          2013,
          1964,
          1978,
          2002,
          2003,
          2004,
          2008,
          2012,
          1974,
          1999,
          1999,
          2003,
          2007,
          2010,
          2011,
          1992,
          2002,
          2002,
          2003,
          2003,
          2003,
          2007,
          2010,
          2012,
          2012,
          2013,
          1949,
          1967,
          1974,
          1979,
          1995,
          1998,
          2000,
          2001,
          2002,
          2003,
          2004,
          2005,
          2008,
          2010,
          2011,
          2011,
          1970,
          2000,
          2005,
          2005,
          2005,
          2006,
          2007,
          2007,
          2008,
          2011,
          2001,
          2001,
          2003,
          2008,
          2009,
          2010,
          2010,
          2010,
          2012,
          2013,
          2013,
          1974,
          1997,
          2001,
          2002,
          2009,
          2010,
          2011,
          2012,
          2012,
          1966,
          1992,
          2004,
          2005,
          2012,
          1981,
          2000,
          2002,
          2004,
          2005,
          2008,
          2010,
          2012,
          2013,
          1957,
          1999,
          2000,
          2000,
          2000,
          2003,
          2004,
          2008,
          2011,
          2012,
          2013,
          1975,
          2002,
          2002,
          2003,
          2005,
          2005,
          2005,
          2006,
          2006,
          2006,
          2008,
          2010,
          1961,
          1969,
          2004,
          2006,
          2006,
          2008,
          2009,
          2009,
          2010,
          1966,
          1999,
          2006,
          2006,
          2008,
          2009,
          2010,
          2011,
          1978,
          1995,
          1999,
          1999,
          2000,
          2001,
          2001,
          2001,
          2002,
          2004,
          2007,
          2008,
          2008,
          2012,
          2012,
          1945,
          1958,
          1965,
          1968,
          1974,
          1999,
          2002,
          2003,
          2006,
          2006,
          2008,
          2008,
          2008,
          2009,
          2012,
          2013,
          1957,
          1961,
          1971,
          2001,
          2003,
          2004,
          2004,
          2006,
          2008,
          2008,
          2013,
          1957,
          1968,
          1975,
          1976,
          1989,
          2001,
          2003,
          2004,
          2004,
          2005,
          2005,
          2009,
          2010,
          2011,
          2012,
          1999,
          1999,
          2001,
          2004,
          2007,
          2009,
          2010,
          1954,
          1958,
          1967,
          1970,
          1972,
          1972,
          1974,
          1974,
          1975,
          1976,
          1977,
          1977,
          1978,
          1979,
          1979,
          1980,
          1981,
          1983,
          1987,
          1988,
          1989,
          1996,
          1997,
          1998,
          2001,
          2001,
          2001,
          2002,
          2003,
          2005,
          2011,
          2012,
          2012,
          2013,
          2013,
          2013,
          1996,
          1998,
          2001,
          2003,
          2006,
          2008,
          2008,
          2012,
          2012,
          1974,
          2001,
          2004,
          2005,
          2006,
          2007,
          2007,
          2007,
          2012,
          2013,
          1974,
          1981,
          1985,
          1996,
          1996,
          1996,
          2008,
          2008,
          2013,
          1934,
          1949,
          1952,
          1957,
          1957,
          1959,
          1960,
          1964,
          1964,
          1964,
          1964,
          1967,
          1967,
          1971,
          1971,
          1972,
          1973,
          1974,
          1975,
          1975,
          1977,
          1977,
          1978,
          1980,
          1982,
          1990,
          1993,
          1994,
          1994,
          1994,
          1995,
          1995,
          1997,
          1997,
          1999,
          2000,
          2000,
          2000,
          2000,
          2000,
          2002,
          2002,
          2002,
          2002,
          2003,
          2004,
          2005,
          2005,
          2007,
          2007,
          2008,
          2011,
          2011,
          2012,
          2012,
          1987,
          1997,
          1999,
          2002,
          2004,
          2004,
          2006,
          2009,
          2011,
          2012,
          1994,
          1998,
          1999,
          2004,
          2005,
          2005,
          2006,
          2007,
          2007,
          2010,
          2011,
          2011,
          2012,
          2000,
          2002,
          2002,
          2002,
          2004,
          2004,
          2004,
          2008,
          2009,
          2012,
          2012,
          1998,
          1999,
          1999,
          2001,
          2002,
          2005,
          2005,
          2008,
          2009,
          2009,
          2009,
          2011,
          2012,
          2012,
          2012,
          2013,
          1971,
          1972,
          1980,
          1982,
          1985,
          1996,
          1998,
          2002,
          2003,
          2003,
          2004,
          2005,
          2005,
          2007,
          2007,
          2008,
          2009,
          1999,
          1999,
          2000,
          2001,
          2001,
          2003,
          2004,
          2005,
          2005,
          2005,
          2005,
          2005,
          2007,
          2012,
          2013,
          2013,
          1976,
          1998,
          2000,
          2000,
          2006,
          2007,
          2007,
          2010,
          2010,
          2011,
          2011,
          2011,
          2012,
          1973,
          1973,
          1995,
          2000,
          2000,
          2005,
          2005,
          2006,
          2006,
          2007,
          2007,
          2008,
          2008,
          2010,
          2011,
          2013,
          1997,
          1998,
          1998,
          2004,
          2009,
          2010,
          2011,
          2013,
          2013,
          2013,
          1995,
          1997,
          1998,
          2003,
          2004,
          2007,
          2009,
          2010,
          2011,
          2012,
          2013,
          2013,
          2013,
          1992,
          1998,
          1999,
          2002,
          2003,
          2008,
          2010,
          2011,
          2012,
          2012,
          1979,
          2006,
          2007,
          2009,
          2010,
          2010,
          2013,
          1989,
          1994,
          1997,
          2000,
          2000,
          2006,
          2009,
          2009,
          2013,
          2013,
          1978,
          1999,
          1999,
          2000,
          2000,
          2002,
          2003,
          2004,
          2005,
          2012,
          1979,
          1981,
          2003,
          2007,
          2012,
          2013,
          2013,
          1968,
          1968,
          1968,
          1992,
          1995,
          1999,
          2001,
          2001,
          2002,
          2003,
          2004,
          2005,
          2005,
          2006,
          2006,
          2009,
          2009,
          2010,
          1974,
          1992,
          1993,
          2003,
          2003,
          2005,
          2006,
          1981,
          1983,
          2007,
          2007,
          2009,
          2010,
          2011,
          2012,
          1957,
          1964,
          1967,
          1976,
          1980,
          1995,
          1999,
          1999,
          2002,
          2002,
          2004,
          2005,
          2012,
          2013,
          2013,
          2013,
          1966,
          1967,
          1998,
          2001,
          2003,
          2004,
          2005,
          2009,
          2010,
          2010,
          2012,
          2013,
          1970,
          1982,
          2003,
          2004,
          2005,
          2011,
          2013,
          2013,
          2002,
          2002,
          2002,
          2002,
          2002,
          2003,
          2004,
          2005,
          1954,
          1975,
          1996,
          1999,
          2000,
          2001,
          2004,
          2010,
          2012
         ],
         "xaxis": "x",
         "yaxis": "y"
        }
       ],
       "layout": {
        "barmode": "relative",
        "legend": {
         "tracegroupgap": 0
        },
        "template": {
         "data": {
          "bar": [
           {
            "error_x": {
             "color": "#2a3f5f"
            },
            "error_y": {
             "color": "#2a3f5f"
            },
            "marker": {
             "line": {
              "color": "#E5ECF6",
              "width": 0.5
             }
            },
            "type": "bar"
           }
          ],
          "barpolar": [
           {
            "marker": {
             "line": {
              "color": "#E5ECF6",
              "width": 0.5
             }
            },
            "type": "barpolar"
           }
          ],
          "carpet": [
           {
            "aaxis": {
             "endlinecolor": "#2a3f5f",
             "gridcolor": "white",
             "linecolor": "white",
             "minorgridcolor": "white",
             "startlinecolor": "#2a3f5f"
            },
            "baxis": {
             "endlinecolor": "#2a3f5f",
             "gridcolor": "white",
             "linecolor": "white",
             "minorgridcolor": "white",
             "startlinecolor": "#2a3f5f"
            },
            "type": "carpet"
           }
          ],
          "choropleth": [
           {
            "colorbar": {
             "outlinewidth": 0,
             "ticks": ""
            },
            "type": "choropleth"
           }
          ],
          "contour": [
           {
            "colorbar": {
             "outlinewidth": 0,
             "ticks": ""
            },
            "colorscale": [
             [
              0,
              "#0d0887"
             ],
             [
              0.1111111111111111,
              "#46039f"
             ],
             [
              0.2222222222222222,
              "#7201a8"
             ],
             [
              0.3333333333333333,
              "#9c179e"
             ],
             [
              0.4444444444444444,
              "#bd3786"
             ],
             [
              0.5555555555555556,
              "#d8576b"
             ],
             [
              0.6666666666666666,
              "#ed7953"
             ],
             [
              0.7777777777777778,
              "#fb9f3a"
             ],
             [
              0.8888888888888888,
              "#fdca26"
             ],
             [
              1,
              "#f0f921"
             ]
            ],
            "type": "contour"
           }
          ],
          "contourcarpet": [
           {
            "colorbar": {
             "outlinewidth": 0,
             "ticks": ""
            },
            "type": "contourcarpet"
           }
          ],
          "heatmap": [
           {
            "colorbar": {
             "outlinewidth": 0,
             "ticks": ""
            },
            "colorscale": [
             [
              0,
              "#0d0887"
             ],
             [
              0.1111111111111111,
              "#46039f"
             ],
             [
              0.2222222222222222,
              "#7201a8"
             ],
             [
              0.3333333333333333,
              "#9c179e"
             ],
             [
              0.4444444444444444,
              "#bd3786"
             ],
             [
              0.5555555555555556,
              "#d8576b"
             ],
             [
              0.6666666666666666,
              "#ed7953"
             ],
             [
              0.7777777777777778,
              "#fb9f3a"
             ],
             [
              0.8888888888888888,
              "#fdca26"
             ],
             [
              1,
              "#f0f921"
             ]
            ],
            "type": "heatmap"
           }
          ],
          "heatmapgl": [
           {
            "colorbar": {
             "outlinewidth": 0,
             "ticks": ""
            },
            "colorscale": [
             [
              0,
              "#0d0887"
             ],
             [
              0.1111111111111111,
              "#46039f"
             ],
             [
              0.2222222222222222,
              "#7201a8"
             ],
             [
              0.3333333333333333,
              "#9c179e"
             ],
             [
              0.4444444444444444,
              "#bd3786"
             ],
             [
              0.5555555555555556,
              "#d8576b"
             ],
             [
              0.6666666666666666,
              "#ed7953"
             ],
             [
              0.7777777777777778,
              "#fb9f3a"
             ],
             [
              0.8888888888888888,
              "#fdca26"
             ],
             [
              1,
              "#f0f921"
             ]
            ],
            "type": "heatmapgl"
           }
          ],
          "histogram": [
           {
            "marker": {
             "colorbar": {
              "outlinewidth": 0,
              "ticks": ""
             }
            },
            "type": "histogram"
           }
          ],
          "histogram2d": [
           {
            "colorbar": {
             "outlinewidth": 0,
             "ticks": ""
            },
            "colorscale": [
             [
              0,
              "#0d0887"
             ],
             [
              0.1111111111111111,
              "#46039f"
             ],
             [
              0.2222222222222222,
              "#7201a8"
             ],
             [
              0.3333333333333333,
              "#9c179e"
             ],
             [
              0.4444444444444444,
              "#bd3786"
             ],
             [
              0.5555555555555556,
              "#d8576b"
             ],
             [
              0.6666666666666666,
              "#ed7953"
             ],
             [
              0.7777777777777778,
              "#fb9f3a"
             ],
             [
              0.8888888888888888,
              "#fdca26"
             ],
             [
              1,
              "#f0f921"
             ]
            ],
            "type": "histogram2d"
           }
          ],
          "histogram2dcontour": [
           {
            "colorbar": {
             "outlinewidth": 0,
             "ticks": ""
            },
            "colorscale": [
             [
              0,
              "#0d0887"
             ],
             [
              0.1111111111111111,
              "#46039f"
             ],
             [
              0.2222222222222222,
              "#7201a8"
             ],
             [
              0.3333333333333333,
              "#9c179e"
             ],
             [
              0.4444444444444444,
              "#bd3786"
             ],
             [
              0.5555555555555556,
              "#d8576b"
             ],
             [
              0.6666666666666666,
              "#ed7953"
             ],
             [
              0.7777777777777778,
              "#fb9f3a"
             ],
             [
              0.8888888888888888,
              "#fdca26"
             ],
             [
              1,
              "#f0f921"
             ]
            ],
            "type": "histogram2dcontour"
           }
          ],
          "mesh3d": [
           {
            "colorbar": {
             "outlinewidth": 0,
             "ticks": ""
            },
            "type": "mesh3d"
           }
          ],
          "parcoords": [
           {
            "line": {
             "colorbar": {
              "outlinewidth": 0,
              "ticks": ""
             }
            },
            "type": "parcoords"
           }
          ],
          "pie": [
           {
            "automargin": true,
            "type": "pie"
           }
          ],
          "scatter": [
           {
            "marker": {
             "colorbar": {
              "outlinewidth": 0,
              "ticks": ""
             }
            },
            "type": "scatter"
           }
          ],
          "scatter3d": [
           {
            "line": {
             "colorbar": {
              "outlinewidth": 0,
              "ticks": ""
             }
            },
            "marker": {
             "colorbar": {
              "outlinewidth": 0,
              "ticks": ""
             }
            },
            "type": "scatter3d"
           }
          ],
          "scattercarpet": [
           {
            "marker": {
             "colorbar": {
              "outlinewidth": 0,
              "ticks": ""
             }
            },
            "type": "scattercarpet"
           }
          ],
          "scattergeo": [
           {
            "marker": {
             "colorbar": {
              "outlinewidth": 0,
              "ticks": ""
             }
            },
            "type": "scattergeo"
           }
          ],
          "scattergl": [
           {
            "marker": {
             "colorbar": {
              "outlinewidth": 0,
              "ticks": ""
             }
            },
            "type": "scattergl"
           }
          ],
          "scattermapbox": [
           {
            "marker": {
             "colorbar": {
              "outlinewidth": 0,
              "ticks": ""
             }
            },
            "type": "scattermapbox"
           }
          ],
          "scatterpolar": [
           {
            "marker": {
             "colorbar": {
              "outlinewidth": 0,
              "ticks": ""
             }
            },
            "type": "scatterpolar"
           }
          ],
          "scatterpolargl": [
           {
            "marker": {
             "colorbar": {
              "outlinewidth": 0,
              "ticks": ""
             }
            },
            "type": "scatterpolargl"
           }
          ],
          "scatterternary": [
           {
            "marker": {
             "colorbar": {
              "outlinewidth": 0,
              "ticks": ""
             }
            },
            "type": "scatterternary"
           }
          ],
          "surface": [
           {
            "colorbar": {
             "outlinewidth": 0,
             "ticks": ""
            },
            "colorscale": [
             [
              0,
              "#0d0887"
             ],
             [
              0.1111111111111111,
              "#46039f"
             ],
             [
              0.2222222222222222,
              "#7201a8"
             ],
             [
              0.3333333333333333,
              "#9c179e"
             ],
             [
              0.4444444444444444,
              "#bd3786"
             ],
             [
              0.5555555555555556,
              "#d8576b"
             ],
             [
              0.6666666666666666,
              "#ed7953"
             ],
             [
              0.7777777777777778,
              "#fb9f3a"
             ],
             [
              0.8888888888888888,
              "#fdca26"
             ],
             [
              1,
              "#f0f921"
             ]
            ],
            "type": "surface"
           }
          ],
          "table": [
           {
            "cells": {
             "fill": {
              "color": "#EBF0F8"
             },
             "line": {
              "color": "white"
             }
            },
            "header": {
             "fill": {
              "color": "#C8D4E3"
             },
             "line": {
              "color": "white"
             }
            },
            "type": "table"
           }
          ]
         },
         "layout": {
          "annotationdefaults": {
           "arrowcolor": "#2a3f5f",
           "arrowhead": 0,
           "arrowwidth": 1
          },
          "autotypenumbers": "strict",
          "coloraxis": {
           "colorbar": {
            "outlinewidth": 0,
            "ticks": ""
           }
          },
          "colorscale": {
           "diverging": [
            [
             0,
             "#8e0152"
            ],
            [
             0.1,
             "#c51b7d"
            ],
            [
             0.2,
             "#de77ae"
            ],
            [
             0.3,
             "#f1b6da"
            ],
            [
             0.4,
             "#fde0ef"
            ],
            [
             0.5,
             "#f7f7f7"
            ],
            [
             0.6,
             "#e6f5d0"
            ],
            [
             0.7,
             "#b8e186"
            ],
            [
             0.8,
             "#7fbc41"
            ],
            [
             0.9,
             "#4d9221"
            ],
            [
             1,
             "#276419"
            ]
           ],
           "sequential": [
            [
             0,
             "#0d0887"
            ],
            [
             0.1111111111111111,
             "#46039f"
            ],
            [
             0.2222222222222222,
             "#7201a8"
            ],
            [
             0.3333333333333333,
             "#9c179e"
            ],
            [
             0.4444444444444444,
             "#bd3786"
            ],
            [
             0.5555555555555556,
             "#d8576b"
            ],
            [
             0.6666666666666666,
             "#ed7953"
            ],
            [
             0.7777777777777778,
             "#fb9f3a"
            ],
            [
             0.8888888888888888,
             "#fdca26"
            ],
            [
             1,
             "#f0f921"
            ]
           ],
           "sequentialminus": [
            [
             0,
             "#0d0887"
            ],
            [
             0.1111111111111111,
             "#46039f"
            ],
            [
             0.2222222222222222,
             "#7201a8"
            ],
            [
             0.3333333333333333,
             "#9c179e"
            ],
            [
             0.4444444444444444,
             "#bd3786"
            ],
            [
             0.5555555555555556,
             "#d8576b"
            ],
            [
             0.6666666666666666,
             "#ed7953"
            ],
            [
             0.7777777777777778,
             "#fb9f3a"
            ],
            [
             0.8888888888888888,
             "#fdca26"
            ],
            [
             1,
             "#f0f921"
            ]
           ]
          },
          "colorway": [
           "#636efa",
           "#EF553B",
           "#00cc96",
           "#ab63fa",
           "#FFA15A",
           "#19d3f3",
           "#FF6692",
           "#B6E880",
           "#FF97FF",
           "#FECB52"
          ],
          "font": {
           "color": "#2a3f5f"
          },
          "geo": {
           "bgcolor": "white",
           "lakecolor": "white",
           "landcolor": "#E5ECF6",
           "showlakes": true,
           "showland": true,
           "subunitcolor": "white"
          },
          "hoverlabel": {
           "align": "left"
          },
          "hovermode": "closest",
          "mapbox": {
           "style": "light"
          },
          "paper_bgcolor": "white",
          "plot_bgcolor": "#E5ECF6",
          "polar": {
           "angularaxis": {
            "gridcolor": "white",
            "linecolor": "white",
            "ticks": ""
           },
           "bgcolor": "#E5ECF6",
           "radialaxis": {
            "gridcolor": "white",
            "linecolor": "white",
            "ticks": ""
           }
          },
          "scene": {
           "xaxis": {
            "backgroundcolor": "#E5ECF6",
            "gridcolor": "white",
            "gridwidth": 2,
            "linecolor": "white",
            "showbackground": true,
            "ticks": "",
            "zerolinecolor": "white"
           },
           "yaxis": {
            "backgroundcolor": "#E5ECF6",
            "gridcolor": "white",
            "gridwidth": 2,
            "linecolor": "white",
            "showbackground": true,
            "ticks": "",
            "zerolinecolor": "white"
           },
           "zaxis": {
            "backgroundcolor": "#E5ECF6",
            "gridcolor": "white",
            "gridwidth": 2,
            "linecolor": "white",
            "showbackground": true,
            "ticks": "",
            "zerolinecolor": "white"
           }
          },
          "shapedefaults": {
           "line": {
            "color": "#2a3f5f"
           }
          },
          "ternary": {
           "aaxis": {
            "gridcolor": "white",
            "linecolor": "white",
            "ticks": ""
           },
           "baxis": {
            "gridcolor": "white",
            "linecolor": "white",
            "ticks": ""
           },
           "bgcolor": "#E5ECF6",
           "caxis": {
            "gridcolor": "white",
            "linecolor": "white",
            "ticks": ""
           }
          },
          "title": {
           "x": 0.05
          },
          "xaxis": {
           "automargin": true,
           "gridcolor": "white",
           "linecolor": "white",
           "ticks": "",
           "title": {
            "standoff": 15
           },
           "zerolinecolor": "white",
           "zerolinewidth": 2
          },
          "yaxis": {
           "automargin": true,
           "gridcolor": "white",
           "linecolor": "white",
           "ticks": "",
           "title": {
            "standoff": 15
           },
           "zerolinecolor": "white",
           "zerolinewidth": 2
          }
         }
        },
        "title": {
         "text": "Sightings by year of disk shapes seen in the country us"
        },
        "xaxis": {
         "anchor": "y",
         "domain": [
          0,
          1
         ],
         "title": {
          "text": "x"
         }
        },
        "yaxis": {
         "anchor": "x",
         "domain": [
          0,
          1
         ],
         "title": {
          "text": "count"
         }
        }
       }
      },
      "text/html": [
       "<div>                            <div id=\"c79fefb7-dbaf-4667-a76c-2baa7664e6d5\" class=\"plotly-graph-div\" style=\"height:525px; width:100%;\"></div>            <script type=\"text/javascript\">                require([\"plotly\"], function(Plotly) {                    window.PLOTLYENV=window.PLOTLYENV || {};                                    if (document.getElementById(\"c79fefb7-dbaf-4667-a76c-2baa7664e6d5\")) {                    Plotly.newPlot(                        \"c79fefb7-dbaf-4667-a76c-2baa7664e6d5\",                        [{\"alignmentgroup\": \"True\", \"bingroup\": \"x\", \"hovertemplate\": \"x=%{x}<br>count=%{y}<extra></extra>\", \"legendgroup\": \"\", \"marker\": {\"color\": \"#636efa\"}, \"name\": \"\", \"offsetgroup\": \"\", \"orientation\": \"v\", \"showlegend\": false, \"type\": \"histogram\", \"x\": [1965, 1966, 1966, 1970, 1972, 1973, 1989, 2005, 2006, 2008, 2008, 2009, 2010, 2011, 2012, 1999, 2003, 2006, 2007, 2008, 2009, 1950, 1952, 1957, 1961, 1961, 1965, 1966, 1967, 1970, 1970, 1971, 1972, 1973, 1973, 1973, 1976, 1976, 1976, 1978, 1979, 1979, 1979, 1983, 1989, 1989, 1991, 1994, 1994, 1995, 1998, 1998, 2000, 2005, 2008, 2009, 2009, 2010, 1965, 1973, 1976, 1985, 1994, 1997, 2000, 2000, 2001, 2001, 2002, 2002, 2008, 2010, 2011, 2013, 1966, 1971, 1999, 2002, 2003, 2003, 2004, 2005, 2006, 1978, 2002, 2002, 2008, 2013, 1953, 1966, 1966, 1967, 1969, 1969, 1971, 1971, 1973, 1973, 1973, 1975, 1975, 1975, 1975, 1975, 1975, 1976, 1977, 1978, 1980, 1981, 1982, 1982, 1982, 1983, 1984, 1984, 1985, 1985, 1986, 1986, 1986, 1986, 1987, 1989, 1991, 1993, 1994, 1994, 1994, 1998, 1998, 1999, 2000, 2001, 2003, 2003, 2003, 2003, 2003, 2004, 2007, 2008, 2008, 2010, 2011, 2012, 2013, 2013, 1977, 1992, 1999, 2000, 2007, 2011, 1965, 1965, 1993, 2005, 2008, 2010, 2011, 2012, 2012, 2013, 1981, 1989, 1990, 2002, 2003, 2003, 2011, 2011, 2011, 1992, 1998, 2002, 2008, 2011, 2013, 2013, 1967, 1968, 1980, 1994, 2000, 2000, 2003, 2004, 2004, 2005, 2005, 2007, 2007, 2010, 2011, 2011, 1966, 1973, 1973, 1973, 1995, 1995, 2006, 2008, 2010, 2010, 2012, 1965, 2009, 2013, 2013, 1968, 1997, 2002, 2003, 2003, 2003, 2004, 2004, 2005, 2006, 2006, 2012, 2013, 1992, 1998, 1999, 2011, 2011, 2013, 2013, 1979, 1994, 2003, 2004, 2012, 2012, 2013, 1968, 1972, 1978, 1983, 1998, 1999, 2002, 2003, 2004, 2012, 2012, 2013, 2013, 2013, 2001, 2006, 2008, 2012, 2013, 2001, 2001, 2002, 2005, 2007, 2008, 2010, 2001, 2001, 2002, 2003, 2004, 2005, 2007, 2008, 2013, 2013, 1990, 2000, 2001, 2004, 2004, 2005, 2006, 2006, 2010, 2011, 1973, 1973, 1976, 1976, 1996, 1997, 1999, 2002, 2003, 2004, 2007, 2008, 2013, 1981, 1985, 1988, 1990, 2000, 2000, 2001, 2001, 2003, 2004, 2005, 2007, 2008, 2010, 1986, 2000, 2002, 2002, 2003, 2003, 2005, 2006, 2008, 1963, 1963, 1981, 2000, 2006, 2007, 2012, 1967, 1968, 1968, 2003, 2010, 2010, 2011, 2012, 2013, 1967, 1999, 2000, 2002, 2004, 2004, 2004, 2004, 2006, 2006, 2009, 2010, 2011, 2012, 1965, 1999, 2000, 2002, 2003, 2007, 2012, 2013, 1973, 2000, 2003, 2004, 2006, 2008, 2009, 2010, 2010, 2011, 2011, 1980, 1998, 1998, 1999, 2001, 2003, 2003, 2005, 2008, 2009, 2010, 2011, 2011, 2012, 1959, 1980, 1999, 2000, 2001, 2003, 2005, 2007, 2007, 2009, 1973, 1986, 1995, 1998, 2003, 2003, 2003, 2005, 2007, 2008, 2010, 2010, 1966, 1973, 2000, 2001, 2002, 2003, 2005, 2010, 2011, 2012, 2013, 1976, 1978, 1983, 1984, 1991, 1994, 1998, 1999, 2000, 2001, 2002, 2004, 2005, 2006, 2007, 2007, 2007, 2007, 2007, 2007, 2008, 2009, 2011, 2011, 2012, 2012, 2012, 1964, 1967, 1976, 1994, 1998, 2001, 2002, 2003, 2007, 2008, 2009, 2010, 2010, 1974, 2007, 2008, 2011, 2013, 2013, 1954, 1997, 1998, 2008, 2012, 1958, 1965, 1970, 1973, 1973, 1973, 1974, 1975, 1975, 1976, 1977, 1977, 1988, 1988, 1988, 1989, 1989, 1991, 1994, 1998, 2003, 2004, 2005, 2005, 2006, 2007, 2008, 2008, 2009, 1999, 1999, 2004, 2005, 2005, 2006, 2008, 2010, 1971, 1998, 2008, 2009, 2010, 2010, 2011, 2011, 2012, 2012, 1998, 1999, 2000, 2001, 2001, 2004, 2005, 2005, 2008, 2008, 2012, 2012, 2013, 1910, 1988, 2000, 2002, 2006, 2006, 1956, 1966, 1970, 1975, 1975, 1977, 1978, 1979, 1979, 1981, 1998, 2003, 2003, 2004, 2005, 2007, 2007, 2007, 2007, 2008, 2008, 2010, 2012, 2013, 2013, 1999, 1999, 2010, 2013, 1953, 2000, 2005, 2010, 1960, 1968, 1978, 1978, 1999, 2000, 2000, 2000, 2000, 2002, 2005, 2005, 2006, 2007, 2007, 2010, 2010, 2010, 2011, 2013, 2014, 2014, 1979, 1980, 1998, 2003, 2005, 2006, 2010, 2010, 2012, 1999, 1999, 2005, 2006, 2008, 2012, 1995, 2001, 2003, 2004, 2006, 2008, 2012, 2013, 2013, 1958, 2003, 2004, 2005, 2010, 2012, 1985, 1996, 2004, 2007, 2011, 2012, 2013, 2013, 1992, 1999, 2000, 2001, 2004, 2006, 2006, 2011, 2011, 2000, 2001, 2002, 2003, 2004, 2005, 2005, 2008, 2011, 2013, 1999, 2001, 2002, 2003, 2004, 2006, 2007, 2012, 2013, 1978, 1990, 1996, 1999, 2003, 2003, 2011, 2013, 2001, 2005, 2009, 2009, 2010, 2011, 2012, 2012, 2012, 1974, 1977, 1991, 1994, 1999, 2000, 2000, 2001, 2002, 2002, 2003, 2006, 2008, 2008, 2008, 2009, 2011, 2012, 1960, 1969, 1974, 1980, 1990, 1990, 1997, 1997, 1999, 1999, 1999, 2001, 2002, 2003, 2003, 2003, 2004, 2004, 2004, 2005, 2005, 2006, 2006, 2008, 2008, 2009, 2009, 2010, 2010, 2012, 2012, 2013, 2014, 2014, 1992, 1999, 1999, 1999, 1999, 2001, 2002, 2003, 2005, 2006, 2006, 2006, 2007, 2007, 2007, 2007, 2008, 2009, 2009, 2011, 2012, 2013, 2013, 1999, 2000, 2004, 2004, 2005, 2007, 2007, 2007, 2007, 2008, 2009, 2011, 2011, 2003, 2004, 2004, 2006, 2006, 2008, 2009, 2009, 2009, 2010, 2010, 2011, 2012, 2012, 2013, 1975, 1989, 1994, 1996, 1999, 2001, 2004, 2004, 2005, 2005, 2008, 2008, 2009, 2009, 2010, 2012, 2013, 2014, 1963, 1969, 2000, 2005, 2007, 2008, 2009, 2010, 2010, 1968, 1978, 1980, 1994, 2001, 2004, 2006, 2009, 2009, 2010, 2010, 2010, 2010, 2010, 2012, 1998, 2006, 2007, 2007, 1970, 1975, 1980, 1999, 2001, 2001, 2002, 2002, 2004, 2004, 2004, 2006, 2006, 2007, 2009, 2009, 2011, 2012, 2014, 2000, 2005, 2006, 2011, 1989, 2004, 2004, 2005, 2006, 2008, 2009, 2012, 2012, 1988, 1998, 1998, 2004, 2006, 2008, 2011, 2012, 1977, 1982, 1986, 1992, 1992, 1993, 1997, 1997, 1997, 1998, 2000, 2000, 2000, 2000, 2002, 2007, 1998, 2001, 2003, 2005, 2006, 2009, 2010, 2013, 2010, 2013, 2013, 1975, 1998, 2003, 2004, 2005, 2009, 2010, 2010, 2012, 1999, 2010, 2000, 2003, 2007, 2007, 2009, 2011, 1959, 1978, 1978, 1991, 2002, 2003, 2003, 2003, 2004, 2007, 2009, 2010, 2012, 1998, 1998, 1999, 2005, 2013, 1997, 1998, 2003, 2003, 2006, 2007, 2008, 2008, 2008, 2009, 2010, 2010, 2011, 2013, 1999, 2002, 1978, 2002, 2005, 2007, 2007, 2007, 2007, 2010, 2012, 1972, 1981, 1992, 2001, 2004, 2005, 2006, 2013, 1976, 1997, 2008, 2012, 2012, 2003, 2009, 2012, 2003, 2007, 2008, 1925, 1977, 1999, 2000, 2000, 2001, 2009, 2000, 2000, 2008, 2009, 1967, 2002, 2003, 2007, 2007, 2008, 2008, 2008, 1975, 1978, 1983, 1996, 1998, 2000, 2002, 2003, 2004, 2008, 2009, 2009, 2009, 2011, 2013, 1976, 1999, 1999, 2000, 2000, 2000, 2001, 2001, 2001, 2004, 2008, 2008, 2008, 2011, 2014, 1974, 1974, 1994, 2000, 2001, 2002, 2004, 2005, 2006, 2006, 2008, 2008, 2009, 2012, 2013, 2014, 1992, 1999, 2001, 2003, 2004, 2006, 2006, 2006, 2008, 2008, 2011, 2013, 2013, 1998, 2000, 2001, 2002, 2002, 2003, 2006, 2006, 2007, 2007, 2008, 2009, 2009, 2012, 2013, 2014, 1998, 2003, 2006, 2007, 2008, 2009, 2011, 2011, 2012, 2012, 2012, 2013, 1973, 2002, 2002, 2003, 2006, 2006, 2009, 2009, 2012, 2013, 1980, 1987, 1997, 1998, 1999, 1999, 2003, 2003, 2004, 2005, 2006, 2007, 2007, 2011, 2014, 2014, 2014, 1968, 2007, 2009, 2009, 2012, 2013, 2014, 1998, 1998, 2008, 2013, 2002, 2007, 2007, 2011, 2011, 2012, 2012, 2013, 2013, 1975, 1997, 2004, 2004, 2007, 2008, 2011, 2011, 2013, 1995, 1995, 1999, 2002, 2002, 2003, 2004, 2010, 1990, 2002, 2004, 2006, 2010, 2011, 2012, 2012, 2014, 2014, 2014, 2003, 2005, 2008, 1946, 1968, 1997, 1997, 2009, 2013, 1979, 2008, 2012, 2013, 2013, 1952, 1966, 1970, 1979, 2001, 2002, 2002, 2004, 2007, 2009, 2002, 2004, 1999, 2001, 2003, 2003, 2004, 2013, 2001, 2002, 2007, 2008, 2009, 1966, 2005, 2009, 1976, 2002, 2002, 2004, 2006, 2007, 2008, 2008, 2009, 2014, 1951, 1954, 1970, 1983, 1986, 1991, 2000, 2003, 2003, 2005, 2007, 2012, 2008, 2008, 2011, 2000, 2002, 2002, 2004, 2006, 2006, 2009, 2009, 2011, 2001, 2002, 2014, 2014, 1974, 1999, 2008, 2009, 2012, 2013, 1947, 1998, 2002, 2003, 2004, 2006, 2008, 2009, 2009, 2011, 2014, 2000, 2001, 2001, 2008, 2010, 2011, 2012, 2012, 1961, 2003, 2007, 2012, 2003, 2003, 2006, 2008, 2008, 2010, 1999, 2001, 2001, 2005, 2008, 2012, 2000, 2006, 2007, 2013, 2004, 2004, 2005, 2009, 2011, 1998, 2004, 2005, 2012, 2013, 2001, 2002, 2004, 2004, 2005, 2008, 2008, 1990, 2005, 2007, 2007, 2008, 2011, 2014, 2004, 1951, 1997, 2003, 2003, 2004, 2007, 2011, 2014, 2001, 2005, 2007, 2009, 2010, 2010, 2012, 1988, 2004, 2005, 2011, 2014, 2001, 2006, 2007, 2007, 2007, 2014, 2005, 2007, 2008, 2014, 2000, 2002, 2003, 2004, 2005, 2006, 2009, 2010, 1996, 1999, 2002, 2004, 2005, 2005, 2005, 2008, 2008, 1970, 1978, 1979, 1979, 1991, 1994, 2003, 2004, 2004, 2005, 2010, 2011, 2012, 2012, 2013, 1999, 2001, 2003, 2005, 2005, 2008, 2008, 2011, 2014, 1968, 1969, 1975, 1983, 1983, 1999, 2000, 2001, 2002, 2008, 2011, 2012, 2014, 2004, 2005, 2005, 2011, 2001, 2004, 2008, 2001, 2002, 2004, 2007, 2008, 2009, 2009, 2012, 2012, 1946, 1957, 1965, 1974, 1976, 1980, 1981, 1986, 1988, 1990, 1992, 1994, 1996, 1997, 1998, 1998, 2000, 2000, 2002, 2003, 2006, 2010, 2011, 1966, 2000, 2005, 2011, 2011, 1977, 2001, 2008, 2009, 2009, 2010, 2004, 2006, 2011, 2012, 2014, 2002, 2004, 2005, 2005, 2010, 2012, 2012, 1956, 1975, 1976, 1980, 1980, 1996, 1999, 1999, 2002, 2003, 2008, 2010, 2012, 2013, 1966, 1974, 1978, 1999, 2006, 2012, 2012, 2004, 2006, 2008, 2008, 2009, 2014, 1998, 2008, 2009, 2010, 2013, 2014, 2014, 1995, 2001, 2006, 2009, 2011, 2014, 1976, 1980, 1994, 1999, 1999, 2000, 2008, 2008, 2011, 2011, 2014, 2014, 1978, 1999, 2001, 2006, 2011, 2001, 2004, 2008, 2011, 1977, 1997, 1998, 2001, 2003, 2004, 2004, 2009, 2014, 1995, 1997, 1998, 2004, 2004, 2005, 2010, 2011, 2013, 2014, 1979, 2008, 2008, 2008, 1999, 2001, 2003, 2007, 2008, 2011, 2012, 2014, 1980, 1999, 2000, 2002, 2005, 2005, 2006, 2007, 2007, 2011, 2014, 2014, 1962, 2001, 2006, 2007, 2011, 1972, 1999, 1999, 2007, 2006, 2007, 2007, 2010, 2014, 2014, 1975, 2000, 2001, 2001, 2003, 2004, 2005, 2008, 2008, 2008, 2010, 2014, 1997, 1998, 2001, 2004, 2009, 2011, 2011, 2012, 2012, 2000, 2001, 2003, 2003, 2003, 2005, 2007, 2007, 2008, 2008, 2009, 2014, 2000, 2005, 2006, 2008, 2011, 2013, 1949, 1975, 1986, 1997, 2003, 2004, 2008, 2010, 2014, 1967, 1977, 1994, 2001, 2005, 2008, 2009, 2014, 1965, 1966, 1967, 1972, 1972, 1973, 1979, 1986, 1991, 1994, 1996, 2000, 2004, 2005, 2008, 2011, 2012, 1968, 1988, 2003, 2003, 2004, 2007, 2014, 1993, 1999, 2007, 2008, 2014, 1966, 1981, 2000, 2001, 2005, 2011, 1952, 1959, 1964, 1966, 1971, 1974, 1975, 1976, 1978, 1984, 1985, 1986, 1988, 1988, 1992, 1998, 1998, 1999, 2000, 2000, 2003, 2004, 2009, 2010, 2013, 1977, 1992, 1993, 2000, 2001, 2001, 2002, 2002, 2003, 2004, 2005, 2006, 2007, 2008, 2008, 2010, 2011, 2012, 1977, 1992, 1995, 2002, 2002, 2004, 2004, 2007, 2008, 2010, 2012, 2012, 1975, 2001, 2002, 2003, 2005, 2008, 2008, 2014, 2014, 1978, 1994, 1999, 2005, 2006, 2006, 2008, 2009, 2014, 2014, 1965, 1970, 1974, 1979, 2003, 2008, 2009, 2011, 2011, 2013, 1984, 2000, 2004, 2007, 2012, 1944, 1974, 1979, 2004, 2004, 2007, 2007, 2014, 2014, 2001, 2006, 2006, 2007, 2008, 2013, 2014, 2014, 1975, 2000, 2003, 2004, 2005, 2008, 2009, 2014, 1992, 1999, 2010, 2012, 1974, 1975, 1999, 2003, 2004, 2005, 2006, 2010, 2011, 2011, 2014, 1996, 1998, 2003, 2003, 2005, 2007, 2007, 2008, 2012, 1990, 2004, 2008, 2013, 2000, 2003, 2004, 2004, 2010, 2000, 2001, 2004, 2004, 2005, 2006, 2007, 2012, 2014, 1997, 2000, 2000, 2007, 2008, 2008, 2004, 2007, 2007, 2009, 2012, 2013, 2014, 2014, 1985, 1999, 2001, 2003, 2007, 2012, 2012, 2013, 2014, 1968, 1971, 1971, 1973, 1983, 1995, 1996, 1996, 2000, 2001, 2003, 2006, 2006, 2006, 2006, 2006, 2009, 2010, 2014, 2014, 1971, 2009, 1963, 1967, 2001, 2003, 2006, 2006, 2007, 2010, 2012, 2014, 1992, 2004, 2004, 2004, 2004, 2005, 2006, 2006, 2009, 2010, 2012, 2012, 2004, 2004, 2005, 2007, 2010, 2012, 2014, 1976, 1976, 1991, 1992, 1999, 2003, 2003, 2004, 2013, 2013, 2013, 1982, 1998, 2003, 2006, 2006, 2007, 1967, 1969, 1969, 1970, 1970, 1973, 1973, 1975, 1977, 1978, 1980, 1982, 1988, 1991, 1996, 1996, 1997, 2001, 2005, 2007, 2008, 2009, 2010, 2010, 2012, 1968, 1980, 1985, 1994, 1996, 1998, 2000, 2001, 2004, 2005, 2005, 2006, 2012, 1983, 2002, 2007, 2008, 1973, 1974, 1984, 2000, 2001, 2002, 2004, 2004, 2009, 2012, 1952, 1962, 1964, 1964, 1965, 1965, 1966, 1967, 1974, 1974, 1974, 1974, 1975, 1975, 1975, 1977, 1983, 1984, 1997, 1999, 1999, 2000, 2000, 2004, 2004, 2004, 2005, 2005, 2006, 2006, 2007, 2008, 2001, 2003, 2004, 2004, 2010, 2003, 2004, 2009, 1999, 2002, 2003, 2004, 2004, 2008, 2010, 2011, 2012, 1973, 2004, 2007, 2008, 2010, 2012, 1974, 1981, 1996, 2004, 2007, 2008, 2009, 1971, 1987, 1998, 2002, 2007, 2009, 2011, 2002, 2004, 2010, 1993, 1994, 1997, 2001, 2002, 2002, 2003, 2008, 2009, 2011, 2012, 2013, 1975, 1994, 2003, 2004, 2006, 2007, 2010, 2012, 1999, 2005, 2005, 2005, 2009, 1991, 1997, 2000, 2000, 2005, 2006, 2009, 2009, 2009, 2013, 1954, 1997, 2000, 2001, 2001, 2002, 2005, 2006, 2007, 2008, 2008, 2010, 2011, 2013, 2013, 1997, 2000, 2003, 2005, 2007, 2010, 2012, 2013, 1977, 1977, 2002, 2002, 2005, 2008, 2011, 2011, 1998, 2000, 2002, 2009, 2009, 2009, 2013, 1959, 1962, 2001, 2003, 2004, 2005, 2006, 2007, 2008, 2008, 2008, 2009, 2011, 1965, 1983, 1991, 1998, 2004, 2007, 2007, 2009, 2013, 2001, 2004, 2005, 2007, 2010, 1990, 1998, 1999, 2002, 2008, 2009, 1972, 1980, 1984, 1987, 2001, 2002, 2002, 2012, 2014, 1979, 1987, 1997, 1999, 2000, 2002, 2012, 2012, 2013, 1963, 1997, 2000, 2005, 2006, 2008, 2009, 2013, 2014, 2000, 2004, 2007, 2008, 2008, 2010, 2012, 1982, 1999, 2000, 2004, 2008, 2010, 2011, 1949, 1950, 1966, 1966, 1968, 1968, 1969, 1971, 1971, 1972, 1974, 1977, 1977, 1984, 1987, 1988, 1997, 1999, 2001, 2001, 2013, 1966, 1987, 1996, 1998, 2001, 2003, 2005, 2010, 2012, 2012, 1931, 1941, 1944, 1950, 1954, 1954, 1954, 1954, 1955, 1957, 1957, 1960, 1960, 1960, 1961, 1962, 1962, 1963, 1963, 1963, 1965, 1965, 1965, 1965, 1965, 1966, 1966, 1966, 1966, 1966, 1966, 1966, 1966, 1966, 1966, 1967, 1967, 1967, 1967, 1967, 1968, 1968, 1969, 1969, 1969, 1970, 1970, 1970, 1970, 1970, 1970, 1971, 1971, 1971, 1971, 1971, 1972, 1973, 1974, 1974, 1974, 1975, 1975, 1975, 1975, 1975, 1975, 1975, 1975, 1976, 1976, 1976, 1976, 1976, 1976, 1977, 1978, 1978, 1978, 1978, 1978, 1979, 1979, 1979, 1979, 1980, 1980, 1980, 1980, 1980, 1980, 1981, 1981, 1982, 1983, 1983, 1983, 1983, 1984, 1985, 1985, 1987, 1987, 1988, 1988, 1989, 1989, 1989, 1990, 1990, 1990, 1990, 1991, 1991, 1991, 1991, 1991, 1992, 1993, 1993, 1994, 1994, 1994, 1996, 1996, 1999, 1999, 1999, 1999, 2000, 2000, 2002, 2004, 2008, 2008, 2009, 1989, 2000, 2004, 2006, 2007, 2009, 2009, 2012, 1960, 1995, 1995, 2003, 2004, 2008, 2009, 2009, 2011, 2013, 1964, 2002, 2004, 2005, 2008, 2012, 2013, 1947, 1947, 1948, 1950, 1951, 1953, 1954, 1956, 1957, 1958, 1959, 1960, 1962, 1963, 1964, 1965, 1965, 1965, 1966, 1966, 1966, 1967, 1967, 1968, 1968, 1968, 1968, 1968, 1968, 1970, 1970, 1970, 1971, 1971, 1972, 1973, 1973, 1973, 1974, 1974, 1975, 1975, 1975, 1976, 1976, 1976, 1976, 1976, 1976, 1977, 1977, 1977, 1977, 1977, 1978, 1978, 1978, 1978, 1978, 1979, 1979, 1979, 1979, 1980, 1980, 1980, 1980, 1982, 1982, 1982, 1982, 1983, 1983, 1984, 1984, 1985, 1985, 1985, 1985, 1986, 1989, 1989, 1991, 1995, 1995, 1995, 1996, 1996, 1997, 1997, 1997, 1997, 1998, 1999, 1999, 1999, 2000, 2001, 2001, 2002, 2003, 2003, 2004, 2004, 2005, 2005, 2006, 2008, 2011, 2013, 1956, 1972, 1977, 2004, 2004, 2004, 2005, 2007, 2008, 2011, 2011, 2012, 1961, 1994, 1999, 2000, 2001, 2002, 2003, 2005, 2005, 2006, 2006, 2008, 2008, 2010, 2011, 2012, 2013, 2013, 1966, 1999, 1999, 2002, 2004, 2004, 2004, 2004, 2005, 2008, 2008, 2008, 1982, 1996, 1997, 2000, 2003, 2004, 2005, 2009, 1950, 1965, 1966, 1966, 1972, 1972, 1974, 1975, 1978, 1979, 1999, 2000, 2001, 2003, 2007, 2007, 2007, 2008, 2009, 2009, 2011, 2011, 1957, 1960, 1997, 1998, 2004, 2005, 2008, 2008, 2009, 2011, 2013, 2013, 2001, 2002, 2003, 2004, 2006, 2010, 2012, 1972, 1973, 2000, 2001, 2009, 2013, 1955, 1994, 1999, 2001, 2002, 2006, 2007, 2007, 2009, 2012, 2012, 2001, 2002, 2007, 2012, 1965, 1966, 1970, 1974, 1976, 1976, 1991, 1992, 2003, 2004, 2005, 2007, 2007, 2009, 2010, 2010, 2012, 1968, 1976, 1997, 1999, 2002, 2002, 2003, 2003, 2006, 2006, 2006, 2007, 2010, 1998, 2004, 2006, 2008, 2012, 1964, 1965, 1997, 2002, 2003, 2003, 2003, 2003, 2005, 2005, 2005, 2007, 2008, 2011, 2012, 2012, 1968, 2004, 2008, 2008, 2009, 2011, 2011, 1950, 1950, 1951, 1952, 1952, 1952, 1955, 1955, 1956, 1957, 1958, 1959, 1961, 1962, 1963, 1963, 1963, 1965, 1966, 1966, 1966, 1966, 1966, 1967, 1968, 1968, 1968, 1969, 1969, 1970, 1971, 1972, 1972, 1972, 1972, 1974, 1974, 1974, 1975, 1976, 1976, 1976, 1976, 1977, 1978, 1978, 1978, 1978, 1978, 1981, 1982, 1985, 1985, 1985, 1986, 1989, 1991, 1994, 1995, 1996, 1996, 1996, 2001, 2003, 2005, 2006, 2007, 2008, 2009, 2012, 2012, 2012, 1960, 1991, 2001, 2003, 2005, 2009, 1969, 2000, 2000, 2003, 2006, 2006, 2010, 2011, 2013, 1964, 1969, 1970, 1976, 1981, 1997, 1998, 2001, 2004, 2005, 2005, 2006, 2009, 2012, 2013, 1952, 1968, 1968, 1970, 1975, 1976, 1977, 1982, 1990, 2001, 2001, 2002, 2005, 2005, 2006, 2007, 2008, 1945, 1973, 1985, 1986, 2002, 2002, 2006, 2006, 2006, 2008, 2008, 2012, 2012, 1950, 1981, 1997, 2003, 2003, 2003, 2003, 2007, 1999, 2000, 2005, 2012, 2013, 1951, 1963, 1975, 1976, 1993, 1997, 1998, 2001, 2007, 2007, 2007, 2009, 2010, 2010, 2011, 1994, 2002, 2003, 2004, 2008, 2010, 1947, 1949, 1951, 1953, 1955, 1959, 1962, 1963, 1964, 1965, 1966, 1968, 1968, 1969, 1969, 1969, 1969, 1972, 1973, 1973, 1976, 1977, 1977, 1977, 1978, 1979, 1979, 1979, 1979, 1982, 1983, 1986, 1986, 1989, 1991, 1991, 1993, 1996, 1997, 1997, 2000, 2000, 2001, 2002, 2003, 2006, 2006, 2007, 2012, 1972, 1977, 1987, 1995, 1997, 2000, 2000, 2003, 2004, 2004, 2006, 2007, 2008, 2010, 2011, 2012, 1957, 1974, 1979, 2000, 2002, 2008, 2010, 2011, 1956, 1978, 1995, 1999, 2000, 2004, 2006, 2008, 2009, 2010, 2012, 2012, 1947, 1947, 1947, 1952, 1954, 1954, 1956, 1956, 1957, 1957, 1958, 1962, 1963, 1963, 1964, 1965, 1967, 1967, 1969, 1969, 1969, 1969, 1970, 1974, 1974, 1975, 1975, 1975, 1975, 1975, 1975, 1976, 1976, 1976, 1977, 1977, 1978, 1978, 1978, 1978, 1979, 1980, 1980, 1983, 1985, 1985, 1986, 1987, 1987, 1990, 1990, 1991, 1991, 1995, 1997, 1998, 1998, 1999, 1999, 2000, 2001, 2002, 2003, 2003, 2003, 2003, 2003, 2004, 2005, 2005, 2006, 2006, 2008, 2010, 2010, 2011, 1961, 1967, 1978, 1980, 2000, 2004, 2009, 2009, 2010, 2010, 2010, 2012, 1971, 1973, 1989, 2000, 2003, 2003, 2003, 2007, 2007, 2008, 2010, 2011, 2013, 2013, 1990, 1992, 1999, 2000, 2000, 2003, 2004, 2006, 2006, 2008, 2008, 2009, 2009, 2010, 2012, 1959, 1968, 1985, 1996, 2002, 2002, 2006, 2008, 2010, 2013, 1950, 1958, 1962, 1963, 1965, 1968, 1970, 1973, 1974, 1975, 1988, 1997, 1998, 1999, 2000, 2003, 2006, 2007, 2007, 2009, 2009, 2010, 2012, 1974, 1976, 2001, 2001, 2003, 2004, 2005, 2006, 2007, 2011, 1978, 1999, 2002, 2004, 2008, 2011, 2013, 2013, 1973, 1974, 1977, 1998, 2001, 2007, 2008, 2009, 2010, 2011, 1996, 1999, 1999, 2002, 2004, 2005, 2008, 2008, 1974, 1974, 1984, 1999, 2000, 2001, 2005, 2005, 2009, 1977, 1978, 1999, 2001, 2001, 2003, 2005, 2009, 2009, 2009, 2010, 2013, 1999, 2002, 2006, 2008, 2009, 2010, 2012, 1995, 1999, 2002, 2003, 2007, 2008, 2009, 2010, 2011, 2013, 2013, 1982, 1998, 2002, 2004, 2005, 2005, 2007, 2007, 2007, 2007, 2009, 2010, 2010, 1978, 2001, 2002, 2003, 2006, 2007, 2009, 2011, 2013, 1981, 1992, 2000, 2002, 2005, 2007, 2013, 1967, 1973, 1999, 2002, 2005, 2007, 2008, 2012, 2012, 1968, 1976, 1982, 1983, 2000, 2005, 2007, 2007, 2008, 2009, 2011, 2011, 1966, 1969, 1977, 1978, 1978, 1982, 1991, 1997, 1997, 2001, 2003, 2004, 2004, 2005, 2005, 2005, 2006, 2007, 2008, 2008, 2009, 2009, 2010, 2010, 2010, 2011, 2011, 2011, 2011, 2011, 2011, 2012, 2012, 2012, 2012, 2012, 2012, 2012, 2013, 2013, 2013, 1929, 1947, 1969, 1972, 1979, 1990, 2006, 2007, 2007, 2008, 2008, 2009, 2009, 2010, 2010, 2010, 2013, 1980, 2003, 2003, 2007, 2013, 1952, 1968, 1968, 1973, 1973, 1973, 1974, 1993, 2001, 2007, 2008, 2013, 2013, 2013, 1977, 1994, 2001, 2002, 2003, 2003, 2003, 2003, 2004, 2005, 2005, 2007, 2010, 2011, 2013, 1947, 1964, 1998, 2001, 2005, 2006, 2008, 2008, 2010, 2010, 2010, 2012, 2012, 1959, 1971, 1973, 1977, 1978, 1981, 1982, 1982, 1982, 1982, 1989, 1994, 2002, 2002, 2002, 2004, 2005, 2005, 2010, 2011, 2013, 2013, 1968, 1998, 2002, 2002, 2004, 2010, 2011, 2013, 1954, 1957, 1958, 1959, 1960, 1960, 1961, 1962, 1962, 1963, 1964, 1965, 1967, 1969, 1972, 1974, 1976, 1976, 1978, 1980, 1984, 1988, 1988, 1989, 1990, 1996, 1996, 1997, 1999, 1999, 1999, 2002, 2007, 2008, 2010, 2010, 1947, 1963, 1965, 1973, 1974, 1977, 1980, 1985, 1988, 1992, 1996, 1998, 1999, 2000, 2002, 2002, 2002, 2003, 2004, 2004, 2009, 2011, 2012, 2012, 1964, 1998, 2000, 2002, 2007, 2007, 2008, 2011, 2012, 2013, 2013, 1957, 1968, 1979, 1997, 1999, 2001, 2004, 2006, 2006, 2006, 2007, 2008, 2009, 2009, 2010, 2011, 2011, 2013, 1950, 1951, 1952, 1957, 1961, 1962, 1962, 1965, 1965, 1966, 1966, 1966, 1967, 1968, 1968, 1968, 1969, 1970, 1973, 1973, 1973, 1974, 1974, 1975, 1975, 1975, 1975, 1975, 1976, 1978, 1978, 1978, 1980, 1983, 1983, 1984, 1986, 1987, 1987, 1988, 1991, 1993, 1994, 1995, 1996, 1997, 1997, 1999, 2000, 2000, 2001, 2001, 2002, 2003, 2004, 2004, 2004, 2005, 2005, 2009, 2013, 2013, 2013, 1962, 1974, 1995, 2004, 2004, 2006, 2007, 2007, 2011, 2012, 2012, 2013, 1955, 1966, 1978, 1987, 1997, 1997, 1999, 2003, 2006, 2007, 2010, 2011, 1978, 1987, 1992, 1994, 1998, 2000, 2002, 2002, 2006, 2006, 2007, 2008, 2010, 2013, 1975, 1975, 1989, 1996, 2000, 2003, 2004, 2007, 2007, 2009, 2011, 2011, 2013, 1974, 1975, 1976, 1978, 1978, 1979, 1986, 1991, 1993, 1994, 1995, 1996, 1998, 1999, 2000, 2000, 2001, 2002, 2004, 2004, 2005, 2005, 2005, 2008, 2011, 2002, 2003, 2007, 2008, 2008, 2008, 2012, 2012, 1986, 1997, 1997, 2002, 2003, 2003, 2012, 2012, 2012, 2013, 1964, 1978, 2002, 2003, 2004, 2008, 2012, 1974, 1999, 1999, 2003, 2007, 2010, 2011, 1992, 2002, 2002, 2003, 2003, 2003, 2007, 2010, 2012, 2012, 2013, 1949, 1967, 1974, 1979, 1995, 1998, 2000, 2001, 2002, 2003, 2004, 2005, 2008, 2010, 2011, 2011, 1970, 2000, 2005, 2005, 2005, 2006, 2007, 2007, 2008, 2011, 2001, 2001, 2003, 2008, 2009, 2010, 2010, 2010, 2012, 2013, 2013, 1974, 1997, 2001, 2002, 2009, 2010, 2011, 2012, 2012, 1966, 1992, 2004, 2005, 2012, 1981, 2000, 2002, 2004, 2005, 2008, 2010, 2012, 2013, 1957, 1999, 2000, 2000, 2000, 2003, 2004, 2008, 2011, 2012, 2013, 1975, 2002, 2002, 2003, 2005, 2005, 2005, 2006, 2006, 2006, 2008, 2010, 1961, 1969, 2004, 2006, 2006, 2008, 2009, 2009, 2010, 1966, 1999, 2006, 2006, 2008, 2009, 2010, 2011, 1978, 1995, 1999, 1999, 2000, 2001, 2001, 2001, 2002, 2004, 2007, 2008, 2008, 2012, 2012, 1945, 1958, 1965, 1968, 1974, 1999, 2002, 2003, 2006, 2006, 2008, 2008, 2008, 2009, 2012, 2013, 1957, 1961, 1971, 2001, 2003, 2004, 2004, 2006, 2008, 2008, 2013, 1957, 1968, 1975, 1976, 1989, 2001, 2003, 2004, 2004, 2005, 2005, 2009, 2010, 2011, 2012, 1999, 1999, 2001, 2004, 2007, 2009, 2010, 1954, 1958, 1967, 1970, 1972, 1972, 1974, 1974, 1975, 1976, 1977, 1977, 1978, 1979, 1979, 1980, 1981, 1983, 1987, 1988, 1989, 1996, 1997, 1998, 2001, 2001, 2001, 2002, 2003, 2005, 2011, 2012, 2012, 2013, 2013, 2013, 1996, 1998, 2001, 2003, 2006, 2008, 2008, 2012, 2012, 1974, 2001, 2004, 2005, 2006, 2007, 2007, 2007, 2012, 2013, 1974, 1981, 1985, 1996, 1996, 1996, 2008, 2008, 2013, 1934, 1949, 1952, 1957, 1957, 1959, 1960, 1964, 1964, 1964, 1964, 1967, 1967, 1971, 1971, 1972, 1973, 1974, 1975, 1975, 1977, 1977, 1978, 1980, 1982, 1990, 1993, 1994, 1994, 1994, 1995, 1995, 1997, 1997, 1999, 2000, 2000, 2000, 2000, 2000, 2002, 2002, 2002, 2002, 2003, 2004, 2005, 2005, 2007, 2007, 2008, 2011, 2011, 2012, 2012, 1987, 1997, 1999, 2002, 2004, 2004, 2006, 2009, 2011, 2012, 1994, 1998, 1999, 2004, 2005, 2005, 2006, 2007, 2007, 2010, 2011, 2011, 2012, 2000, 2002, 2002, 2002, 2004, 2004, 2004, 2008, 2009, 2012, 2012, 1998, 1999, 1999, 2001, 2002, 2005, 2005, 2008, 2009, 2009, 2009, 2011, 2012, 2012, 2012, 2013, 1971, 1972, 1980, 1982, 1985, 1996, 1998, 2002, 2003, 2003, 2004, 2005, 2005, 2007, 2007, 2008, 2009, 1999, 1999, 2000, 2001, 2001, 2003, 2004, 2005, 2005, 2005, 2005, 2005, 2007, 2012, 2013, 2013, 1976, 1998, 2000, 2000, 2006, 2007, 2007, 2010, 2010, 2011, 2011, 2011, 2012, 1973, 1973, 1995, 2000, 2000, 2005, 2005, 2006, 2006, 2007, 2007, 2008, 2008, 2010, 2011, 2013, 1997, 1998, 1998, 2004, 2009, 2010, 2011, 2013, 2013, 2013, 1995, 1997, 1998, 2003, 2004, 2007, 2009, 2010, 2011, 2012, 2013, 2013, 2013, 1992, 1998, 1999, 2002, 2003, 2008, 2010, 2011, 2012, 2012, 1979, 2006, 2007, 2009, 2010, 2010, 2013, 1989, 1994, 1997, 2000, 2000, 2006, 2009, 2009, 2013, 2013, 1978, 1999, 1999, 2000, 2000, 2002, 2003, 2004, 2005, 2012, 1979, 1981, 2003, 2007, 2012, 2013, 2013, 1968, 1968, 1968, 1992, 1995, 1999, 2001, 2001, 2002, 2003, 2004, 2005, 2005, 2006, 2006, 2009, 2009, 2010, 1974, 1992, 1993, 2003, 2003, 2005, 2006, 1981, 1983, 2007, 2007, 2009, 2010, 2011, 2012, 1957, 1964, 1967, 1976, 1980, 1995, 1999, 1999, 2002, 2002, 2004, 2005, 2012, 2013, 2013, 2013, 1966, 1967, 1998, 2001, 2003, 2004, 2005, 2009, 2010, 2010, 2012, 2013, 1970, 1982, 2003, 2004, 2005, 2011, 2013, 2013, 2002, 2002, 2002, 2002, 2002, 2003, 2004, 2005, 1954, 1975, 1996, 1999, 2000, 2001, 2004, 2010, 2012], \"xaxis\": \"x\", \"yaxis\": \"y\"}],                        {\"barmode\": \"relative\", \"legend\": {\"tracegroupgap\": 0}, \"template\": {\"data\": {\"bar\": [{\"error_x\": {\"color\": \"#2a3f5f\"}, \"error_y\": {\"color\": \"#2a3f5f\"}, \"marker\": {\"line\": {\"color\": \"#E5ECF6\", \"width\": 0.5}}, \"type\": \"bar\"}], \"barpolar\": [{\"marker\": {\"line\": {\"color\": \"#E5ECF6\", \"width\": 0.5}}, \"type\": \"barpolar\"}], \"carpet\": [{\"aaxis\": {\"endlinecolor\": \"#2a3f5f\", \"gridcolor\": \"white\", \"linecolor\": \"white\", \"minorgridcolor\": \"white\", \"startlinecolor\": \"#2a3f5f\"}, \"baxis\": {\"endlinecolor\": \"#2a3f5f\", \"gridcolor\": \"white\", \"linecolor\": \"white\", \"minorgridcolor\": \"white\", \"startlinecolor\": \"#2a3f5f\"}, \"type\": \"carpet\"}], \"choropleth\": [{\"colorbar\": {\"outlinewidth\": 0, \"ticks\": \"\"}, \"type\": \"choropleth\"}], \"contour\": [{\"colorbar\": {\"outlinewidth\": 0, \"ticks\": \"\"}, \"colorscale\": [[0.0, \"#0d0887\"], [0.1111111111111111, \"#46039f\"], [0.2222222222222222, \"#7201a8\"], [0.3333333333333333, \"#9c179e\"], [0.4444444444444444, \"#bd3786\"], [0.5555555555555556, \"#d8576b\"], [0.6666666666666666, \"#ed7953\"], [0.7777777777777778, \"#fb9f3a\"], [0.8888888888888888, \"#fdca26\"], [1.0, \"#f0f921\"]], \"type\": \"contour\"}], \"contourcarpet\": [{\"colorbar\": {\"outlinewidth\": 0, \"ticks\": \"\"}, \"type\": \"contourcarpet\"}], \"heatmap\": [{\"colorbar\": {\"outlinewidth\": 0, \"ticks\": \"\"}, \"colorscale\": [[0.0, \"#0d0887\"], [0.1111111111111111, \"#46039f\"], [0.2222222222222222, \"#7201a8\"], [0.3333333333333333, \"#9c179e\"], [0.4444444444444444, \"#bd3786\"], [0.5555555555555556, \"#d8576b\"], [0.6666666666666666, \"#ed7953\"], [0.7777777777777778, \"#fb9f3a\"], [0.8888888888888888, \"#fdca26\"], [1.0, \"#f0f921\"]], \"type\": \"heatmap\"}], \"heatmapgl\": [{\"colorbar\": {\"outlinewidth\": 0, \"ticks\": \"\"}, \"colorscale\": [[0.0, \"#0d0887\"], [0.1111111111111111, \"#46039f\"], [0.2222222222222222, \"#7201a8\"], [0.3333333333333333, \"#9c179e\"], [0.4444444444444444, \"#bd3786\"], [0.5555555555555556, \"#d8576b\"], [0.6666666666666666, \"#ed7953\"], [0.7777777777777778, \"#fb9f3a\"], [0.8888888888888888, \"#fdca26\"], [1.0, \"#f0f921\"]], \"type\": \"heatmapgl\"}], \"histogram\": [{\"marker\": {\"colorbar\": {\"outlinewidth\": 0, \"ticks\": \"\"}}, \"type\": \"histogram\"}], \"histogram2d\": [{\"colorbar\": {\"outlinewidth\": 0, \"ticks\": \"\"}, \"colorscale\": [[0.0, \"#0d0887\"], [0.1111111111111111, \"#46039f\"], [0.2222222222222222, \"#7201a8\"], [0.3333333333333333, \"#9c179e\"], [0.4444444444444444, \"#bd3786\"], [0.5555555555555556, \"#d8576b\"], [0.6666666666666666, \"#ed7953\"], [0.7777777777777778, \"#fb9f3a\"], [0.8888888888888888, \"#fdca26\"], [1.0, \"#f0f921\"]], \"type\": \"histogram2d\"}], \"histogram2dcontour\": [{\"colorbar\": {\"outlinewidth\": 0, \"ticks\": \"\"}, \"colorscale\": [[0.0, \"#0d0887\"], [0.1111111111111111, \"#46039f\"], [0.2222222222222222, \"#7201a8\"], [0.3333333333333333, \"#9c179e\"], [0.4444444444444444, \"#bd3786\"], [0.5555555555555556, \"#d8576b\"], [0.6666666666666666, \"#ed7953\"], [0.7777777777777778, \"#fb9f3a\"], [0.8888888888888888, \"#fdca26\"], [1.0, \"#f0f921\"]], \"type\": \"histogram2dcontour\"}], \"mesh3d\": [{\"colorbar\": {\"outlinewidth\": 0, \"ticks\": \"\"}, \"type\": \"mesh3d\"}], \"parcoords\": [{\"line\": {\"colorbar\": {\"outlinewidth\": 0, \"ticks\": \"\"}}, \"type\": \"parcoords\"}], \"pie\": [{\"automargin\": true, \"type\": \"pie\"}], \"scatter\": [{\"marker\": {\"colorbar\": {\"outlinewidth\": 0, \"ticks\": \"\"}}, \"type\": \"scatter\"}], \"scatter3d\": [{\"line\": {\"colorbar\": {\"outlinewidth\": 0, \"ticks\": \"\"}}, \"marker\": {\"colorbar\": {\"outlinewidth\": 0, \"ticks\": \"\"}}, \"type\": \"scatter3d\"}], \"scattercarpet\": [{\"marker\": {\"colorbar\": {\"outlinewidth\": 0, \"ticks\": \"\"}}, \"type\": \"scattercarpet\"}], \"scattergeo\": [{\"marker\": {\"colorbar\": {\"outlinewidth\": 0, \"ticks\": \"\"}}, \"type\": \"scattergeo\"}], \"scattergl\": [{\"marker\": {\"colorbar\": {\"outlinewidth\": 0, \"ticks\": \"\"}}, \"type\": \"scattergl\"}], \"scattermapbox\": [{\"marker\": {\"colorbar\": {\"outlinewidth\": 0, \"ticks\": \"\"}}, \"type\": \"scattermapbox\"}], \"scatterpolar\": [{\"marker\": {\"colorbar\": {\"outlinewidth\": 0, \"ticks\": \"\"}}, \"type\": \"scatterpolar\"}], \"scatterpolargl\": [{\"marker\": {\"colorbar\": {\"outlinewidth\": 0, \"ticks\": \"\"}}, \"type\": \"scatterpolargl\"}], \"scatterternary\": [{\"marker\": {\"colorbar\": {\"outlinewidth\": 0, \"ticks\": \"\"}}, \"type\": \"scatterternary\"}], \"surface\": [{\"colorbar\": {\"outlinewidth\": 0, \"ticks\": \"\"}, \"colorscale\": [[0.0, \"#0d0887\"], [0.1111111111111111, \"#46039f\"], [0.2222222222222222, \"#7201a8\"], [0.3333333333333333, \"#9c179e\"], [0.4444444444444444, \"#bd3786\"], [0.5555555555555556, \"#d8576b\"], [0.6666666666666666, \"#ed7953\"], [0.7777777777777778, \"#fb9f3a\"], [0.8888888888888888, \"#fdca26\"], [1.0, \"#f0f921\"]], \"type\": \"surface\"}], \"table\": [{\"cells\": {\"fill\": {\"color\": \"#EBF0F8\"}, \"line\": {\"color\": \"white\"}}, \"header\": {\"fill\": {\"color\": \"#C8D4E3\"}, \"line\": {\"color\": \"white\"}}, \"type\": \"table\"}]}, \"layout\": {\"annotationdefaults\": {\"arrowcolor\": \"#2a3f5f\", \"arrowhead\": 0, \"arrowwidth\": 1}, \"autotypenumbers\": \"strict\", \"coloraxis\": {\"colorbar\": {\"outlinewidth\": 0, \"ticks\": \"\"}}, \"colorscale\": {\"diverging\": [[0, \"#8e0152\"], [0.1, \"#c51b7d\"], [0.2, \"#de77ae\"], [0.3, \"#f1b6da\"], [0.4, \"#fde0ef\"], [0.5, \"#f7f7f7\"], [0.6, \"#e6f5d0\"], [0.7, \"#b8e186\"], [0.8, \"#7fbc41\"], [0.9, \"#4d9221\"], [1, \"#276419\"]], \"sequential\": [[0.0, \"#0d0887\"], [0.1111111111111111, \"#46039f\"], [0.2222222222222222, \"#7201a8\"], [0.3333333333333333, \"#9c179e\"], [0.4444444444444444, \"#bd3786\"], [0.5555555555555556, \"#d8576b\"], [0.6666666666666666, \"#ed7953\"], [0.7777777777777778, \"#fb9f3a\"], [0.8888888888888888, \"#fdca26\"], [1.0, \"#f0f921\"]], \"sequentialminus\": [[0.0, \"#0d0887\"], [0.1111111111111111, \"#46039f\"], [0.2222222222222222, \"#7201a8\"], [0.3333333333333333, \"#9c179e\"], [0.4444444444444444, \"#bd3786\"], [0.5555555555555556, \"#d8576b\"], [0.6666666666666666, \"#ed7953\"], [0.7777777777777778, \"#fb9f3a\"], [0.8888888888888888, \"#fdca26\"], [1.0, \"#f0f921\"]]}, \"colorway\": [\"#636efa\", \"#EF553B\", \"#00cc96\", \"#ab63fa\", \"#FFA15A\", \"#19d3f3\", \"#FF6692\", \"#B6E880\", \"#FF97FF\", \"#FECB52\"], \"font\": {\"color\": \"#2a3f5f\"}, \"geo\": {\"bgcolor\": \"white\", \"lakecolor\": \"white\", \"landcolor\": \"#E5ECF6\", \"showlakes\": true, \"showland\": true, \"subunitcolor\": \"white\"}, \"hoverlabel\": {\"align\": \"left\"}, \"hovermode\": \"closest\", \"mapbox\": {\"style\": \"light\"}, \"paper_bgcolor\": \"white\", \"plot_bgcolor\": \"#E5ECF6\", \"polar\": {\"angularaxis\": {\"gridcolor\": \"white\", \"linecolor\": \"white\", \"ticks\": \"\"}, \"bgcolor\": \"#E5ECF6\", \"radialaxis\": {\"gridcolor\": \"white\", \"linecolor\": \"white\", \"ticks\": \"\"}}, \"scene\": {\"xaxis\": {\"backgroundcolor\": \"#E5ECF6\", \"gridcolor\": \"white\", \"gridwidth\": 2, \"linecolor\": \"white\", \"showbackground\": true, \"ticks\": \"\", \"zerolinecolor\": \"white\"}, \"yaxis\": {\"backgroundcolor\": \"#E5ECF6\", \"gridcolor\": \"white\", \"gridwidth\": 2, \"linecolor\": \"white\", \"showbackground\": true, \"ticks\": \"\", \"zerolinecolor\": \"white\"}, \"zaxis\": {\"backgroundcolor\": \"#E5ECF6\", \"gridcolor\": \"white\", \"gridwidth\": 2, \"linecolor\": \"white\", \"showbackground\": true, \"ticks\": \"\", \"zerolinecolor\": \"white\"}}, \"shapedefaults\": {\"line\": {\"color\": \"#2a3f5f\"}}, \"ternary\": {\"aaxis\": {\"gridcolor\": \"white\", \"linecolor\": \"white\", \"ticks\": \"\"}, \"baxis\": {\"gridcolor\": \"white\", \"linecolor\": \"white\", \"ticks\": \"\"}, \"bgcolor\": \"#E5ECF6\", \"caxis\": {\"gridcolor\": \"white\", \"linecolor\": \"white\", \"ticks\": \"\"}}, \"title\": {\"x\": 0.05}, \"xaxis\": {\"automargin\": true, \"gridcolor\": \"white\", \"linecolor\": \"white\", \"ticks\": \"\", \"title\": {\"standoff\": 15}, \"zerolinecolor\": \"white\", \"zerolinewidth\": 2}, \"yaxis\": {\"automargin\": true, \"gridcolor\": \"white\", \"linecolor\": \"white\", \"ticks\": \"\", \"title\": {\"standoff\": 15}, \"zerolinecolor\": \"white\", \"zerolinewidth\": 2}}}, \"title\": {\"text\": \"Sightings by year of disk shapes seen in the country us\"}, \"xaxis\": {\"anchor\": \"y\", \"domain\": [0.0, 1.0], \"title\": {\"text\": \"x\"}}, \"yaxis\": {\"anchor\": \"x\", \"domain\": [0.0, 1.0], \"title\": {\"text\": \"count\"}}},                        {\"responsive\": true}                    ).then(function(){\n",
       "                            \n",
       "var gd = document.getElementById('c79fefb7-dbaf-4667-a76c-2baa7664e6d5');\n",
       "var x = new MutationObserver(function (mutations, observer) {{\n",
       "        var display = window.getComputedStyle(gd).display;\n",
       "        if (!display || display === 'none') {{\n",
       "            console.log([gd, 'removed!']);\n",
       "            Plotly.purge(gd);\n",
       "            observer.disconnect();\n",
       "        }}\n",
       "}});\n",
       "\n",
       "// Listen for the removal of the full notebook cells\n",
       "var notebookContainer = gd.closest('#notebook-container');\n",
       "if (notebookContainer) {{\n",
       "    x.observe(notebookContainer, {childList: true});\n",
       "}}\n",
       "\n",
       "// Listen for the clearing of the current output cell\n",
       "var outputEl = gd.closest('.output');\n",
       "if (outputEl) {{\n",
       "    x.observe(outputEl, {childList: true});\n",
       "}}\n",
       "\n",
       "                        })                };                });            </script>        </div>"
      ]
     },
     "metadata": {},
     "output_type": "display_data"
    },
    {
     "data": {
      "application/vnd.plotly.v1+json": {
       "config": {
        "plotlyServerURL": "https://plot.ly"
       },
       "data": [
        {
         "alignmentgroup": "True",
         "bingroup": "x",
         "hovertemplate": "x=%{x}<br>count=%{y}<extra></extra>",
         "legendgroup": "",
         "marker": {
          "color": "#636efa"
         },
         "name": "",
         "offsetgroup": "",
         "orientation": "v",
         "showlegend": false,
         "type": "histogram",
         "x": [
          1949,
          1996,
          1998,
          2010,
          2012,
          2002,
          2007,
          1973,
          1978,
          2004,
          2005,
          2006,
          2008,
          2008,
          2009,
          2012,
          2012,
          1994,
          2000,
          2000,
          2002,
          2005,
          2005,
          2006,
          2007,
          2010,
          2010,
          2012,
          2010,
          2011,
          2012,
          2013,
          1986,
          1997,
          1998,
          2001,
          2005,
          2009,
          2012,
          1965,
          2011,
          2012,
          2012,
          2012,
          2012,
          2012,
          2012,
          2013,
          2005,
          2011,
          2013,
          2008,
          1989,
          1999,
          2012,
          1999,
          2000,
          2012,
          2012,
          2008,
          2009,
          1997,
          1999,
          1999,
          2000,
          2006,
          2007,
          2011,
          2011,
          2004,
          2009,
          2013,
          2007,
          2007,
          2011,
          1999,
          1999,
          2001,
          2008,
          1990,
          1972,
          2007,
          2005,
          2007,
          2008,
          2010,
          1999,
          2005,
          2008,
          2012,
          2012,
          2013,
          2013,
          1977,
          2006,
          2013,
          2012,
          2013,
          2001,
          2006,
          2008,
          2003,
          2008,
          2008,
          2009,
          2010,
          1983,
          2002,
          2007,
          2011,
          2011,
          1957,
          2005,
          2005,
          2012,
          1997,
          2000,
          2005,
          2007,
          2011,
          2012,
          1987,
          1988,
          1996,
          1998,
          1999,
          1999,
          2001,
          2001,
          2003,
          2004,
          2010,
          2004,
          2004,
          2005,
          2011,
          2012,
          2013,
          1998,
          2010,
          2004,
          1999,
          2002,
          2006,
          2009,
          2001,
          2001,
          2001,
          2004,
          2010,
          2013,
          1999,
          2002,
          2006,
          2013,
          1977,
          1999,
          2011,
          2011,
          2012,
          2012,
          2012,
          2013,
          2013,
          2010,
          2011,
          2013,
          2014,
          2006,
          2013,
          2010,
          2012,
          2002,
          2006,
          2002,
          2002,
          2008,
          2002,
          2005,
          2013,
          2002,
          2013,
          2002,
          2007,
          2007,
          2013,
          2003,
          2003,
          2003,
          2006,
          2007,
          2008,
          2008,
          1970,
          1985,
          2002,
          2004,
          2004,
          2005,
          2005,
          2013,
          2013,
          1998,
          2003,
          2003,
          2007,
          2000,
          2003,
          2004,
          2009,
          2014,
          2000,
          2002,
          2008,
          2012,
          1984,
          2002,
          2006,
          2006,
          2012,
          2013,
          2014,
          2007,
          2007,
          2008,
          2010,
          2009,
          2011,
          2013,
          2001,
          2001,
          2003,
          2004,
          2004,
          2004,
          2007,
          2007,
          2011,
          2012,
          2003,
          2005,
          2009,
          2002,
          2007,
          2010,
          2013,
          1999,
          1999,
          2006,
          2013,
          2006,
          2008,
          2013,
          2005,
          2013,
          1996,
          2001,
          2006,
          2012,
          2012,
          2013,
          2003,
          2010,
          2013,
          1970,
          1998,
          2013,
          2013,
          2013,
          2011,
          2012,
          2013,
          2004,
          2010,
          2011,
          2013,
          2008,
          2010,
          1980,
          2000,
          2006,
          1998,
          2009,
          2002,
          2003,
          2005,
          2008,
          1998,
          2002,
          2008,
          2004,
          2012,
          2000,
          2006,
          2006,
          2008,
          2000,
          2008,
          2001,
          2007,
          2007,
          2010,
          2008,
          2009,
          2014,
          2002,
          2007,
          2009,
          2013,
          2007,
          2000,
          2007,
          2007,
          2014,
          2005,
          2014,
          2003,
          2004,
          2012,
          2003,
          2008,
          2010,
          1998,
          2003,
          2006,
          2011,
          2002,
          2009,
          2014,
          2009,
          1999,
          2003,
          2005,
          2001,
          2007,
          2014,
          2003,
          1999,
          2010,
          2014,
          2013,
          2000,
          2004,
          2009,
          2000,
          2008,
          2004,
          2000,
          2000,
          2000,
          2002,
          2009,
          2005,
          2008,
          2011,
          2011,
          2010,
          2006,
          2001,
          2002,
          2012,
          2013,
          2007,
          2001,
          2014,
          2004,
          2006,
          2008,
          2012,
          1988,
          2006,
          2007,
          2014,
          1996,
          2002,
          2006,
          2001,
          2009,
          2005,
          2012,
          2014,
          1970,
          1998,
          2003,
          2008,
          2000,
          2010,
          2013,
          1963,
          1988,
          1994,
          1998,
          2002,
          2006,
          2011,
          2013,
          1999,
          2001,
          2012,
          2002,
          2002,
          2008,
          2012,
          2014,
          1972,
          1995,
          2007,
          2013,
          2000,
          2010,
          2001,
          2005,
          2012,
          2001,
          2007,
          1973,
          1999,
          2008,
          1981,
          2007,
          2014,
          2005,
          2010,
          2009,
          2013,
          2013,
          1964,
          2002,
          2008,
          2007,
          2007,
          2013,
          2008,
          2010,
          2005,
          2008,
          2009,
          1998,
          2004,
          2004,
          2007,
          2008,
          2005,
          2010,
          2013,
          1996,
          2003,
          2005,
          1978,
          2003,
          2009,
          2012,
          2003,
          2010,
          2011,
          2013,
          2014,
          2014,
          1996,
          1998,
          2004,
          2004,
          2004,
          2006,
          2013,
          2014,
          2014,
          2014,
          2000,
          2002,
          2004,
          2008,
          2009,
          2009,
          2000,
          2012,
          2014,
          2000,
          2000,
          2003,
          2008,
          2012,
          2014,
          2006,
          2012,
          1967,
          1969,
          2000,
          2009,
          2007,
          2009,
          2011,
          2008,
          2004,
          2004,
          1999,
          2001,
          2013,
          1959,
          2002,
          2003,
          2008,
          2008,
          1985,
          2007,
          2003,
          2004,
          2004,
          2007,
          2012,
          2014,
          1968,
          2000,
          2014,
          2014,
          2014,
          2006,
          2008,
          1997,
          2011,
          2014,
          2003,
          2004,
          2013,
          2004,
          2009,
          2009,
          2005,
          2005,
          2012,
          2013,
          2001,
          2003,
          2007,
          2009,
          1980,
          1983,
          2001,
          2003,
          1999,
          2003,
          2003,
          2009,
          2008,
          1999,
          2001,
          2004,
          2008,
          1998,
          2009,
          2004,
          2007,
          1996,
          2006,
          2001,
          1999,
          2001,
          2002,
          2003,
          1999,
          2004,
          2004,
          2003,
          2005,
          2010,
          2011,
          1998,
          2013,
          2003,
          2010,
          2012,
          2012,
          1999,
          2001,
          2007,
          2008,
          2012,
          2013,
          1999,
          2010,
          2001,
          2012,
          2013,
          2012,
          2005,
          2014,
          2011,
          2004,
          2013,
          2000,
          2004,
          2006,
          1997,
          1954,
          1956,
          1959,
          1965,
          1965,
          1972,
          1974,
          1976,
          1977,
          1984,
          1993,
          1996,
          1999,
          2002,
          2012,
          1999,
          2011,
          2012,
          1992,
          2012,
          2012,
          1937,
          1957,
          1968,
          1969,
          1981,
          1991,
          1994,
          1997,
          2005,
          2013,
          2010,
          1999,
          2007,
          1985,
          2002,
          2004,
          2011,
          2013,
          1985,
          2002,
          1997,
          1998,
          2005,
          2009,
          2011,
          2013,
          2005,
          2013,
          1993,
          1998,
          2010,
          2005,
          1999,
          2000,
          2006,
          2007,
          1993,
          2013,
          2004,
          2006,
          2012,
          2012,
          2012,
          2013,
          2001,
          2009,
          2012,
          1992,
          1999,
          2009,
          2013,
          2008,
          2013,
          1958,
          1978,
          1990,
          1997,
          1998,
          1998,
          2000,
          2008,
          2010,
          2012,
          2006,
          1993,
          2006,
          2005,
          2006,
          2012,
          2013,
          2009,
          2013,
          1997,
          1997,
          2003,
          2012,
          2012,
          2000,
          2001,
          2010,
          2010,
          1979,
          1997,
          2001,
          2003,
          1976,
          1982,
          1987,
          1999,
          2010,
          2000,
          2004,
          2007,
          2012,
          1980,
          2005,
          2008,
          2008,
          2010,
          2011,
          2013,
          1947,
          1947,
          1953,
          1962,
          1972,
          1976,
          2000,
          2001,
          2002,
          2003,
          2003,
          2003,
          2004,
          2005,
          2009,
          2009,
          1980,
          2003,
          2011,
          2002,
          2003,
          2006,
          2010,
          2013,
          2001,
          2005,
          2008,
          2010,
          2011,
          2005,
          2011,
          2007,
          2009,
          2009,
          2011,
          2003,
          2007,
          1982,
          2007,
          1997,
          2007,
          2010,
          1970,
          1989,
          1998,
          2001,
          2004,
          1976,
          2005,
          2008,
          2012,
          2007,
          2012,
          1979,
          2002,
          2008,
          2011,
          2002,
          1997,
          2002,
          2003,
          2004,
          2008,
          2011,
          2011,
          2011,
          2013,
          1995,
          1997,
          2004,
          2006,
          2006,
          2006,
          2007,
          2009,
          2010,
          2010,
          2010,
          2012,
          2012,
          2013,
          2013,
          2013,
          2013,
          2003,
          2000,
          2000,
          2003,
          2013,
          1962,
          1993,
          2004,
          2005,
          2010,
          2011,
          1984,
          2012,
          2009,
          2010,
          1989,
          1999,
          2002,
          2005,
          2006,
          2008,
          2012,
          1960,
          1970,
          1973,
          1974,
          1975,
          2001,
          2002,
          2003,
          2013,
          2013,
          2002,
          2008,
          2011,
          2011,
          1969,
          1975,
          1981,
          1999,
          2003,
          2004,
          2010,
          2012,
          2013,
          2013,
          2013,
          2002,
          2003,
          2007,
          2009,
          2011,
          2011,
          2011,
          2002,
          2006,
          2011,
          2003,
          2011,
          2012,
          2012,
          2006,
          2006,
          2012,
          2013,
          1965,
          1965,
          1975,
          2000,
          2000,
          2004,
          2007,
          2012,
          2000,
          2010,
          2011,
          2011,
          2013,
          1972,
          2011,
          2013,
          2008,
          2012,
          2012,
          2008,
          2009,
          2011,
          2013,
          2013,
          2004,
          2005,
          2006,
          2004,
          2012,
          2013,
          1982,
          2005,
          2005,
          2008,
          2008,
          2012,
          2008,
          2009,
          2010,
          2011,
          2013,
          2003,
          2005,
          2005,
          1991,
          2004,
          1978,
          1997,
          2000,
          2003,
          2008,
          2013,
          2013,
          2001,
          2001,
          2006,
          2012,
          2001,
          2002,
          2004,
          2005,
          2009,
          2003,
          2003,
          2005,
          2013,
          2008,
          1989,
          2002,
          2009,
          2013,
          2013,
          2007,
          1987,
          2007,
          2008,
          2011,
          2012,
          2013,
          2000,
          2005,
          2005,
          2011,
          1988,
          2009,
          1999,
          1999,
          2000,
          2003,
          2003,
          2010,
          2012,
          1998,
          2003,
          1979,
          2005,
          2006,
          1986,
          2002,
          2013,
          2002,
          2003,
          2007,
          2008,
          2009,
          1995,
          2003,
          2005,
          2007,
          2009,
          2012,
          2012,
          2008,
          2011,
          2013,
          2013,
          1999,
          2005,
          2013,
          1998,
          2000,
          2012,
          2009,
          2000,
          2008,
          2011,
          2011,
          1998,
          2010,
          2003,
          2004,
          2011,
          2012,
          2003,
          2013,
          2013,
          2011,
          2013,
          1999,
          2006,
          2011,
          2012,
          1998,
          1999,
          2004,
          2006,
          2010,
          2013,
          1965,
          1995,
          2002,
          2007,
          2013,
          1999,
          2006,
          2006,
          2012,
          2000,
          2007,
          2012,
          1998,
          2006,
          2011
         ],
         "xaxis": "x",
         "yaxis": "y"
        }
       ],
       "layout": {
        "barmode": "relative",
        "legend": {
         "tracegroupgap": 0
        },
        "template": {
         "data": {
          "bar": [
           {
            "error_x": {
             "color": "#2a3f5f"
            },
            "error_y": {
             "color": "#2a3f5f"
            },
            "marker": {
             "line": {
              "color": "#E5ECF6",
              "width": 0.5
             }
            },
            "type": "bar"
           }
          ],
          "barpolar": [
           {
            "marker": {
             "line": {
              "color": "#E5ECF6",
              "width": 0.5
             }
            },
            "type": "barpolar"
           }
          ],
          "carpet": [
           {
            "aaxis": {
             "endlinecolor": "#2a3f5f",
             "gridcolor": "white",
             "linecolor": "white",
             "minorgridcolor": "white",
             "startlinecolor": "#2a3f5f"
            },
            "baxis": {
             "endlinecolor": "#2a3f5f",
             "gridcolor": "white",
             "linecolor": "white",
             "minorgridcolor": "white",
             "startlinecolor": "#2a3f5f"
            },
            "type": "carpet"
           }
          ],
          "choropleth": [
           {
            "colorbar": {
             "outlinewidth": 0,
             "ticks": ""
            },
            "type": "choropleth"
           }
          ],
          "contour": [
           {
            "colorbar": {
             "outlinewidth": 0,
             "ticks": ""
            },
            "colorscale": [
             [
              0,
              "#0d0887"
             ],
             [
              0.1111111111111111,
              "#46039f"
             ],
             [
              0.2222222222222222,
              "#7201a8"
             ],
             [
              0.3333333333333333,
              "#9c179e"
             ],
             [
              0.4444444444444444,
              "#bd3786"
             ],
             [
              0.5555555555555556,
              "#d8576b"
             ],
             [
              0.6666666666666666,
              "#ed7953"
             ],
             [
              0.7777777777777778,
              "#fb9f3a"
             ],
             [
              0.8888888888888888,
              "#fdca26"
             ],
             [
              1,
              "#f0f921"
             ]
            ],
            "type": "contour"
           }
          ],
          "contourcarpet": [
           {
            "colorbar": {
             "outlinewidth": 0,
             "ticks": ""
            },
            "type": "contourcarpet"
           }
          ],
          "heatmap": [
           {
            "colorbar": {
             "outlinewidth": 0,
             "ticks": ""
            },
            "colorscale": [
             [
              0,
              "#0d0887"
             ],
             [
              0.1111111111111111,
              "#46039f"
             ],
             [
              0.2222222222222222,
              "#7201a8"
             ],
             [
              0.3333333333333333,
              "#9c179e"
             ],
             [
              0.4444444444444444,
              "#bd3786"
             ],
             [
              0.5555555555555556,
              "#d8576b"
             ],
             [
              0.6666666666666666,
              "#ed7953"
             ],
             [
              0.7777777777777778,
              "#fb9f3a"
             ],
             [
              0.8888888888888888,
              "#fdca26"
             ],
             [
              1,
              "#f0f921"
             ]
            ],
            "type": "heatmap"
           }
          ],
          "heatmapgl": [
           {
            "colorbar": {
             "outlinewidth": 0,
             "ticks": ""
            },
            "colorscale": [
             [
              0,
              "#0d0887"
             ],
             [
              0.1111111111111111,
              "#46039f"
             ],
             [
              0.2222222222222222,
              "#7201a8"
             ],
             [
              0.3333333333333333,
              "#9c179e"
             ],
             [
              0.4444444444444444,
              "#bd3786"
             ],
             [
              0.5555555555555556,
              "#d8576b"
             ],
             [
              0.6666666666666666,
              "#ed7953"
             ],
             [
              0.7777777777777778,
              "#fb9f3a"
             ],
             [
              0.8888888888888888,
              "#fdca26"
             ],
             [
              1,
              "#f0f921"
             ]
            ],
            "type": "heatmapgl"
           }
          ],
          "histogram": [
           {
            "marker": {
             "colorbar": {
              "outlinewidth": 0,
              "ticks": ""
             }
            },
            "type": "histogram"
           }
          ],
          "histogram2d": [
           {
            "colorbar": {
             "outlinewidth": 0,
             "ticks": ""
            },
            "colorscale": [
             [
              0,
              "#0d0887"
             ],
             [
              0.1111111111111111,
              "#46039f"
             ],
             [
              0.2222222222222222,
              "#7201a8"
             ],
             [
              0.3333333333333333,
              "#9c179e"
             ],
             [
              0.4444444444444444,
              "#bd3786"
             ],
             [
              0.5555555555555556,
              "#d8576b"
             ],
             [
              0.6666666666666666,
              "#ed7953"
             ],
             [
              0.7777777777777778,
              "#fb9f3a"
             ],
             [
              0.8888888888888888,
              "#fdca26"
             ],
             [
              1,
              "#f0f921"
             ]
            ],
            "type": "histogram2d"
           }
          ],
          "histogram2dcontour": [
           {
            "colorbar": {
             "outlinewidth": 0,
             "ticks": ""
            },
            "colorscale": [
             [
              0,
              "#0d0887"
             ],
             [
              0.1111111111111111,
              "#46039f"
             ],
             [
              0.2222222222222222,
              "#7201a8"
             ],
             [
              0.3333333333333333,
              "#9c179e"
             ],
             [
              0.4444444444444444,
              "#bd3786"
             ],
             [
              0.5555555555555556,
              "#d8576b"
             ],
             [
              0.6666666666666666,
              "#ed7953"
             ],
             [
              0.7777777777777778,
              "#fb9f3a"
             ],
             [
              0.8888888888888888,
              "#fdca26"
             ],
             [
              1,
              "#f0f921"
             ]
            ],
            "type": "histogram2dcontour"
           }
          ],
          "mesh3d": [
           {
            "colorbar": {
             "outlinewidth": 0,
             "ticks": ""
            },
            "type": "mesh3d"
           }
          ],
          "parcoords": [
           {
            "line": {
             "colorbar": {
              "outlinewidth": 0,
              "ticks": ""
             }
            },
            "type": "parcoords"
           }
          ],
          "pie": [
           {
            "automargin": true,
            "type": "pie"
           }
          ],
          "scatter": [
           {
            "marker": {
             "colorbar": {
              "outlinewidth": 0,
              "ticks": ""
             }
            },
            "type": "scatter"
           }
          ],
          "scatter3d": [
           {
            "line": {
             "colorbar": {
              "outlinewidth": 0,
              "ticks": ""
             }
            },
            "marker": {
             "colorbar": {
              "outlinewidth": 0,
              "ticks": ""
             }
            },
            "type": "scatter3d"
           }
          ],
          "scattercarpet": [
           {
            "marker": {
             "colorbar": {
              "outlinewidth": 0,
              "ticks": ""
             }
            },
            "type": "scattercarpet"
           }
          ],
          "scattergeo": [
           {
            "marker": {
             "colorbar": {
              "outlinewidth": 0,
              "ticks": ""
             }
            },
            "type": "scattergeo"
           }
          ],
          "scattergl": [
           {
            "marker": {
             "colorbar": {
              "outlinewidth": 0,
              "ticks": ""
             }
            },
            "type": "scattergl"
           }
          ],
          "scattermapbox": [
           {
            "marker": {
             "colorbar": {
              "outlinewidth": 0,
              "ticks": ""
             }
            },
            "type": "scattermapbox"
           }
          ],
          "scatterpolar": [
           {
            "marker": {
             "colorbar": {
              "outlinewidth": 0,
              "ticks": ""
             }
            },
            "type": "scatterpolar"
           }
          ],
          "scatterpolargl": [
           {
            "marker": {
             "colorbar": {
              "outlinewidth": 0,
              "ticks": ""
             }
            },
            "type": "scatterpolargl"
           }
          ],
          "scatterternary": [
           {
            "marker": {
             "colorbar": {
              "outlinewidth": 0,
              "ticks": ""
             }
            },
            "type": "scatterternary"
           }
          ],
          "surface": [
           {
            "colorbar": {
             "outlinewidth": 0,
             "ticks": ""
            },
            "colorscale": [
             [
              0,
              "#0d0887"
             ],
             [
              0.1111111111111111,
              "#46039f"
             ],
             [
              0.2222222222222222,
              "#7201a8"
             ],
             [
              0.3333333333333333,
              "#9c179e"
             ],
             [
              0.4444444444444444,
              "#bd3786"
             ],
             [
              0.5555555555555556,
              "#d8576b"
             ],
             [
              0.6666666666666666,
              "#ed7953"
             ],
             [
              0.7777777777777778,
              "#fb9f3a"
             ],
             [
              0.8888888888888888,
              "#fdca26"
             ],
             [
              1,
              "#f0f921"
             ]
            ],
            "type": "surface"
           }
          ],
          "table": [
           {
            "cells": {
             "fill": {
              "color": "#EBF0F8"
             },
             "line": {
              "color": "white"
             }
            },
            "header": {
             "fill": {
              "color": "#C8D4E3"
             },
             "line": {
              "color": "white"
             }
            },
            "type": "table"
           }
          ]
         },
         "layout": {
          "annotationdefaults": {
           "arrowcolor": "#2a3f5f",
           "arrowhead": 0,
           "arrowwidth": 1
          },
          "autotypenumbers": "strict",
          "coloraxis": {
           "colorbar": {
            "outlinewidth": 0,
            "ticks": ""
           }
          },
          "colorscale": {
           "diverging": [
            [
             0,
             "#8e0152"
            ],
            [
             0.1,
             "#c51b7d"
            ],
            [
             0.2,
             "#de77ae"
            ],
            [
             0.3,
             "#f1b6da"
            ],
            [
             0.4,
             "#fde0ef"
            ],
            [
             0.5,
             "#f7f7f7"
            ],
            [
             0.6,
             "#e6f5d0"
            ],
            [
             0.7,
             "#b8e186"
            ],
            [
             0.8,
             "#7fbc41"
            ],
            [
             0.9,
             "#4d9221"
            ],
            [
             1,
             "#276419"
            ]
           ],
           "sequential": [
            [
             0,
             "#0d0887"
            ],
            [
             0.1111111111111111,
             "#46039f"
            ],
            [
             0.2222222222222222,
             "#7201a8"
            ],
            [
             0.3333333333333333,
             "#9c179e"
            ],
            [
             0.4444444444444444,
             "#bd3786"
            ],
            [
             0.5555555555555556,
             "#d8576b"
            ],
            [
             0.6666666666666666,
             "#ed7953"
            ],
            [
             0.7777777777777778,
             "#fb9f3a"
            ],
            [
             0.8888888888888888,
             "#fdca26"
            ],
            [
             1,
             "#f0f921"
            ]
           ],
           "sequentialminus": [
            [
             0,
             "#0d0887"
            ],
            [
             0.1111111111111111,
             "#46039f"
            ],
            [
             0.2222222222222222,
             "#7201a8"
            ],
            [
             0.3333333333333333,
             "#9c179e"
            ],
            [
             0.4444444444444444,
             "#bd3786"
            ],
            [
             0.5555555555555556,
             "#d8576b"
            ],
            [
             0.6666666666666666,
             "#ed7953"
            ],
            [
             0.7777777777777778,
             "#fb9f3a"
            ],
            [
             0.8888888888888888,
             "#fdca26"
            ],
            [
             1,
             "#f0f921"
            ]
           ]
          },
          "colorway": [
           "#636efa",
           "#EF553B",
           "#00cc96",
           "#ab63fa",
           "#FFA15A",
           "#19d3f3",
           "#FF6692",
           "#B6E880",
           "#FF97FF",
           "#FECB52"
          ],
          "font": {
           "color": "#2a3f5f"
          },
          "geo": {
           "bgcolor": "white",
           "lakecolor": "white",
           "landcolor": "#E5ECF6",
           "showlakes": true,
           "showland": true,
           "subunitcolor": "white"
          },
          "hoverlabel": {
           "align": "left"
          },
          "hovermode": "closest",
          "mapbox": {
           "style": "light"
          },
          "paper_bgcolor": "white",
          "plot_bgcolor": "#E5ECF6",
          "polar": {
           "angularaxis": {
            "gridcolor": "white",
            "linecolor": "white",
            "ticks": ""
           },
           "bgcolor": "#E5ECF6",
           "radialaxis": {
            "gridcolor": "white",
            "linecolor": "white",
            "ticks": ""
           }
          },
          "scene": {
           "xaxis": {
            "backgroundcolor": "#E5ECF6",
            "gridcolor": "white",
            "gridwidth": 2,
            "linecolor": "white",
            "showbackground": true,
            "ticks": "",
            "zerolinecolor": "white"
           },
           "yaxis": {
            "backgroundcolor": "#E5ECF6",
            "gridcolor": "white",
            "gridwidth": 2,
            "linecolor": "white",
            "showbackground": true,
            "ticks": "",
            "zerolinecolor": "white"
           },
           "zaxis": {
            "backgroundcolor": "#E5ECF6",
            "gridcolor": "white",
            "gridwidth": 2,
            "linecolor": "white",
            "showbackground": true,
            "ticks": "",
            "zerolinecolor": "white"
           }
          },
          "shapedefaults": {
           "line": {
            "color": "#2a3f5f"
           }
          },
          "ternary": {
           "aaxis": {
            "gridcolor": "white",
            "linecolor": "white",
            "ticks": ""
           },
           "baxis": {
            "gridcolor": "white",
            "linecolor": "white",
            "ticks": ""
           },
           "bgcolor": "#E5ECF6",
           "caxis": {
            "gridcolor": "white",
            "linecolor": "white",
            "ticks": ""
           }
          },
          "title": {
           "x": 0.05
          },
          "xaxis": {
           "automargin": true,
           "gridcolor": "white",
           "linecolor": "white",
           "ticks": "",
           "title": {
            "standoff": 15
           },
           "zerolinecolor": "white",
           "zerolinewidth": 2
          },
          "yaxis": {
           "automargin": true,
           "gridcolor": "white",
           "linecolor": "white",
           "ticks": "",
           "title": {
            "standoff": 15
           },
           "zerolinecolor": "white",
           "zerolinewidth": 2
          }
         }
        },
        "title": {
         "text": "Sightings by year of cylinder shapes seen in the country us"
        },
        "xaxis": {
         "anchor": "y",
         "domain": [
          0,
          1
         ],
         "title": {
          "text": "x"
         }
        },
        "yaxis": {
         "anchor": "x",
         "domain": [
          0,
          1
         ],
         "title": {
          "text": "count"
         }
        }
       }
      },
      "text/html": [
       "<div>                            <div id=\"47270add-78e3-4a64-8a2f-860b8b080067\" class=\"plotly-graph-div\" style=\"height:525px; width:100%;\"></div>            <script type=\"text/javascript\">                require([\"plotly\"], function(Plotly) {                    window.PLOTLYENV=window.PLOTLYENV || {};                                    if (document.getElementById(\"47270add-78e3-4a64-8a2f-860b8b080067\")) {                    Plotly.newPlot(                        \"47270add-78e3-4a64-8a2f-860b8b080067\",                        [{\"alignmentgroup\": \"True\", \"bingroup\": \"x\", \"hovertemplate\": \"x=%{x}<br>count=%{y}<extra></extra>\", \"legendgroup\": \"\", \"marker\": {\"color\": \"#636efa\"}, \"name\": \"\", \"offsetgroup\": \"\", \"orientation\": \"v\", \"showlegend\": false, \"type\": \"histogram\", \"x\": [1949, 1996, 1998, 2010, 2012, 2002, 2007, 1973, 1978, 2004, 2005, 2006, 2008, 2008, 2009, 2012, 2012, 1994, 2000, 2000, 2002, 2005, 2005, 2006, 2007, 2010, 2010, 2012, 2010, 2011, 2012, 2013, 1986, 1997, 1998, 2001, 2005, 2009, 2012, 1965, 2011, 2012, 2012, 2012, 2012, 2012, 2012, 2013, 2005, 2011, 2013, 2008, 1989, 1999, 2012, 1999, 2000, 2012, 2012, 2008, 2009, 1997, 1999, 1999, 2000, 2006, 2007, 2011, 2011, 2004, 2009, 2013, 2007, 2007, 2011, 1999, 1999, 2001, 2008, 1990, 1972, 2007, 2005, 2007, 2008, 2010, 1999, 2005, 2008, 2012, 2012, 2013, 2013, 1977, 2006, 2013, 2012, 2013, 2001, 2006, 2008, 2003, 2008, 2008, 2009, 2010, 1983, 2002, 2007, 2011, 2011, 1957, 2005, 2005, 2012, 1997, 2000, 2005, 2007, 2011, 2012, 1987, 1988, 1996, 1998, 1999, 1999, 2001, 2001, 2003, 2004, 2010, 2004, 2004, 2005, 2011, 2012, 2013, 1998, 2010, 2004, 1999, 2002, 2006, 2009, 2001, 2001, 2001, 2004, 2010, 2013, 1999, 2002, 2006, 2013, 1977, 1999, 2011, 2011, 2012, 2012, 2012, 2013, 2013, 2010, 2011, 2013, 2014, 2006, 2013, 2010, 2012, 2002, 2006, 2002, 2002, 2008, 2002, 2005, 2013, 2002, 2013, 2002, 2007, 2007, 2013, 2003, 2003, 2003, 2006, 2007, 2008, 2008, 1970, 1985, 2002, 2004, 2004, 2005, 2005, 2013, 2013, 1998, 2003, 2003, 2007, 2000, 2003, 2004, 2009, 2014, 2000, 2002, 2008, 2012, 1984, 2002, 2006, 2006, 2012, 2013, 2014, 2007, 2007, 2008, 2010, 2009, 2011, 2013, 2001, 2001, 2003, 2004, 2004, 2004, 2007, 2007, 2011, 2012, 2003, 2005, 2009, 2002, 2007, 2010, 2013, 1999, 1999, 2006, 2013, 2006, 2008, 2013, 2005, 2013, 1996, 2001, 2006, 2012, 2012, 2013, 2003, 2010, 2013, 1970, 1998, 2013, 2013, 2013, 2011, 2012, 2013, 2004, 2010, 2011, 2013, 2008, 2010, 1980, 2000, 2006, 1998, 2009, 2002, 2003, 2005, 2008, 1998, 2002, 2008, 2004, 2012, 2000, 2006, 2006, 2008, 2000, 2008, 2001, 2007, 2007, 2010, 2008, 2009, 2014, 2002, 2007, 2009, 2013, 2007, 2000, 2007, 2007, 2014, 2005, 2014, 2003, 2004, 2012, 2003, 2008, 2010, 1998, 2003, 2006, 2011, 2002, 2009, 2014, 2009, 1999, 2003, 2005, 2001, 2007, 2014, 2003, 1999, 2010, 2014, 2013, 2000, 2004, 2009, 2000, 2008, 2004, 2000, 2000, 2000, 2002, 2009, 2005, 2008, 2011, 2011, 2010, 2006, 2001, 2002, 2012, 2013, 2007, 2001, 2014, 2004, 2006, 2008, 2012, 1988, 2006, 2007, 2014, 1996, 2002, 2006, 2001, 2009, 2005, 2012, 2014, 1970, 1998, 2003, 2008, 2000, 2010, 2013, 1963, 1988, 1994, 1998, 2002, 2006, 2011, 2013, 1999, 2001, 2012, 2002, 2002, 2008, 2012, 2014, 1972, 1995, 2007, 2013, 2000, 2010, 2001, 2005, 2012, 2001, 2007, 1973, 1999, 2008, 1981, 2007, 2014, 2005, 2010, 2009, 2013, 2013, 1964, 2002, 2008, 2007, 2007, 2013, 2008, 2010, 2005, 2008, 2009, 1998, 2004, 2004, 2007, 2008, 2005, 2010, 2013, 1996, 2003, 2005, 1978, 2003, 2009, 2012, 2003, 2010, 2011, 2013, 2014, 2014, 1996, 1998, 2004, 2004, 2004, 2006, 2013, 2014, 2014, 2014, 2000, 2002, 2004, 2008, 2009, 2009, 2000, 2012, 2014, 2000, 2000, 2003, 2008, 2012, 2014, 2006, 2012, 1967, 1969, 2000, 2009, 2007, 2009, 2011, 2008, 2004, 2004, 1999, 2001, 2013, 1959, 2002, 2003, 2008, 2008, 1985, 2007, 2003, 2004, 2004, 2007, 2012, 2014, 1968, 2000, 2014, 2014, 2014, 2006, 2008, 1997, 2011, 2014, 2003, 2004, 2013, 2004, 2009, 2009, 2005, 2005, 2012, 2013, 2001, 2003, 2007, 2009, 1980, 1983, 2001, 2003, 1999, 2003, 2003, 2009, 2008, 1999, 2001, 2004, 2008, 1998, 2009, 2004, 2007, 1996, 2006, 2001, 1999, 2001, 2002, 2003, 1999, 2004, 2004, 2003, 2005, 2010, 2011, 1998, 2013, 2003, 2010, 2012, 2012, 1999, 2001, 2007, 2008, 2012, 2013, 1999, 2010, 2001, 2012, 2013, 2012, 2005, 2014, 2011, 2004, 2013, 2000, 2004, 2006, 1997, 1954, 1956, 1959, 1965, 1965, 1972, 1974, 1976, 1977, 1984, 1993, 1996, 1999, 2002, 2012, 1999, 2011, 2012, 1992, 2012, 2012, 1937, 1957, 1968, 1969, 1981, 1991, 1994, 1997, 2005, 2013, 2010, 1999, 2007, 1985, 2002, 2004, 2011, 2013, 1985, 2002, 1997, 1998, 2005, 2009, 2011, 2013, 2005, 2013, 1993, 1998, 2010, 2005, 1999, 2000, 2006, 2007, 1993, 2013, 2004, 2006, 2012, 2012, 2012, 2013, 2001, 2009, 2012, 1992, 1999, 2009, 2013, 2008, 2013, 1958, 1978, 1990, 1997, 1998, 1998, 2000, 2008, 2010, 2012, 2006, 1993, 2006, 2005, 2006, 2012, 2013, 2009, 2013, 1997, 1997, 2003, 2012, 2012, 2000, 2001, 2010, 2010, 1979, 1997, 2001, 2003, 1976, 1982, 1987, 1999, 2010, 2000, 2004, 2007, 2012, 1980, 2005, 2008, 2008, 2010, 2011, 2013, 1947, 1947, 1953, 1962, 1972, 1976, 2000, 2001, 2002, 2003, 2003, 2003, 2004, 2005, 2009, 2009, 1980, 2003, 2011, 2002, 2003, 2006, 2010, 2013, 2001, 2005, 2008, 2010, 2011, 2005, 2011, 2007, 2009, 2009, 2011, 2003, 2007, 1982, 2007, 1997, 2007, 2010, 1970, 1989, 1998, 2001, 2004, 1976, 2005, 2008, 2012, 2007, 2012, 1979, 2002, 2008, 2011, 2002, 1997, 2002, 2003, 2004, 2008, 2011, 2011, 2011, 2013, 1995, 1997, 2004, 2006, 2006, 2006, 2007, 2009, 2010, 2010, 2010, 2012, 2012, 2013, 2013, 2013, 2013, 2003, 2000, 2000, 2003, 2013, 1962, 1993, 2004, 2005, 2010, 2011, 1984, 2012, 2009, 2010, 1989, 1999, 2002, 2005, 2006, 2008, 2012, 1960, 1970, 1973, 1974, 1975, 2001, 2002, 2003, 2013, 2013, 2002, 2008, 2011, 2011, 1969, 1975, 1981, 1999, 2003, 2004, 2010, 2012, 2013, 2013, 2013, 2002, 2003, 2007, 2009, 2011, 2011, 2011, 2002, 2006, 2011, 2003, 2011, 2012, 2012, 2006, 2006, 2012, 2013, 1965, 1965, 1975, 2000, 2000, 2004, 2007, 2012, 2000, 2010, 2011, 2011, 2013, 1972, 2011, 2013, 2008, 2012, 2012, 2008, 2009, 2011, 2013, 2013, 2004, 2005, 2006, 2004, 2012, 2013, 1982, 2005, 2005, 2008, 2008, 2012, 2008, 2009, 2010, 2011, 2013, 2003, 2005, 2005, 1991, 2004, 1978, 1997, 2000, 2003, 2008, 2013, 2013, 2001, 2001, 2006, 2012, 2001, 2002, 2004, 2005, 2009, 2003, 2003, 2005, 2013, 2008, 1989, 2002, 2009, 2013, 2013, 2007, 1987, 2007, 2008, 2011, 2012, 2013, 2000, 2005, 2005, 2011, 1988, 2009, 1999, 1999, 2000, 2003, 2003, 2010, 2012, 1998, 2003, 1979, 2005, 2006, 1986, 2002, 2013, 2002, 2003, 2007, 2008, 2009, 1995, 2003, 2005, 2007, 2009, 2012, 2012, 2008, 2011, 2013, 2013, 1999, 2005, 2013, 1998, 2000, 2012, 2009, 2000, 2008, 2011, 2011, 1998, 2010, 2003, 2004, 2011, 2012, 2003, 2013, 2013, 2011, 2013, 1999, 2006, 2011, 2012, 1998, 1999, 2004, 2006, 2010, 2013, 1965, 1995, 2002, 2007, 2013, 1999, 2006, 2006, 2012, 2000, 2007, 2012, 1998, 2006, 2011], \"xaxis\": \"x\", \"yaxis\": \"y\"}],                        {\"barmode\": \"relative\", \"legend\": {\"tracegroupgap\": 0}, \"template\": {\"data\": {\"bar\": [{\"error_x\": {\"color\": \"#2a3f5f\"}, \"error_y\": {\"color\": \"#2a3f5f\"}, \"marker\": {\"line\": {\"color\": \"#E5ECF6\", \"width\": 0.5}}, \"type\": \"bar\"}], \"barpolar\": [{\"marker\": {\"line\": {\"color\": \"#E5ECF6\", \"width\": 0.5}}, \"type\": \"barpolar\"}], \"carpet\": [{\"aaxis\": {\"endlinecolor\": \"#2a3f5f\", \"gridcolor\": \"white\", \"linecolor\": \"white\", \"minorgridcolor\": \"white\", \"startlinecolor\": \"#2a3f5f\"}, \"baxis\": {\"endlinecolor\": \"#2a3f5f\", \"gridcolor\": \"white\", \"linecolor\": \"white\", \"minorgridcolor\": \"white\", \"startlinecolor\": \"#2a3f5f\"}, \"type\": \"carpet\"}], \"choropleth\": [{\"colorbar\": {\"outlinewidth\": 0, \"ticks\": \"\"}, \"type\": \"choropleth\"}], \"contour\": [{\"colorbar\": {\"outlinewidth\": 0, \"ticks\": \"\"}, \"colorscale\": [[0.0, \"#0d0887\"], [0.1111111111111111, \"#46039f\"], [0.2222222222222222, \"#7201a8\"], [0.3333333333333333, \"#9c179e\"], [0.4444444444444444, \"#bd3786\"], [0.5555555555555556, \"#d8576b\"], [0.6666666666666666, \"#ed7953\"], [0.7777777777777778, \"#fb9f3a\"], [0.8888888888888888, \"#fdca26\"], [1.0, \"#f0f921\"]], \"type\": \"contour\"}], \"contourcarpet\": [{\"colorbar\": {\"outlinewidth\": 0, \"ticks\": \"\"}, \"type\": \"contourcarpet\"}], \"heatmap\": [{\"colorbar\": {\"outlinewidth\": 0, \"ticks\": \"\"}, \"colorscale\": [[0.0, \"#0d0887\"], [0.1111111111111111, \"#46039f\"], [0.2222222222222222, \"#7201a8\"], [0.3333333333333333, \"#9c179e\"], [0.4444444444444444, \"#bd3786\"], [0.5555555555555556, \"#d8576b\"], [0.6666666666666666, \"#ed7953\"], [0.7777777777777778, \"#fb9f3a\"], [0.8888888888888888, \"#fdca26\"], [1.0, \"#f0f921\"]], \"type\": \"heatmap\"}], \"heatmapgl\": [{\"colorbar\": {\"outlinewidth\": 0, \"ticks\": \"\"}, \"colorscale\": [[0.0, \"#0d0887\"], [0.1111111111111111, \"#46039f\"], [0.2222222222222222, \"#7201a8\"], [0.3333333333333333, \"#9c179e\"], [0.4444444444444444, \"#bd3786\"], [0.5555555555555556, \"#d8576b\"], [0.6666666666666666, \"#ed7953\"], [0.7777777777777778, \"#fb9f3a\"], [0.8888888888888888, \"#fdca26\"], [1.0, \"#f0f921\"]], \"type\": \"heatmapgl\"}], \"histogram\": [{\"marker\": {\"colorbar\": {\"outlinewidth\": 0, \"ticks\": \"\"}}, \"type\": \"histogram\"}], \"histogram2d\": [{\"colorbar\": {\"outlinewidth\": 0, \"ticks\": \"\"}, \"colorscale\": [[0.0, \"#0d0887\"], [0.1111111111111111, \"#46039f\"], [0.2222222222222222, \"#7201a8\"], [0.3333333333333333, \"#9c179e\"], [0.4444444444444444, \"#bd3786\"], [0.5555555555555556, \"#d8576b\"], [0.6666666666666666, \"#ed7953\"], [0.7777777777777778, \"#fb9f3a\"], [0.8888888888888888, \"#fdca26\"], [1.0, \"#f0f921\"]], \"type\": \"histogram2d\"}], \"histogram2dcontour\": [{\"colorbar\": {\"outlinewidth\": 0, \"ticks\": \"\"}, \"colorscale\": [[0.0, \"#0d0887\"], [0.1111111111111111, \"#46039f\"], [0.2222222222222222, \"#7201a8\"], [0.3333333333333333, \"#9c179e\"], [0.4444444444444444, \"#bd3786\"], [0.5555555555555556, \"#d8576b\"], [0.6666666666666666, \"#ed7953\"], [0.7777777777777778, \"#fb9f3a\"], [0.8888888888888888, \"#fdca26\"], [1.0, \"#f0f921\"]], \"type\": \"histogram2dcontour\"}], \"mesh3d\": [{\"colorbar\": {\"outlinewidth\": 0, \"ticks\": \"\"}, \"type\": \"mesh3d\"}], \"parcoords\": [{\"line\": {\"colorbar\": {\"outlinewidth\": 0, \"ticks\": \"\"}}, \"type\": \"parcoords\"}], \"pie\": [{\"automargin\": true, \"type\": \"pie\"}], \"scatter\": [{\"marker\": {\"colorbar\": {\"outlinewidth\": 0, \"ticks\": \"\"}}, \"type\": \"scatter\"}], \"scatter3d\": [{\"line\": {\"colorbar\": {\"outlinewidth\": 0, \"ticks\": \"\"}}, \"marker\": {\"colorbar\": {\"outlinewidth\": 0, \"ticks\": \"\"}}, \"type\": \"scatter3d\"}], \"scattercarpet\": [{\"marker\": {\"colorbar\": {\"outlinewidth\": 0, \"ticks\": \"\"}}, \"type\": \"scattercarpet\"}], \"scattergeo\": [{\"marker\": {\"colorbar\": {\"outlinewidth\": 0, \"ticks\": \"\"}}, \"type\": \"scattergeo\"}], \"scattergl\": [{\"marker\": {\"colorbar\": {\"outlinewidth\": 0, \"ticks\": \"\"}}, \"type\": \"scattergl\"}], \"scattermapbox\": [{\"marker\": {\"colorbar\": {\"outlinewidth\": 0, \"ticks\": \"\"}}, \"type\": \"scattermapbox\"}], \"scatterpolar\": [{\"marker\": {\"colorbar\": {\"outlinewidth\": 0, \"ticks\": \"\"}}, \"type\": \"scatterpolar\"}], \"scatterpolargl\": [{\"marker\": {\"colorbar\": {\"outlinewidth\": 0, \"ticks\": \"\"}}, \"type\": \"scatterpolargl\"}], \"scatterternary\": [{\"marker\": {\"colorbar\": {\"outlinewidth\": 0, \"ticks\": \"\"}}, \"type\": \"scatterternary\"}], \"surface\": [{\"colorbar\": {\"outlinewidth\": 0, \"ticks\": \"\"}, \"colorscale\": [[0.0, \"#0d0887\"], [0.1111111111111111, \"#46039f\"], [0.2222222222222222, \"#7201a8\"], [0.3333333333333333, \"#9c179e\"], [0.4444444444444444, \"#bd3786\"], [0.5555555555555556, \"#d8576b\"], [0.6666666666666666, \"#ed7953\"], [0.7777777777777778, \"#fb9f3a\"], [0.8888888888888888, \"#fdca26\"], [1.0, \"#f0f921\"]], \"type\": \"surface\"}], \"table\": [{\"cells\": {\"fill\": {\"color\": \"#EBF0F8\"}, \"line\": {\"color\": \"white\"}}, \"header\": {\"fill\": {\"color\": \"#C8D4E3\"}, \"line\": {\"color\": \"white\"}}, \"type\": \"table\"}]}, \"layout\": {\"annotationdefaults\": {\"arrowcolor\": \"#2a3f5f\", \"arrowhead\": 0, \"arrowwidth\": 1}, \"autotypenumbers\": \"strict\", \"coloraxis\": {\"colorbar\": {\"outlinewidth\": 0, \"ticks\": \"\"}}, \"colorscale\": {\"diverging\": [[0, \"#8e0152\"], [0.1, \"#c51b7d\"], [0.2, \"#de77ae\"], [0.3, \"#f1b6da\"], [0.4, \"#fde0ef\"], [0.5, \"#f7f7f7\"], [0.6, \"#e6f5d0\"], [0.7, \"#b8e186\"], [0.8, \"#7fbc41\"], [0.9, \"#4d9221\"], [1, \"#276419\"]], \"sequential\": [[0.0, \"#0d0887\"], [0.1111111111111111, \"#46039f\"], [0.2222222222222222, \"#7201a8\"], [0.3333333333333333, \"#9c179e\"], [0.4444444444444444, \"#bd3786\"], [0.5555555555555556, \"#d8576b\"], [0.6666666666666666, \"#ed7953\"], [0.7777777777777778, \"#fb9f3a\"], [0.8888888888888888, \"#fdca26\"], [1.0, \"#f0f921\"]], \"sequentialminus\": [[0.0, \"#0d0887\"], [0.1111111111111111, \"#46039f\"], [0.2222222222222222, \"#7201a8\"], [0.3333333333333333, \"#9c179e\"], [0.4444444444444444, \"#bd3786\"], [0.5555555555555556, \"#d8576b\"], [0.6666666666666666, \"#ed7953\"], [0.7777777777777778, \"#fb9f3a\"], [0.8888888888888888, \"#fdca26\"], [1.0, \"#f0f921\"]]}, \"colorway\": [\"#636efa\", \"#EF553B\", \"#00cc96\", \"#ab63fa\", \"#FFA15A\", \"#19d3f3\", \"#FF6692\", \"#B6E880\", \"#FF97FF\", \"#FECB52\"], \"font\": {\"color\": \"#2a3f5f\"}, \"geo\": {\"bgcolor\": \"white\", \"lakecolor\": \"white\", \"landcolor\": \"#E5ECF6\", \"showlakes\": true, \"showland\": true, \"subunitcolor\": \"white\"}, \"hoverlabel\": {\"align\": \"left\"}, \"hovermode\": \"closest\", \"mapbox\": {\"style\": \"light\"}, \"paper_bgcolor\": \"white\", \"plot_bgcolor\": \"#E5ECF6\", \"polar\": {\"angularaxis\": {\"gridcolor\": \"white\", \"linecolor\": \"white\", \"ticks\": \"\"}, \"bgcolor\": \"#E5ECF6\", \"radialaxis\": {\"gridcolor\": \"white\", \"linecolor\": \"white\", \"ticks\": \"\"}}, \"scene\": {\"xaxis\": {\"backgroundcolor\": \"#E5ECF6\", \"gridcolor\": \"white\", \"gridwidth\": 2, \"linecolor\": \"white\", \"showbackground\": true, \"ticks\": \"\", \"zerolinecolor\": \"white\"}, \"yaxis\": {\"backgroundcolor\": \"#E5ECF6\", \"gridcolor\": \"white\", \"gridwidth\": 2, \"linecolor\": \"white\", \"showbackground\": true, \"ticks\": \"\", \"zerolinecolor\": \"white\"}, \"zaxis\": {\"backgroundcolor\": \"#E5ECF6\", \"gridcolor\": \"white\", \"gridwidth\": 2, \"linecolor\": \"white\", \"showbackground\": true, \"ticks\": \"\", \"zerolinecolor\": \"white\"}}, \"shapedefaults\": {\"line\": {\"color\": \"#2a3f5f\"}}, \"ternary\": {\"aaxis\": {\"gridcolor\": \"white\", \"linecolor\": \"white\", \"ticks\": \"\"}, \"baxis\": {\"gridcolor\": \"white\", \"linecolor\": \"white\", \"ticks\": \"\"}, \"bgcolor\": \"#E5ECF6\", \"caxis\": {\"gridcolor\": \"white\", \"linecolor\": \"white\", \"ticks\": \"\"}}, \"title\": {\"x\": 0.05}, \"xaxis\": {\"automargin\": true, \"gridcolor\": \"white\", \"linecolor\": \"white\", \"ticks\": \"\", \"title\": {\"standoff\": 15}, \"zerolinecolor\": \"white\", \"zerolinewidth\": 2}, \"yaxis\": {\"automargin\": true, \"gridcolor\": \"white\", \"linecolor\": \"white\", \"ticks\": \"\", \"title\": {\"standoff\": 15}, \"zerolinecolor\": \"white\", \"zerolinewidth\": 2}}}, \"title\": {\"text\": \"Sightings by year of cylinder shapes seen in the country us\"}, \"xaxis\": {\"anchor\": \"y\", \"domain\": [0.0, 1.0], \"title\": {\"text\": \"x\"}}, \"yaxis\": {\"anchor\": \"x\", \"domain\": [0.0, 1.0], \"title\": {\"text\": \"count\"}}},                        {\"responsive\": true}                    ).then(function(){\n",
       "                            \n",
       "var gd = document.getElementById('47270add-78e3-4a64-8a2f-860b8b080067');\n",
       "var x = new MutationObserver(function (mutations, observer) {{\n",
       "        var display = window.getComputedStyle(gd).display;\n",
       "        if (!display || display === 'none') {{\n",
       "            console.log([gd, 'removed!']);\n",
       "            Plotly.purge(gd);\n",
       "            observer.disconnect();\n",
       "        }}\n",
       "}});\n",
       "\n",
       "// Listen for the removal of the full notebook cells\n",
       "var notebookContainer = gd.closest('#notebook-container');\n",
       "if (notebookContainer) {{\n",
       "    x.observe(notebookContainer, {childList: true});\n",
       "}}\n",
       "\n",
       "// Listen for the clearing of the current output cell\n",
       "var outputEl = gd.closest('.output');\n",
       "if (outputEl) {{\n",
       "    x.observe(outputEl, {childList: true});\n",
       "}}\n",
       "\n",
       "                        })                };                });            </script>        </div>"
      ]
     },
     "metadata": {},
     "output_type": "display_data"
    },
    {
     "data": {
      "application/vnd.plotly.v1+json": {
       "config": {
        "plotlyServerURL": "https://plot.ly"
       },
       "data": [
        {
         "alignmentgroup": "True",
         "bingroup": "x",
         "hovertemplate": "x=%{x}<br>count=%{y}<extra></extra>",
         "legendgroup": "",
         "marker": {
          "color": "#636efa"
         },
         "name": "",
         "offsetgroup": "",
         "orientation": "v",
         "showlegend": false,
         "type": "histogram",
         "x": [
          1974,
          2008,
          2007,
          2007,
          2001,
          2008,
          1971,
          2011,
          1962,
          1978,
          2008,
          2009,
          1998,
          2006,
          2004,
          2009,
          2008,
          2013,
          2002,
          2006,
          2007,
          2000,
          2007,
          2003,
          2008,
          2003,
          2005,
          2006,
          1976,
          2001,
          2002,
          2009,
          2007,
          2001,
          2007,
          2004,
          2001,
          2002,
          1991,
          2004,
          2012,
          2006,
          2006,
          1993,
          2009,
          2007,
          2011,
          2011,
          1996,
          2001,
          1983,
          2003,
          2005,
          2012,
          2005,
          2009,
          1976,
          1997,
          1966,
          1980,
          1981,
          2007,
          2009,
          1986,
          2010,
          2006,
          1993,
          2003,
          2005,
          2006,
          2004,
          2004,
          1970,
          2001,
          2000,
          1977,
          1999,
          2000,
          1971,
          2006,
          1983,
          2001,
          2007,
          2002,
          2012,
          2000,
          1970,
          2006,
          1996,
          2005,
          2005,
          1997,
          2010,
          2000,
          2011,
          2002,
          2002,
          2013,
          2000,
          2001,
          2003,
          2003
         ],
         "xaxis": "x",
         "yaxis": "y"
        }
       ],
       "layout": {
        "barmode": "relative",
        "legend": {
         "tracegroupgap": 0
        },
        "template": {
         "data": {
          "bar": [
           {
            "error_x": {
             "color": "#2a3f5f"
            },
            "error_y": {
             "color": "#2a3f5f"
            },
            "marker": {
             "line": {
              "color": "#E5ECF6",
              "width": 0.5
             }
            },
            "type": "bar"
           }
          ],
          "barpolar": [
           {
            "marker": {
             "line": {
              "color": "#E5ECF6",
              "width": 0.5
             }
            },
            "type": "barpolar"
           }
          ],
          "carpet": [
           {
            "aaxis": {
             "endlinecolor": "#2a3f5f",
             "gridcolor": "white",
             "linecolor": "white",
             "minorgridcolor": "white",
             "startlinecolor": "#2a3f5f"
            },
            "baxis": {
             "endlinecolor": "#2a3f5f",
             "gridcolor": "white",
             "linecolor": "white",
             "minorgridcolor": "white",
             "startlinecolor": "#2a3f5f"
            },
            "type": "carpet"
           }
          ],
          "choropleth": [
           {
            "colorbar": {
             "outlinewidth": 0,
             "ticks": ""
            },
            "type": "choropleth"
           }
          ],
          "contour": [
           {
            "colorbar": {
             "outlinewidth": 0,
             "ticks": ""
            },
            "colorscale": [
             [
              0,
              "#0d0887"
             ],
             [
              0.1111111111111111,
              "#46039f"
             ],
             [
              0.2222222222222222,
              "#7201a8"
             ],
             [
              0.3333333333333333,
              "#9c179e"
             ],
             [
              0.4444444444444444,
              "#bd3786"
             ],
             [
              0.5555555555555556,
              "#d8576b"
             ],
             [
              0.6666666666666666,
              "#ed7953"
             ],
             [
              0.7777777777777778,
              "#fb9f3a"
             ],
             [
              0.8888888888888888,
              "#fdca26"
             ],
             [
              1,
              "#f0f921"
             ]
            ],
            "type": "contour"
           }
          ],
          "contourcarpet": [
           {
            "colorbar": {
             "outlinewidth": 0,
             "ticks": ""
            },
            "type": "contourcarpet"
           }
          ],
          "heatmap": [
           {
            "colorbar": {
             "outlinewidth": 0,
             "ticks": ""
            },
            "colorscale": [
             [
              0,
              "#0d0887"
             ],
             [
              0.1111111111111111,
              "#46039f"
             ],
             [
              0.2222222222222222,
              "#7201a8"
             ],
             [
              0.3333333333333333,
              "#9c179e"
             ],
             [
              0.4444444444444444,
              "#bd3786"
             ],
             [
              0.5555555555555556,
              "#d8576b"
             ],
             [
              0.6666666666666666,
              "#ed7953"
             ],
             [
              0.7777777777777778,
              "#fb9f3a"
             ],
             [
              0.8888888888888888,
              "#fdca26"
             ],
             [
              1,
              "#f0f921"
             ]
            ],
            "type": "heatmap"
           }
          ],
          "heatmapgl": [
           {
            "colorbar": {
             "outlinewidth": 0,
             "ticks": ""
            },
            "colorscale": [
             [
              0,
              "#0d0887"
             ],
             [
              0.1111111111111111,
              "#46039f"
             ],
             [
              0.2222222222222222,
              "#7201a8"
             ],
             [
              0.3333333333333333,
              "#9c179e"
             ],
             [
              0.4444444444444444,
              "#bd3786"
             ],
             [
              0.5555555555555556,
              "#d8576b"
             ],
             [
              0.6666666666666666,
              "#ed7953"
             ],
             [
              0.7777777777777778,
              "#fb9f3a"
             ],
             [
              0.8888888888888888,
              "#fdca26"
             ],
             [
              1,
              "#f0f921"
             ]
            ],
            "type": "heatmapgl"
           }
          ],
          "histogram": [
           {
            "marker": {
             "colorbar": {
              "outlinewidth": 0,
              "ticks": ""
             }
            },
            "type": "histogram"
           }
          ],
          "histogram2d": [
           {
            "colorbar": {
             "outlinewidth": 0,
             "ticks": ""
            },
            "colorscale": [
             [
              0,
              "#0d0887"
             ],
             [
              0.1111111111111111,
              "#46039f"
             ],
             [
              0.2222222222222222,
              "#7201a8"
             ],
             [
              0.3333333333333333,
              "#9c179e"
             ],
             [
              0.4444444444444444,
              "#bd3786"
             ],
             [
              0.5555555555555556,
              "#d8576b"
             ],
             [
              0.6666666666666666,
              "#ed7953"
             ],
             [
              0.7777777777777778,
              "#fb9f3a"
             ],
             [
              0.8888888888888888,
              "#fdca26"
             ],
             [
              1,
              "#f0f921"
             ]
            ],
            "type": "histogram2d"
           }
          ],
          "histogram2dcontour": [
           {
            "colorbar": {
             "outlinewidth": 0,
             "ticks": ""
            },
            "colorscale": [
             [
              0,
              "#0d0887"
             ],
             [
              0.1111111111111111,
              "#46039f"
             ],
             [
              0.2222222222222222,
              "#7201a8"
             ],
             [
              0.3333333333333333,
              "#9c179e"
             ],
             [
              0.4444444444444444,
              "#bd3786"
             ],
             [
              0.5555555555555556,
              "#d8576b"
             ],
             [
              0.6666666666666666,
              "#ed7953"
             ],
             [
              0.7777777777777778,
              "#fb9f3a"
             ],
             [
              0.8888888888888888,
              "#fdca26"
             ],
             [
              1,
              "#f0f921"
             ]
            ],
            "type": "histogram2dcontour"
           }
          ],
          "mesh3d": [
           {
            "colorbar": {
             "outlinewidth": 0,
             "ticks": ""
            },
            "type": "mesh3d"
           }
          ],
          "parcoords": [
           {
            "line": {
             "colorbar": {
              "outlinewidth": 0,
              "ticks": ""
             }
            },
            "type": "parcoords"
           }
          ],
          "pie": [
           {
            "automargin": true,
            "type": "pie"
           }
          ],
          "scatter": [
           {
            "marker": {
             "colorbar": {
              "outlinewidth": 0,
              "ticks": ""
             }
            },
            "type": "scatter"
           }
          ],
          "scatter3d": [
           {
            "line": {
             "colorbar": {
              "outlinewidth": 0,
              "ticks": ""
             }
            },
            "marker": {
             "colorbar": {
              "outlinewidth": 0,
              "ticks": ""
             }
            },
            "type": "scatter3d"
           }
          ],
          "scattercarpet": [
           {
            "marker": {
             "colorbar": {
              "outlinewidth": 0,
              "ticks": ""
             }
            },
            "type": "scattercarpet"
           }
          ],
          "scattergeo": [
           {
            "marker": {
             "colorbar": {
              "outlinewidth": 0,
              "ticks": ""
             }
            },
            "type": "scattergeo"
           }
          ],
          "scattergl": [
           {
            "marker": {
             "colorbar": {
              "outlinewidth": 0,
              "ticks": ""
             }
            },
            "type": "scattergl"
           }
          ],
          "scattermapbox": [
           {
            "marker": {
             "colorbar": {
              "outlinewidth": 0,
              "ticks": ""
             }
            },
            "type": "scattermapbox"
           }
          ],
          "scatterpolar": [
           {
            "marker": {
             "colorbar": {
              "outlinewidth": 0,
              "ticks": ""
             }
            },
            "type": "scatterpolar"
           }
          ],
          "scatterpolargl": [
           {
            "marker": {
             "colorbar": {
              "outlinewidth": 0,
              "ticks": ""
             }
            },
            "type": "scatterpolargl"
           }
          ],
          "scatterternary": [
           {
            "marker": {
             "colorbar": {
              "outlinewidth": 0,
              "ticks": ""
             }
            },
            "type": "scatterternary"
           }
          ],
          "surface": [
           {
            "colorbar": {
             "outlinewidth": 0,
             "ticks": ""
            },
            "colorscale": [
             [
              0,
              "#0d0887"
             ],
             [
              0.1111111111111111,
              "#46039f"
             ],
             [
              0.2222222222222222,
              "#7201a8"
             ],
             [
              0.3333333333333333,
              "#9c179e"
             ],
             [
              0.4444444444444444,
              "#bd3786"
             ],
             [
              0.5555555555555556,
              "#d8576b"
             ],
             [
              0.6666666666666666,
              "#ed7953"
             ],
             [
              0.7777777777777778,
              "#fb9f3a"
             ],
             [
              0.8888888888888888,
              "#fdca26"
             ],
             [
              1,
              "#f0f921"
             ]
            ],
            "type": "surface"
           }
          ],
          "table": [
           {
            "cells": {
             "fill": {
              "color": "#EBF0F8"
             },
             "line": {
              "color": "white"
             }
            },
            "header": {
             "fill": {
              "color": "#C8D4E3"
             },
             "line": {
              "color": "white"
             }
            },
            "type": "table"
           }
          ]
         },
         "layout": {
          "annotationdefaults": {
           "arrowcolor": "#2a3f5f",
           "arrowhead": 0,
           "arrowwidth": 1
          },
          "autotypenumbers": "strict",
          "coloraxis": {
           "colorbar": {
            "outlinewidth": 0,
            "ticks": ""
           }
          },
          "colorscale": {
           "diverging": [
            [
             0,
             "#8e0152"
            ],
            [
             0.1,
             "#c51b7d"
            ],
            [
             0.2,
             "#de77ae"
            ],
            [
             0.3,
             "#f1b6da"
            ],
            [
             0.4,
             "#fde0ef"
            ],
            [
             0.5,
             "#f7f7f7"
            ],
            [
             0.6,
             "#e6f5d0"
            ],
            [
             0.7,
             "#b8e186"
            ],
            [
             0.8,
             "#7fbc41"
            ],
            [
             0.9,
             "#4d9221"
            ],
            [
             1,
             "#276419"
            ]
           ],
           "sequential": [
            [
             0,
             "#0d0887"
            ],
            [
             0.1111111111111111,
             "#46039f"
            ],
            [
             0.2222222222222222,
             "#7201a8"
            ],
            [
             0.3333333333333333,
             "#9c179e"
            ],
            [
             0.4444444444444444,
             "#bd3786"
            ],
            [
             0.5555555555555556,
             "#d8576b"
            ],
            [
             0.6666666666666666,
             "#ed7953"
            ],
            [
             0.7777777777777778,
             "#fb9f3a"
            ],
            [
             0.8888888888888888,
             "#fdca26"
            ],
            [
             1,
             "#f0f921"
            ]
           ],
           "sequentialminus": [
            [
             0,
             "#0d0887"
            ],
            [
             0.1111111111111111,
             "#46039f"
            ],
            [
             0.2222222222222222,
             "#7201a8"
            ],
            [
             0.3333333333333333,
             "#9c179e"
            ],
            [
             0.4444444444444444,
             "#bd3786"
            ],
            [
             0.5555555555555556,
             "#d8576b"
            ],
            [
             0.6666666666666666,
             "#ed7953"
            ],
            [
             0.7777777777777778,
             "#fb9f3a"
            ],
            [
             0.8888888888888888,
             "#fdca26"
            ],
            [
             1,
             "#f0f921"
            ]
           ]
          },
          "colorway": [
           "#636efa",
           "#EF553B",
           "#00cc96",
           "#ab63fa",
           "#FFA15A",
           "#19d3f3",
           "#FF6692",
           "#B6E880",
           "#FF97FF",
           "#FECB52"
          ],
          "font": {
           "color": "#2a3f5f"
          },
          "geo": {
           "bgcolor": "white",
           "lakecolor": "white",
           "landcolor": "#E5ECF6",
           "showlakes": true,
           "showland": true,
           "subunitcolor": "white"
          },
          "hoverlabel": {
           "align": "left"
          },
          "hovermode": "closest",
          "mapbox": {
           "style": "light"
          },
          "paper_bgcolor": "white",
          "plot_bgcolor": "#E5ECF6",
          "polar": {
           "angularaxis": {
            "gridcolor": "white",
            "linecolor": "white",
            "ticks": ""
           },
           "bgcolor": "#E5ECF6",
           "radialaxis": {
            "gridcolor": "white",
            "linecolor": "white",
            "ticks": ""
           }
          },
          "scene": {
           "xaxis": {
            "backgroundcolor": "#E5ECF6",
            "gridcolor": "white",
            "gridwidth": 2,
            "linecolor": "white",
            "showbackground": true,
            "ticks": "",
            "zerolinecolor": "white"
           },
           "yaxis": {
            "backgroundcolor": "#E5ECF6",
            "gridcolor": "white",
            "gridwidth": 2,
            "linecolor": "white",
            "showbackground": true,
            "ticks": "",
            "zerolinecolor": "white"
           },
           "zaxis": {
            "backgroundcolor": "#E5ECF6",
            "gridcolor": "white",
            "gridwidth": 2,
            "linecolor": "white",
            "showbackground": true,
            "ticks": "",
            "zerolinecolor": "white"
           }
          },
          "shapedefaults": {
           "line": {
            "color": "#2a3f5f"
           }
          },
          "ternary": {
           "aaxis": {
            "gridcolor": "white",
            "linecolor": "white",
            "ticks": ""
           },
           "baxis": {
            "gridcolor": "white",
            "linecolor": "white",
            "ticks": ""
           },
           "bgcolor": "#E5ECF6",
           "caxis": {
            "gridcolor": "white",
            "linecolor": "white",
            "ticks": ""
           }
          },
          "title": {
           "x": 0.05
          },
          "xaxis": {
           "automargin": true,
           "gridcolor": "white",
           "linecolor": "white",
           "ticks": "",
           "title": {
            "standoff": 15
           },
           "zerolinecolor": "white",
           "zerolinewidth": 2
          },
          "yaxis": {
           "automargin": true,
           "gridcolor": "white",
           "linecolor": "white",
           "ticks": "",
           "title": {
            "standoff": 15
           },
           "zerolinecolor": "white",
           "zerolinewidth": 2
          }
         }
        },
        "title": {
         "text": "Sightings by year of disk shapes seen in the country gb"
        },
        "xaxis": {
         "anchor": "y",
         "domain": [
          0,
          1
         ],
         "title": {
          "text": "x"
         }
        },
        "yaxis": {
         "anchor": "x",
         "domain": [
          0,
          1
         ],
         "title": {
          "text": "count"
         }
        }
       }
      },
      "text/html": [
       "<div>                            <div id=\"c7b23fda-e42a-4d8a-bfe6-8f6050032a57\" class=\"plotly-graph-div\" style=\"height:525px; width:100%;\"></div>            <script type=\"text/javascript\">                require([\"plotly\"], function(Plotly) {                    window.PLOTLYENV=window.PLOTLYENV || {};                                    if (document.getElementById(\"c7b23fda-e42a-4d8a-bfe6-8f6050032a57\")) {                    Plotly.newPlot(                        \"c7b23fda-e42a-4d8a-bfe6-8f6050032a57\",                        [{\"alignmentgroup\": \"True\", \"bingroup\": \"x\", \"hovertemplate\": \"x=%{x}<br>count=%{y}<extra></extra>\", \"legendgroup\": \"\", \"marker\": {\"color\": \"#636efa\"}, \"name\": \"\", \"offsetgroup\": \"\", \"orientation\": \"v\", \"showlegend\": false, \"type\": \"histogram\", \"x\": [1974, 2008, 2007, 2007, 2001, 2008, 1971, 2011, 1962, 1978, 2008, 2009, 1998, 2006, 2004, 2009, 2008, 2013, 2002, 2006, 2007, 2000, 2007, 2003, 2008, 2003, 2005, 2006, 1976, 2001, 2002, 2009, 2007, 2001, 2007, 2004, 2001, 2002, 1991, 2004, 2012, 2006, 2006, 1993, 2009, 2007, 2011, 2011, 1996, 2001, 1983, 2003, 2005, 2012, 2005, 2009, 1976, 1997, 1966, 1980, 1981, 2007, 2009, 1986, 2010, 2006, 1993, 2003, 2005, 2006, 2004, 2004, 1970, 2001, 2000, 1977, 1999, 2000, 1971, 2006, 1983, 2001, 2007, 2002, 2012, 2000, 1970, 2006, 1996, 2005, 2005, 1997, 2010, 2000, 2011, 2002, 2002, 2013, 2000, 2001, 2003, 2003], \"xaxis\": \"x\", \"yaxis\": \"y\"}],                        {\"barmode\": \"relative\", \"legend\": {\"tracegroupgap\": 0}, \"template\": {\"data\": {\"bar\": [{\"error_x\": {\"color\": \"#2a3f5f\"}, \"error_y\": {\"color\": \"#2a3f5f\"}, \"marker\": {\"line\": {\"color\": \"#E5ECF6\", \"width\": 0.5}}, \"type\": \"bar\"}], \"barpolar\": [{\"marker\": {\"line\": {\"color\": \"#E5ECF6\", \"width\": 0.5}}, \"type\": \"barpolar\"}], \"carpet\": [{\"aaxis\": {\"endlinecolor\": \"#2a3f5f\", \"gridcolor\": \"white\", \"linecolor\": \"white\", \"minorgridcolor\": \"white\", \"startlinecolor\": \"#2a3f5f\"}, \"baxis\": {\"endlinecolor\": \"#2a3f5f\", \"gridcolor\": \"white\", \"linecolor\": \"white\", \"minorgridcolor\": \"white\", \"startlinecolor\": \"#2a3f5f\"}, \"type\": \"carpet\"}], \"choropleth\": [{\"colorbar\": {\"outlinewidth\": 0, \"ticks\": \"\"}, \"type\": \"choropleth\"}], \"contour\": [{\"colorbar\": {\"outlinewidth\": 0, \"ticks\": \"\"}, \"colorscale\": [[0.0, \"#0d0887\"], [0.1111111111111111, \"#46039f\"], [0.2222222222222222, \"#7201a8\"], [0.3333333333333333, \"#9c179e\"], [0.4444444444444444, \"#bd3786\"], [0.5555555555555556, \"#d8576b\"], [0.6666666666666666, \"#ed7953\"], [0.7777777777777778, \"#fb9f3a\"], [0.8888888888888888, \"#fdca26\"], [1.0, \"#f0f921\"]], \"type\": \"contour\"}], \"contourcarpet\": [{\"colorbar\": {\"outlinewidth\": 0, \"ticks\": \"\"}, \"type\": \"contourcarpet\"}], \"heatmap\": [{\"colorbar\": {\"outlinewidth\": 0, \"ticks\": \"\"}, \"colorscale\": [[0.0, \"#0d0887\"], [0.1111111111111111, \"#46039f\"], [0.2222222222222222, \"#7201a8\"], [0.3333333333333333, \"#9c179e\"], [0.4444444444444444, \"#bd3786\"], [0.5555555555555556, \"#d8576b\"], [0.6666666666666666, \"#ed7953\"], [0.7777777777777778, \"#fb9f3a\"], [0.8888888888888888, \"#fdca26\"], [1.0, \"#f0f921\"]], \"type\": \"heatmap\"}], \"heatmapgl\": [{\"colorbar\": {\"outlinewidth\": 0, \"ticks\": \"\"}, \"colorscale\": [[0.0, \"#0d0887\"], [0.1111111111111111, \"#46039f\"], [0.2222222222222222, \"#7201a8\"], [0.3333333333333333, \"#9c179e\"], [0.4444444444444444, \"#bd3786\"], [0.5555555555555556, \"#d8576b\"], [0.6666666666666666, \"#ed7953\"], [0.7777777777777778, \"#fb9f3a\"], [0.8888888888888888, \"#fdca26\"], [1.0, \"#f0f921\"]], \"type\": \"heatmapgl\"}], \"histogram\": [{\"marker\": {\"colorbar\": {\"outlinewidth\": 0, \"ticks\": \"\"}}, \"type\": \"histogram\"}], \"histogram2d\": [{\"colorbar\": {\"outlinewidth\": 0, \"ticks\": \"\"}, \"colorscale\": [[0.0, \"#0d0887\"], [0.1111111111111111, \"#46039f\"], [0.2222222222222222, \"#7201a8\"], [0.3333333333333333, \"#9c179e\"], [0.4444444444444444, \"#bd3786\"], [0.5555555555555556, \"#d8576b\"], [0.6666666666666666, \"#ed7953\"], [0.7777777777777778, \"#fb9f3a\"], [0.8888888888888888, \"#fdca26\"], [1.0, \"#f0f921\"]], \"type\": \"histogram2d\"}], \"histogram2dcontour\": [{\"colorbar\": {\"outlinewidth\": 0, \"ticks\": \"\"}, \"colorscale\": [[0.0, \"#0d0887\"], [0.1111111111111111, \"#46039f\"], [0.2222222222222222, \"#7201a8\"], [0.3333333333333333, \"#9c179e\"], [0.4444444444444444, \"#bd3786\"], [0.5555555555555556, \"#d8576b\"], [0.6666666666666666, \"#ed7953\"], [0.7777777777777778, \"#fb9f3a\"], [0.8888888888888888, \"#fdca26\"], [1.0, \"#f0f921\"]], \"type\": \"histogram2dcontour\"}], \"mesh3d\": [{\"colorbar\": {\"outlinewidth\": 0, \"ticks\": \"\"}, \"type\": \"mesh3d\"}], \"parcoords\": [{\"line\": {\"colorbar\": {\"outlinewidth\": 0, \"ticks\": \"\"}}, \"type\": \"parcoords\"}], \"pie\": [{\"automargin\": true, \"type\": \"pie\"}], \"scatter\": [{\"marker\": {\"colorbar\": {\"outlinewidth\": 0, \"ticks\": \"\"}}, \"type\": \"scatter\"}], \"scatter3d\": [{\"line\": {\"colorbar\": {\"outlinewidth\": 0, \"ticks\": \"\"}}, \"marker\": {\"colorbar\": {\"outlinewidth\": 0, \"ticks\": \"\"}}, \"type\": \"scatter3d\"}], \"scattercarpet\": [{\"marker\": {\"colorbar\": {\"outlinewidth\": 0, \"ticks\": \"\"}}, \"type\": \"scattercarpet\"}], \"scattergeo\": [{\"marker\": {\"colorbar\": {\"outlinewidth\": 0, \"ticks\": \"\"}}, \"type\": \"scattergeo\"}], \"scattergl\": [{\"marker\": {\"colorbar\": {\"outlinewidth\": 0, \"ticks\": \"\"}}, \"type\": \"scattergl\"}], \"scattermapbox\": [{\"marker\": {\"colorbar\": {\"outlinewidth\": 0, \"ticks\": \"\"}}, \"type\": \"scattermapbox\"}], \"scatterpolar\": [{\"marker\": {\"colorbar\": {\"outlinewidth\": 0, \"ticks\": \"\"}}, \"type\": \"scatterpolar\"}], \"scatterpolargl\": [{\"marker\": {\"colorbar\": {\"outlinewidth\": 0, \"ticks\": \"\"}}, \"type\": \"scatterpolargl\"}], \"scatterternary\": [{\"marker\": {\"colorbar\": {\"outlinewidth\": 0, \"ticks\": \"\"}}, \"type\": \"scatterternary\"}], \"surface\": [{\"colorbar\": {\"outlinewidth\": 0, \"ticks\": \"\"}, \"colorscale\": [[0.0, \"#0d0887\"], [0.1111111111111111, \"#46039f\"], [0.2222222222222222, \"#7201a8\"], [0.3333333333333333, \"#9c179e\"], [0.4444444444444444, \"#bd3786\"], [0.5555555555555556, \"#d8576b\"], [0.6666666666666666, \"#ed7953\"], [0.7777777777777778, \"#fb9f3a\"], [0.8888888888888888, \"#fdca26\"], [1.0, \"#f0f921\"]], \"type\": \"surface\"}], \"table\": [{\"cells\": {\"fill\": {\"color\": \"#EBF0F8\"}, \"line\": {\"color\": \"white\"}}, \"header\": {\"fill\": {\"color\": \"#C8D4E3\"}, \"line\": {\"color\": \"white\"}}, \"type\": \"table\"}]}, \"layout\": {\"annotationdefaults\": {\"arrowcolor\": \"#2a3f5f\", \"arrowhead\": 0, \"arrowwidth\": 1}, \"autotypenumbers\": \"strict\", \"coloraxis\": {\"colorbar\": {\"outlinewidth\": 0, \"ticks\": \"\"}}, \"colorscale\": {\"diverging\": [[0, \"#8e0152\"], [0.1, \"#c51b7d\"], [0.2, \"#de77ae\"], [0.3, \"#f1b6da\"], [0.4, \"#fde0ef\"], [0.5, \"#f7f7f7\"], [0.6, \"#e6f5d0\"], [0.7, \"#b8e186\"], [0.8, \"#7fbc41\"], [0.9, \"#4d9221\"], [1, \"#276419\"]], \"sequential\": [[0.0, \"#0d0887\"], [0.1111111111111111, \"#46039f\"], [0.2222222222222222, \"#7201a8\"], [0.3333333333333333, \"#9c179e\"], [0.4444444444444444, \"#bd3786\"], [0.5555555555555556, \"#d8576b\"], [0.6666666666666666, \"#ed7953\"], [0.7777777777777778, \"#fb9f3a\"], [0.8888888888888888, \"#fdca26\"], [1.0, \"#f0f921\"]], \"sequentialminus\": [[0.0, \"#0d0887\"], [0.1111111111111111, \"#46039f\"], [0.2222222222222222, \"#7201a8\"], [0.3333333333333333, \"#9c179e\"], [0.4444444444444444, \"#bd3786\"], [0.5555555555555556, \"#d8576b\"], [0.6666666666666666, \"#ed7953\"], [0.7777777777777778, \"#fb9f3a\"], [0.8888888888888888, \"#fdca26\"], [1.0, \"#f0f921\"]]}, \"colorway\": [\"#636efa\", \"#EF553B\", \"#00cc96\", \"#ab63fa\", \"#FFA15A\", \"#19d3f3\", \"#FF6692\", \"#B6E880\", \"#FF97FF\", \"#FECB52\"], \"font\": {\"color\": \"#2a3f5f\"}, \"geo\": {\"bgcolor\": \"white\", \"lakecolor\": \"white\", \"landcolor\": \"#E5ECF6\", \"showlakes\": true, \"showland\": true, \"subunitcolor\": \"white\"}, \"hoverlabel\": {\"align\": \"left\"}, \"hovermode\": \"closest\", \"mapbox\": {\"style\": \"light\"}, \"paper_bgcolor\": \"white\", \"plot_bgcolor\": \"#E5ECF6\", \"polar\": {\"angularaxis\": {\"gridcolor\": \"white\", \"linecolor\": \"white\", \"ticks\": \"\"}, \"bgcolor\": \"#E5ECF6\", \"radialaxis\": {\"gridcolor\": \"white\", \"linecolor\": \"white\", \"ticks\": \"\"}}, \"scene\": {\"xaxis\": {\"backgroundcolor\": \"#E5ECF6\", \"gridcolor\": \"white\", \"gridwidth\": 2, \"linecolor\": \"white\", \"showbackground\": true, \"ticks\": \"\", \"zerolinecolor\": \"white\"}, \"yaxis\": {\"backgroundcolor\": \"#E5ECF6\", \"gridcolor\": \"white\", \"gridwidth\": 2, \"linecolor\": \"white\", \"showbackground\": true, \"ticks\": \"\", \"zerolinecolor\": \"white\"}, \"zaxis\": {\"backgroundcolor\": \"#E5ECF6\", \"gridcolor\": \"white\", \"gridwidth\": 2, \"linecolor\": \"white\", \"showbackground\": true, \"ticks\": \"\", \"zerolinecolor\": \"white\"}}, \"shapedefaults\": {\"line\": {\"color\": \"#2a3f5f\"}}, \"ternary\": {\"aaxis\": {\"gridcolor\": \"white\", \"linecolor\": \"white\", \"ticks\": \"\"}, \"baxis\": {\"gridcolor\": \"white\", \"linecolor\": \"white\", \"ticks\": \"\"}, \"bgcolor\": \"#E5ECF6\", \"caxis\": {\"gridcolor\": \"white\", \"linecolor\": \"white\", \"ticks\": \"\"}}, \"title\": {\"x\": 0.05}, \"xaxis\": {\"automargin\": true, \"gridcolor\": \"white\", \"linecolor\": \"white\", \"ticks\": \"\", \"title\": {\"standoff\": 15}, \"zerolinecolor\": \"white\", \"zerolinewidth\": 2}, \"yaxis\": {\"automargin\": true, \"gridcolor\": \"white\", \"linecolor\": \"white\", \"ticks\": \"\", \"title\": {\"standoff\": 15}, \"zerolinecolor\": \"white\", \"zerolinewidth\": 2}}}, \"title\": {\"text\": \"Sightings by year of disk shapes seen in the country gb\"}, \"xaxis\": {\"anchor\": \"y\", \"domain\": [0.0, 1.0], \"title\": {\"text\": \"x\"}}, \"yaxis\": {\"anchor\": \"x\", \"domain\": [0.0, 1.0], \"title\": {\"text\": \"count\"}}},                        {\"responsive\": true}                    ).then(function(){\n",
       "                            \n",
       "var gd = document.getElementById('c7b23fda-e42a-4d8a-bfe6-8f6050032a57');\n",
       "var x = new MutationObserver(function (mutations, observer) {{\n",
       "        var display = window.getComputedStyle(gd).display;\n",
       "        if (!display || display === 'none') {{\n",
       "            console.log([gd, 'removed!']);\n",
       "            Plotly.purge(gd);\n",
       "            observer.disconnect();\n",
       "        }}\n",
       "}});\n",
       "\n",
       "// Listen for the removal of the full notebook cells\n",
       "var notebookContainer = gd.closest('#notebook-container');\n",
       "if (notebookContainer) {{\n",
       "    x.observe(notebookContainer, {childList: true});\n",
       "}}\n",
       "\n",
       "// Listen for the clearing of the current output cell\n",
       "var outputEl = gd.closest('.output');\n",
       "if (outputEl) {{\n",
       "    x.observe(outputEl, {childList: true});\n",
       "}}\n",
       "\n",
       "                        })                };                });            </script>        </div>"
      ]
     },
     "metadata": {},
     "output_type": "display_data"
    },
    {
     "data": {
      "application/vnd.plotly.v1+json": {
       "config": {
        "plotlyServerURL": "https://plot.ly"
       },
       "data": [
        {
         "alignmentgroup": "True",
         "bingroup": "x",
         "hovertemplate": "x=%{x}<br>count=%{y}<extra></extra>",
         "legendgroup": "",
         "marker": {
          "color": "#636efa"
         },
         "name": "",
         "offsetgroup": "",
         "orientation": "v",
         "showlegend": false,
         "type": "histogram",
         "x": [
          1997,
          1967,
          1982,
          2007,
          2008,
          2008,
          1990,
          2003,
          2004,
          2011,
          2014,
          2014,
          2010,
          2005,
          2000,
          1979,
          2004,
          2007,
          2010,
          2008,
          2009,
          2007,
          2002,
          2001,
          2000,
          2004,
          2009,
          2009,
          2005,
          2009
         ],
         "xaxis": "x",
         "yaxis": "y"
        }
       ],
       "layout": {
        "barmode": "relative",
        "legend": {
         "tracegroupgap": 0
        },
        "template": {
         "data": {
          "bar": [
           {
            "error_x": {
             "color": "#2a3f5f"
            },
            "error_y": {
             "color": "#2a3f5f"
            },
            "marker": {
             "line": {
              "color": "#E5ECF6",
              "width": 0.5
             }
            },
            "type": "bar"
           }
          ],
          "barpolar": [
           {
            "marker": {
             "line": {
              "color": "#E5ECF6",
              "width": 0.5
             }
            },
            "type": "barpolar"
           }
          ],
          "carpet": [
           {
            "aaxis": {
             "endlinecolor": "#2a3f5f",
             "gridcolor": "white",
             "linecolor": "white",
             "minorgridcolor": "white",
             "startlinecolor": "#2a3f5f"
            },
            "baxis": {
             "endlinecolor": "#2a3f5f",
             "gridcolor": "white",
             "linecolor": "white",
             "minorgridcolor": "white",
             "startlinecolor": "#2a3f5f"
            },
            "type": "carpet"
           }
          ],
          "choropleth": [
           {
            "colorbar": {
             "outlinewidth": 0,
             "ticks": ""
            },
            "type": "choropleth"
           }
          ],
          "contour": [
           {
            "colorbar": {
             "outlinewidth": 0,
             "ticks": ""
            },
            "colorscale": [
             [
              0,
              "#0d0887"
             ],
             [
              0.1111111111111111,
              "#46039f"
             ],
             [
              0.2222222222222222,
              "#7201a8"
             ],
             [
              0.3333333333333333,
              "#9c179e"
             ],
             [
              0.4444444444444444,
              "#bd3786"
             ],
             [
              0.5555555555555556,
              "#d8576b"
             ],
             [
              0.6666666666666666,
              "#ed7953"
             ],
             [
              0.7777777777777778,
              "#fb9f3a"
             ],
             [
              0.8888888888888888,
              "#fdca26"
             ],
             [
              1,
              "#f0f921"
             ]
            ],
            "type": "contour"
           }
          ],
          "contourcarpet": [
           {
            "colorbar": {
             "outlinewidth": 0,
             "ticks": ""
            },
            "type": "contourcarpet"
           }
          ],
          "heatmap": [
           {
            "colorbar": {
             "outlinewidth": 0,
             "ticks": ""
            },
            "colorscale": [
             [
              0,
              "#0d0887"
             ],
             [
              0.1111111111111111,
              "#46039f"
             ],
             [
              0.2222222222222222,
              "#7201a8"
             ],
             [
              0.3333333333333333,
              "#9c179e"
             ],
             [
              0.4444444444444444,
              "#bd3786"
             ],
             [
              0.5555555555555556,
              "#d8576b"
             ],
             [
              0.6666666666666666,
              "#ed7953"
             ],
             [
              0.7777777777777778,
              "#fb9f3a"
             ],
             [
              0.8888888888888888,
              "#fdca26"
             ],
             [
              1,
              "#f0f921"
             ]
            ],
            "type": "heatmap"
           }
          ],
          "heatmapgl": [
           {
            "colorbar": {
             "outlinewidth": 0,
             "ticks": ""
            },
            "colorscale": [
             [
              0,
              "#0d0887"
             ],
             [
              0.1111111111111111,
              "#46039f"
             ],
             [
              0.2222222222222222,
              "#7201a8"
             ],
             [
              0.3333333333333333,
              "#9c179e"
             ],
             [
              0.4444444444444444,
              "#bd3786"
             ],
             [
              0.5555555555555556,
              "#d8576b"
             ],
             [
              0.6666666666666666,
              "#ed7953"
             ],
             [
              0.7777777777777778,
              "#fb9f3a"
             ],
             [
              0.8888888888888888,
              "#fdca26"
             ],
             [
              1,
              "#f0f921"
             ]
            ],
            "type": "heatmapgl"
           }
          ],
          "histogram": [
           {
            "marker": {
             "colorbar": {
              "outlinewidth": 0,
              "ticks": ""
             }
            },
            "type": "histogram"
           }
          ],
          "histogram2d": [
           {
            "colorbar": {
             "outlinewidth": 0,
             "ticks": ""
            },
            "colorscale": [
             [
              0,
              "#0d0887"
             ],
             [
              0.1111111111111111,
              "#46039f"
             ],
             [
              0.2222222222222222,
              "#7201a8"
             ],
             [
              0.3333333333333333,
              "#9c179e"
             ],
             [
              0.4444444444444444,
              "#bd3786"
             ],
             [
              0.5555555555555556,
              "#d8576b"
             ],
             [
              0.6666666666666666,
              "#ed7953"
             ],
             [
              0.7777777777777778,
              "#fb9f3a"
             ],
             [
              0.8888888888888888,
              "#fdca26"
             ],
             [
              1,
              "#f0f921"
             ]
            ],
            "type": "histogram2d"
           }
          ],
          "histogram2dcontour": [
           {
            "colorbar": {
             "outlinewidth": 0,
             "ticks": ""
            },
            "colorscale": [
             [
              0,
              "#0d0887"
             ],
             [
              0.1111111111111111,
              "#46039f"
             ],
             [
              0.2222222222222222,
              "#7201a8"
             ],
             [
              0.3333333333333333,
              "#9c179e"
             ],
             [
              0.4444444444444444,
              "#bd3786"
             ],
             [
              0.5555555555555556,
              "#d8576b"
             ],
             [
              0.6666666666666666,
              "#ed7953"
             ],
             [
              0.7777777777777778,
              "#fb9f3a"
             ],
             [
              0.8888888888888888,
              "#fdca26"
             ],
             [
              1,
              "#f0f921"
             ]
            ],
            "type": "histogram2dcontour"
           }
          ],
          "mesh3d": [
           {
            "colorbar": {
             "outlinewidth": 0,
             "ticks": ""
            },
            "type": "mesh3d"
           }
          ],
          "parcoords": [
           {
            "line": {
             "colorbar": {
              "outlinewidth": 0,
              "ticks": ""
             }
            },
            "type": "parcoords"
           }
          ],
          "pie": [
           {
            "automargin": true,
            "type": "pie"
           }
          ],
          "scatter": [
           {
            "marker": {
             "colorbar": {
              "outlinewidth": 0,
              "ticks": ""
             }
            },
            "type": "scatter"
           }
          ],
          "scatter3d": [
           {
            "line": {
             "colorbar": {
              "outlinewidth": 0,
              "ticks": ""
             }
            },
            "marker": {
             "colorbar": {
              "outlinewidth": 0,
              "ticks": ""
             }
            },
            "type": "scatter3d"
           }
          ],
          "scattercarpet": [
           {
            "marker": {
             "colorbar": {
              "outlinewidth": 0,
              "ticks": ""
             }
            },
            "type": "scattercarpet"
           }
          ],
          "scattergeo": [
           {
            "marker": {
             "colorbar": {
              "outlinewidth": 0,
              "ticks": ""
             }
            },
            "type": "scattergeo"
           }
          ],
          "scattergl": [
           {
            "marker": {
             "colorbar": {
              "outlinewidth": 0,
              "ticks": ""
             }
            },
            "type": "scattergl"
           }
          ],
          "scattermapbox": [
           {
            "marker": {
             "colorbar": {
              "outlinewidth": 0,
              "ticks": ""
             }
            },
            "type": "scattermapbox"
           }
          ],
          "scatterpolar": [
           {
            "marker": {
             "colorbar": {
              "outlinewidth": 0,
              "ticks": ""
             }
            },
            "type": "scatterpolar"
           }
          ],
          "scatterpolargl": [
           {
            "marker": {
             "colorbar": {
              "outlinewidth": 0,
              "ticks": ""
             }
            },
            "type": "scatterpolargl"
           }
          ],
          "scatterternary": [
           {
            "marker": {
             "colorbar": {
              "outlinewidth": 0,
              "ticks": ""
             }
            },
            "type": "scatterternary"
           }
          ],
          "surface": [
           {
            "colorbar": {
             "outlinewidth": 0,
             "ticks": ""
            },
            "colorscale": [
             [
              0,
              "#0d0887"
             ],
             [
              0.1111111111111111,
              "#46039f"
             ],
             [
              0.2222222222222222,
              "#7201a8"
             ],
             [
              0.3333333333333333,
              "#9c179e"
             ],
             [
              0.4444444444444444,
              "#bd3786"
             ],
             [
              0.5555555555555556,
              "#d8576b"
             ],
             [
              0.6666666666666666,
              "#ed7953"
             ],
             [
              0.7777777777777778,
              "#fb9f3a"
             ],
             [
              0.8888888888888888,
              "#fdca26"
             ],
             [
              1,
              "#f0f921"
             ]
            ],
            "type": "surface"
           }
          ],
          "table": [
           {
            "cells": {
             "fill": {
              "color": "#EBF0F8"
             },
             "line": {
              "color": "white"
             }
            },
            "header": {
             "fill": {
              "color": "#C8D4E3"
             },
             "line": {
              "color": "white"
             }
            },
            "type": "table"
           }
          ]
         },
         "layout": {
          "annotationdefaults": {
           "arrowcolor": "#2a3f5f",
           "arrowhead": 0,
           "arrowwidth": 1
          },
          "autotypenumbers": "strict",
          "coloraxis": {
           "colorbar": {
            "outlinewidth": 0,
            "ticks": ""
           }
          },
          "colorscale": {
           "diverging": [
            [
             0,
             "#8e0152"
            ],
            [
             0.1,
             "#c51b7d"
            ],
            [
             0.2,
             "#de77ae"
            ],
            [
             0.3,
             "#f1b6da"
            ],
            [
             0.4,
             "#fde0ef"
            ],
            [
             0.5,
             "#f7f7f7"
            ],
            [
             0.6,
             "#e6f5d0"
            ],
            [
             0.7,
             "#b8e186"
            ],
            [
             0.8,
             "#7fbc41"
            ],
            [
             0.9,
             "#4d9221"
            ],
            [
             1,
             "#276419"
            ]
           ],
           "sequential": [
            [
             0,
             "#0d0887"
            ],
            [
             0.1111111111111111,
             "#46039f"
            ],
            [
             0.2222222222222222,
             "#7201a8"
            ],
            [
             0.3333333333333333,
             "#9c179e"
            ],
            [
             0.4444444444444444,
             "#bd3786"
            ],
            [
             0.5555555555555556,
             "#d8576b"
            ],
            [
             0.6666666666666666,
             "#ed7953"
            ],
            [
             0.7777777777777778,
             "#fb9f3a"
            ],
            [
             0.8888888888888888,
             "#fdca26"
            ],
            [
             1,
             "#f0f921"
            ]
           ],
           "sequentialminus": [
            [
             0,
             "#0d0887"
            ],
            [
             0.1111111111111111,
             "#46039f"
            ],
            [
             0.2222222222222222,
             "#7201a8"
            ],
            [
             0.3333333333333333,
             "#9c179e"
            ],
            [
             0.4444444444444444,
             "#bd3786"
            ],
            [
             0.5555555555555556,
             "#d8576b"
            ],
            [
             0.6666666666666666,
             "#ed7953"
            ],
            [
             0.7777777777777778,
             "#fb9f3a"
            ],
            [
             0.8888888888888888,
             "#fdca26"
            ],
            [
             1,
             "#f0f921"
            ]
           ]
          },
          "colorway": [
           "#636efa",
           "#EF553B",
           "#00cc96",
           "#ab63fa",
           "#FFA15A",
           "#19d3f3",
           "#FF6692",
           "#B6E880",
           "#FF97FF",
           "#FECB52"
          ],
          "font": {
           "color": "#2a3f5f"
          },
          "geo": {
           "bgcolor": "white",
           "lakecolor": "white",
           "landcolor": "#E5ECF6",
           "showlakes": true,
           "showland": true,
           "subunitcolor": "white"
          },
          "hoverlabel": {
           "align": "left"
          },
          "hovermode": "closest",
          "mapbox": {
           "style": "light"
          },
          "paper_bgcolor": "white",
          "plot_bgcolor": "#E5ECF6",
          "polar": {
           "angularaxis": {
            "gridcolor": "white",
            "linecolor": "white",
            "ticks": ""
           },
           "bgcolor": "#E5ECF6",
           "radialaxis": {
            "gridcolor": "white",
            "linecolor": "white",
            "ticks": ""
           }
          },
          "scene": {
           "xaxis": {
            "backgroundcolor": "#E5ECF6",
            "gridcolor": "white",
            "gridwidth": 2,
            "linecolor": "white",
            "showbackground": true,
            "ticks": "",
            "zerolinecolor": "white"
           },
           "yaxis": {
            "backgroundcolor": "#E5ECF6",
            "gridcolor": "white",
            "gridwidth": 2,
            "linecolor": "white",
            "showbackground": true,
            "ticks": "",
            "zerolinecolor": "white"
           },
           "zaxis": {
            "backgroundcolor": "#E5ECF6",
            "gridcolor": "white",
            "gridwidth": 2,
            "linecolor": "white",
            "showbackground": true,
            "ticks": "",
            "zerolinecolor": "white"
           }
          },
          "shapedefaults": {
           "line": {
            "color": "#2a3f5f"
           }
          },
          "ternary": {
           "aaxis": {
            "gridcolor": "white",
            "linecolor": "white",
            "ticks": ""
           },
           "baxis": {
            "gridcolor": "white",
            "linecolor": "white",
            "ticks": ""
           },
           "bgcolor": "#E5ECF6",
           "caxis": {
            "gridcolor": "white",
            "linecolor": "white",
            "ticks": ""
           }
          },
          "title": {
           "x": 0.05
          },
          "xaxis": {
           "automargin": true,
           "gridcolor": "white",
           "linecolor": "white",
           "ticks": "",
           "title": {
            "standoff": 15
           },
           "zerolinecolor": "white",
           "zerolinewidth": 2
          },
          "yaxis": {
           "automargin": true,
           "gridcolor": "white",
           "linecolor": "white",
           "ticks": "",
           "title": {
            "standoff": 15
           },
           "zerolinecolor": "white",
           "zerolinewidth": 2
          }
         }
        },
        "title": {
         "text": "Sightings by year of cylinder shapes seen in the country gb"
        },
        "xaxis": {
         "anchor": "y",
         "domain": [
          0,
          1
         ],
         "title": {
          "text": "x"
         }
        },
        "yaxis": {
         "anchor": "x",
         "domain": [
          0,
          1
         ],
         "title": {
          "text": "count"
         }
        }
       }
      },
      "text/html": [
       "<div>                            <div id=\"b42967fe-a1bd-42f1-b9e9-504321531d4e\" class=\"plotly-graph-div\" style=\"height:525px; width:100%;\"></div>            <script type=\"text/javascript\">                require([\"plotly\"], function(Plotly) {                    window.PLOTLYENV=window.PLOTLYENV || {};                                    if (document.getElementById(\"b42967fe-a1bd-42f1-b9e9-504321531d4e\")) {                    Plotly.newPlot(                        \"b42967fe-a1bd-42f1-b9e9-504321531d4e\",                        [{\"alignmentgroup\": \"True\", \"bingroup\": \"x\", \"hovertemplate\": \"x=%{x}<br>count=%{y}<extra></extra>\", \"legendgroup\": \"\", \"marker\": {\"color\": \"#636efa\"}, \"name\": \"\", \"offsetgroup\": \"\", \"orientation\": \"v\", \"showlegend\": false, \"type\": \"histogram\", \"x\": [1997, 1967, 1982, 2007, 2008, 2008, 1990, 2003, 2004, 2011, 2014, 2014, 2010, 2005, 2000, 1979, 2004, 2007, 2010, 2008, 2009, 2007, 2002, 2001, 2000, 2004, 2009, 2009, 2005, 2009], \"xaxis\": \"x\", \"yaxis\": \"y\"}],                        {\"barmode\": \"relative\", \"legend\": {\"tracegroupgap\": 0}, \"template\": {\"data\": {\"bar\": [{\"error_x\": {\"color\": \"#2a3f5f\"}, \"error_y\": {\"color\": \"#2a3f5f\"}, \"marker\": {\"line\": {\"color\": \"#E5ECF6\", \"width\": 0.5}}, \"type\": \"bar\"}], \"barpolar\": [{\"marker\": {\"line\": {\"color\": \"#E5ECF6\", \"width\": 0.5}}, \"type\": \"barpolar\"}], \"carpet\": [{\"aaxis\": {\"endlinecolor\": \"#2a3f5f\", \"gridcolor\": \"white\", \"linecolor\": \"white\", \"minorgridcolor\": \"white\", \"startlinecolor\": \"#2a3f5f\"}, \"baxis\": {\"endlinecolor\": \"#2a3f5f\", \"gridcolor\": \"white\", \"linecolor\": \"white\", \"minorgridcolor\": \"white\", \"startlinecolor\": \"#2a3f5f\"}, \"type\": \"carpet\"}], \"choropleth\": [{\"colorbar\": {\"outlinewidth\": 0, \"ticks\": \"\"}, \"type\": \"choropleth\"}], \"contour\": [{\"colorbar\": {\"outlinewidth\": 0, \"ticks\": \"\"}, \"colorscale\": [[0.0, \"#0d0887\"], [0.1111111111111111, \"#46039f\"], [0.2222222222222222, \"#7201a8\"], [0.3333333333333333, \"#9c179e\"], [0.4444444444444444, \"#bd3786\"], [0.5555555555555556, \"#d8576b\"], [0.6666666666666666, \"#ed7953\"], [0.7777777777777778, \"#fb9f3a\"], [0.8888888888888888, \"#fdca26\"], [1.0, \"#f0f921\"]], \"type\": \"contour\"}], \"contourcarpet\": [{\"colorbar\": {\"outlinewidth\": 0, \"ticks\": \"\"}, \"type\": \"contourcarpet\"}], \"heatmap\": [{\"colorbar\": {\"outlinewidth\": 0, \"ticks\": \"\"}, \"colorscale\": [[0.0, \"#0d0887\"], [0.1111111111111111, \"#46039f\"], [0.2222222222222222, \"#7201a8\"], [0.3333333333333333, \"#9c179e\"], [0.4444444444444444, \"#bd3786\"], [0.5555555555555556, \"#d8576b\"], [0.6666666666666666, \"#ed7953\"], [0.7777777777777778, \"#fb9f3a\"], [0.8888888888888888, \"#fdca26\"], [1.0, \"#f0f921\"]], \"type\": \"heatmap\"}], \"heatmapgl\": [{\"colorbar\": {\"outlinewidth\": 0, \"ticks\": \"\"}, \"colorscale\": [[0.0, \"#0d0887\"], [0.1111111111111111, \"#46039f\"], [0.2222222222222222, \"#7201a8\"], [0.3333333333333333, \"#9c179e\"], [0.4444444444444444, \"#bd3786\"], [0.5555555555555556, \"#d8576b\"], [0.6666666666666666, \"#ed7953\"], [0.7777777777777778, \"#fb9f3a\"], [0.8888888888888888, \"#fdca26\"], [1.0, \"#f0f921\"]], \"type\": \"heatmapgl\"}], \"histogram\": [{\"marker\": {\"colorbar\": {\"outlinewidth\": 0, \"ticks\": \"\"}}, \"type\": \"histogram\"}], \"histogram2d\": [{\"colorbar\": {\"outlinewidth\": 0, \"ticks\": \"\"}, \"colorscale\": [[0.0, \"#0d0887\"], [0.1111111111111111, \"#46039f\"], [0.2222222222222222, \"#7201a8\"], [0.3333333333333333, \"#9c179e\"], [0.4444444444444444, \"#bd3786\"], [0.5555555555555556, \"#d8576b\"], [0.6666666666666666, \"#ed7953\"], [0.7777777777777778, \"#fb9f3a\"], [0.8888888888888888, \"#fdca26\"], [1.0, \"#f0f921\"]], \"type\": \"histogram2d\"}], \"histogram2dcontour\": [{\"colorbar\": {\"outlinewidth\": 0, \"ticks\": \"\"}, \"colorscale\": [[0.0, \"#0d0887\"], [0.1111111111111111, \"#46039f\"], [0.2222222222222222, \"#7201a8\"], [0.3333333333333333, \"#9c179e\"], [0.4444444444444444, \"#bd3786\"], [0.5555555555555556, \"#d8576b\"], [0.6666666666666666, \"#ed7953\"], [0.7777777777777778, \"#fb9f3a\"], [0.8888888888888888, \"#fdca26\"], [1.0, \"#f0f921\"]], \"type\": \"histogram2dcontour\"}], \"mesh3d\": [{\"colorbar\": {\"outlinewidth\": 0, \"ticks\": \"\"}, \"type\": \"mesh3d\"}], \"parcoords\": [{\"line\": {\"colorbar\": {\"outlinewidth\": 0, \"ticks\": \"\"}}, \"type\": \"parcoords\"}], \"pie\": [{\"automargin\": true, \"type\": \"pie\"}], \"scatter\": [{\"marker\": {\"colorbar\": {\"outlinewidth\": 0, \"ticks\": \"\"}}, \"type\": \"scatter\"}], \"scatter3d\": [{\"line\": {\"colorbar\": {\"outlinewidth\": 0, \"ticks\": \"\"}}, \"marker\": {\"colorbar\": {\"outlinewidth\": 0, \"ticks\": \"\"}}, \"type\": \"scatter3d\"}], \"scattercarpet\": [{\"marker\": {\"colorbar\": {\"outlinewidth\": 0, \"ticks\": \"\"}}, \"type\": \"scattercarpet\"}], \"scattergeo\": [{\"marker\": {\"colorbar\": {\"outlinewidth\": 0, \"ticks\": \"\"}}, \"type\": \"scattergeo\"}], \"scattergl\": [{\"marker\": {\"colorbar\": {\"outlinewidth\": 0, \"ticks\": \"\"}}, \"type\": \"scattergl\"}], \"scattermapbox\": [{\"marker\": {\"colorbar\": {\"outlinewidth\": 0, \"ticks\": \"\"}}, \"type\": \"scattermapbox\"}], \"scatterpolar\": [{\"marker\": {\"colorbar\": {\"outlinewidth\": 0, \"ticks\": \"\"}}, \"type\": \"scatterpolar\"}], \"scatterpolargl\": [{\"marker\": {\"colorbar\": {\"outlinewidth\": 0, \"ticks\": \"\"}}, \"type\": \"scatterpolargl\"}], \"scatterternary\": [{\"marker\": {\"colorbar\": {\"outlinewidth\": 0, \"ticks\": \"\"}}, \"type\": \"scatterternary\"}], \"surface\": [{\"colorbar\": {\"outlinewidth\": 0, \"ticks\": \"\"}, \"colorscale\": [[0.0, \"#0d0887\"], [0.1111111111111111, \"#46039f\"], [0.2222222222222222, \"#7201a8\"], [0.3333333333333333, \"#9c179e\"], [0.4444444444444444, \"#bd3786\"], [0.5555555555555556, \"#d8576b\"], [0.6666666666666666, \"#ed7953\"], [0.7777777777777778, \"#fb9f3a\"], [0.8888888888888888, \"#fdca26\"], [1.0, \"#f0f921\"]], \"type\": \"surface\"}], \"table\": [{\"cells\": {\"fill\": {\"color\": \"#EBF0F8\"}, \"line\": {\"color\": \"white\"}}, \"header\": {\"fill\": {\"color\": \"#C8D4E3\"}, \"line\": {\"color\": \"white\"}}, \"type\": \"table\"}]}, \"layout\": {\"annotationdefaults\": {\"arrowcolor\": \"#2a3f5f\", \"arrowhead\": 0, \"arrowwidth\": 1}, \"autotypenumbers\": \"strict\", \"coloraxis\": {\"colorbar\": {\"outlinewidth\": 0, \"ticks\": \"\"}}, \"colorscale\": {\"diverging\": [[0, \"#8e0152\"], [0.1, \"#c51b7d\"], [0.2, \"#de77ae\"], [0.3, \"#f1b6da\"], [0.4, \"#fde0ef\"], [0.5, \"#f7f7f7\"], [0.6, \"#e6f5d0\"], [0.7, \"#b8e186\"], [0.8, \"#7fbc41\"], [0.9, \"#4d9221\"], [1, \"#276419\"]], \"sequential\": [[0.0, \"#0d0887\"], [0.1111111111111111, \"#46039f\"], [0.2222222222222222, \"#7201a8\"], [0.3333333333333333, \"#9c179e\"], [0.4444444444444444, \"#bd3786\"], [0.5555555555555556, \"#d8576b\"], [0.6666666666666666, \"#ed7953\"], [0.7777777777777778, \"#fb9f3a\"], [0.8888888888888888, \"#fdca26\"], [1.0, \"#f0f921\"]], \"sequentialminus\": [[0.0, \"#0d0887\"], [0.1111111111111111, \"#46039f\"], [0.2222222222222222, \"#7201a8\"], [0.3333333333333333, \"#9c179e\"], [0.4444444444444444, \"#bd3786\"], [0.5555555555555556, \"#d8576b\"], [0.6666666666666666, \"#ed7953\"], [0.7777777777777778, \"#fb9f3a\"], [0.8888888888888888, \"#fdca26\"], [1.0, \"#f0f921\"]]}, \"colorway\": [\"#636efa\", \"#EF553B\", \"#00cc96\", \"#ab63fa\", \"#FFA15A\", \"#19d3f3\", \"#FF6692\", \"#B6E880\", \"#FF97FF\", \"#FECB52\"], \"font\": {\"color\": \"#2a3f5f\"}, \"geo\": {\"bgcolor\": \"white\", \"lakecolor\": \"white\", \"landcolor\": \"#E5ECF6\", \"showlakes\": true, \"showland\": true, \"subunitcolor\": \"white\"}, \"hoverlabel\": {\"align\": \"left\"}, \"hovermode\": \"closest\", \"mapbox\": {\"style\": \"light\"}, \"paper_bgcolor\": \"white\", \"plot_bgcolor\": \"#E5ECF6\", \"polar\": {\"angularaxis\": {\"gridcolor\": \"white\", \"linecolor\": \"white\", \"ticks\": \"\"}, \"bgcolor\": \"#E5ECF6\", \"radialaxis\": {\"gridcolor\": \"white\", \"linecolor\": \"white\", \"ticks\": \"\"}}, \"scene\": {\"xaxis\": {\"backgroundcolor\": \"#E5ECF6\", \"gridcolor\": \"white\", \"gridwidth\": 2, \"linecolor\": \"white\", \"showbackground\": true, \"ticks\": \"\", \"zerolinecolor\": \"white\"}, \"yaxis\": {\"backgroundcolor\": \"#E5ECF6\", \"gridcolor\": \"white\", \"gridwidth\": 2, \"linecolor\": \"white\", \"showbackground\": true, \"ticks\": \"\", \"zerolinecolor\": \"white\"}, \"zaxis\": {\"backgroundcolor\": \"#E5ECF6\", \"gridcolor\": \"white\", \"gridwidth\": 2, \"linecolor\": \"white\", \"showbackground\": true, \"ticks\": \"\", \"zerolinecolor\": \"white\"}}, \"shapedefaults\": {\"line\": {\"color\": \"#2a3f5f\"}}, \"ternary\": {\"aaxis\": {\"gridcolor\": \"white\", \"linecolor\": \"white\", \"ticks\": \"\"}, \"baxis\": {\"gridcolor\": \"white\", \"linecolor\": \"white\", \"ticks\": \"\"}, \"bgcolor\": \"#E5ECF6\", \"caxis\": {\"gridcolor\": \"white\", \"linecolor\": \"white\", \"ticks\": \"\"}}, \"title\": {\"x\": 0.05}, \"xaxis\": {\"automargin\": true, \"gridcolor\": \"white\", \"linecolor\": \"white\", \"ticks\": \"\", \"title\": {\"standoff\": 15}, \"zerolinecolor\": \"white\", \"zerolinewidth\": 2}, \"yaxis\": {\"automargin\": true, \"gridcolor\": \"white\", \"linecolor\": \"white\", \"ticks\": \"\", \"title\": {\"standoff\": 15}, \"zerolinecolor\": \"white\", \"zerolinewidth\": 2}}}, \"title\": {\"text\": \"Sightings by year of cylinder shapes seen in the country gb\"}, \"xaxis\": {\"anchor\": \"y\", \"domain\": [0.0, 1.0], \"title\": {\"text\": \"x\"}}, \"yaxis\": {\"anchor\": \"x\", \"domain\": [0.0, 1.0], \"title\": {\"text\": \"count\"}}},                        {\"responsive\": true}                    ).then(function(){\n",
       "                            \n",
       "var gd = document.getElementById('b42967fe-a1bd-42f1-b9e9-504321531d4e');\n",
       "var x = new MutationObserver(function (mutations, observer) {{\n",
       "        var display = window.getComputedStyle(gd).display;\n",
       "        if (!display || display === 'none') {{\n",
       "            console.log([gd, 'removed!']);\n",
       "            Plotly.purge(gd);\n",
       "            observer.disconnect();\n",
       "        }}\n",
       "}});\n",
       "\n",
       "// Listen for the removal of the full notebook cells\n",
       "var notebookContainer = gd.closest('#notebook-container');\n",
       "if (notebookContainer) {{\n",
       "    x.observe(notebookContainer, {childList: true});\n",
       "}}\n",
       "\n",
       "// Listen for the clearing of the current output cell\n",
       "var outputEl = gd.closest('.output');\n",
       "if (outputEl) {{\n",
       "    x.observe(outputEl, {childList: true});\n",
       "}}\n",
       "\n",
       "                        })                };                });            </script>        </div>"
      ]
     },
     "metadata": {},
     "output_type": "display_data"
    }
   ],
   "source": [
    "ufo_data = pathlib.Path.cwd() / \"Data\" / \"ufos.csv\"\n",
    "\n",
    "analyze_sightings(ufo_data, \"us\", \"disk\")\n",
    "analyze_sightings(ufo_data, \"us\", \"cylinder\")\n",
    "analyze_sightings(ufo_data, \"gb\", \"disk\")\n",
    "analyze_sightings(ufo_data, \"gb\", \"cylinder\")"
   ]
  },
  {
   "cell_type": "markdown",
   "id": "89e79514",
   "metadata": {},
   "source": [
    "## Reflections\n",
    "\n",
    "This does not seem to be a very good representation of the data for comparision. Perhaps a different chart would be more appropriate."
   ]
  },
  {
   "cell_type": "code",
   "execution_count": null,
   "id": "86e7151f",
   "metadata": {},
   "outputs": [],
   "source": []
  }
 ],
 "metadata": {
  "kernelspec": {
   "display_name": "Python 3",
   "language": "python",
   "name": "python3"
  },
  "language_info": {
   "codemirror_mode": {
    "name": "ipython",
    "version": 3
   },
   "file_extension": ".py",
   "mimetype": "text/x-python",
   "name": "python",
   "nbconvert_exporter": "python",
   "pygments_lexer": "ipython3",
   "version": "3.7.10"
  },
  "varInspector": {
   "cols": {
    "lenName": 16,
    "lenType": 16,
    "lenVar": 40
   },
   "kernels_config": {
    "python": {
     "delete_cmd_postfix": "",
     "delete_cmd_prefix": "del ",
     "library": "var_list.py",
     "varRefreshCmd": "print(var_dic_list())"
    },
    "r": {
     "delete_cmd_postfix": ") ",
     "delete_cmd_prefix": "rm(",
     "library": "var_list.r",
     "varRefreshCmd": "cat(var_dic_list()) "
    }
   },
   "types_to_exclude": [
    "module",
    "function",
    "builtin_function_or_method",
    "instance",
    "_Feature"
   ],
   "window_display": false
  }
 },
 "nbformat": 4,
 "nbformat_minor": 5
}
